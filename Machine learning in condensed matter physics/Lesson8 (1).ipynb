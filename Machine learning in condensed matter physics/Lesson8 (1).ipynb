{
  "cells": [
    {
      "cell_type": "markdown",
      "metadata": {
        "id": "BmT7iGMQqMjw"
      },
      "source": [
        "## Объявляем библиотеки"
      ]
    },
    {
      "cell_type": "code",
      "execution_count": 2,
      "metadata": {
        "id": "_jDcFZ7HWRDc"
      },
      "outputs": [],
      "source": [
        "import sys\n",
        "import sklearn\n",
        "import tensorflow as tf\n",
        "from tensorflow import keras\n",
        "import numpy as np\n",
        "import os\n",
        "%matplotlib inline\n",
        "import matplotlib as mpl\n",
        "import matplotlib.pyplot as plt\n",
        "mpl.rc('axes', labelsize=14)\n",
        "mpl.rc('xtick', labelsize=12)\n",
        "mpl.rc('ytick', labelsize=12)"
      ]
    },
    {
      "cell_type": "markdown",
      "metadata": {
        "id": "TXZJnggSqMj4"
      },
      "source": [
        "## Скачиваем и визуализируем данные"
      ]
    },
    {
      "cell_type": "code",
      "execution_count": null,
      "metadata": {
        "colab": {
          "base_uri": "https://localhost:8080/"
        },
        "id": "HzkNw5JPWRD-",
        "outputId": "f38dba34-0186-499c-cbc4-50596fdd984e"
      },
      "outputs": [
        {
          "output_type": "stream",
          "name": "stdout",
          "text": [
            "Downloading data from https://storage.googleapis.com/tensorflow/tf-keras-datasets/mnist.npz\n",
            "11490434/11490434 [==============================] - 0s 0us/step\n"
          ]
        }
      ],
      "source": [
        "mnist = keras.datasets.mnist\n",
        "(X_train_full, y_train_full), (X_test, y_test) = mnist.load_data()"
      ]
    },
    {
      "cell_type": "code",
      "execution_count": null,
      "metadata": {
        "id": "XKaXuro7WREC"
      },
      "outputs": [],
      "source": [
        "X_valid, X_train = X_train_full[:5000] / 255., X_train_full[5000:] / 255.\n",
        "y_valid, y_train = y_train_full[:5000], y_train_full[5000:]\n",
        "X_test = X_test / 255."
      ]
    },
    {
      "cell_type": "code",
      "execution_count": null,
      "metadata": {
        "colab": {
          "base_uri": "https://localhost:8080/",
          "height": 269
        },
        "id": "DdCEmWCeWREG",
        "outputId": "458f6c58-5d56-4f2e-9179-a87584b8ce1d"
      },
      "outputs": [
        {
          "output_type": "display_data",
          "data": {
            "text/plain": [
              "<Figure size 432x288 with 1 Axes>"
            ],
            "image/png": "[encoded data removed]"
          },
          "metadata": {
            "needs_background": "light"
          }
        }
      ],
      "source": [
        "plt.imshow(X_train[10], cmap='gray')\n",
        "plt.show()"
      ]
    },
    {
      "cell_type": "markdown",
      "metadata": {
        "id": "ki76PoXIqMj7"
      },
      "source": [
        "## Обучаем полносвязную нейронную сеть"
      ]
    },
    {
      "cell_type": "code",
      "execution_count": null,
      "metadata": {
        "id": "MW33B8fcWREH"
      },
      "outputs": [],
      "source": [
        "model = keras.models.Sequential([\n",
        "    keras.layers.Flatten(input_shape=[28, 28]),\n",
        "    keras.layers.Dense(300, activation=\"relu\"),\n",
        "    keras.layers.Dense(100, activation=\"relu\"),\n",
        "    keras.layers.Dense(10, activation=\"softmax\")\n",
        "])"
      ]
    },
    {
      "cell_type": "code",
      "execution_count": null,
      "metadata": {
        "id": "GnB-WFzBWREI"
      },
      "outputs": [],
      "source": [
        "model.compile(loss=\"sparse_categorical_crossentropy\",\n",
        "              optimizer=\"sgd\",\n",
        "              metrics=[\"accuracy\"])"
      ]
    },
    {
      "cell_type": "code",
      "execution_count": null,
      "metadata": {
        "colab": {
          "base_uri": "https://localhost:8080/"
        },
        "id": "3W7yq8V9WREJ",
        "outputId": "5a4e1352-6718-4c3e-a4fb-210f0cc43a1d"
      },
      "outputs": [
        {
          "output_type": "stream",
          "name": "stdout",
          "text": [
            "Epoch 1/5\n",
            "1719/1719 [==============================] - 8s 3ms/step - loss: 0.6073 - accuracy: 0.8443 - val_loss: 0.3012 - val_accuracy: 0.9180\n",
            "Epoch 2/5\n",
            "1719/1719 [==============================] - 5s 3ms/step - loss: 0.2841 - accuracy: 0.9193 - val_loss: 0.2321 - val_accuracy: 0.9376\n",
            "Epoch 3/5\n",
            "1719/1719 [==============================] - 5s 3ms/step - loss: 0.2316 - accuracy: 0.9342 - val_loss: 0.1990 - val_accuracy: 0.9448\n",
            "Epoch 4/5\n",
            "1719/1719 [==============================] - 5s 3ms/step - loss: 0.1970 - accuracy: 0.9448 - val_loss: 0.1803 - val_accuracy: 0.9500\n",
            "Epoch 5/5\n",
            "1719/1719 [==============================] - 5s 3ms/step - loss: 0.1714 - accuracy: 0.9513 - val_loss: 0.1553 - val_accuracy: 0.9564\n"
          ]
        }
      ],
      "source": [
        "history = model.fit(X_train, y_train, epochs=5,\n",
        "                    validation_data=(X_valid, y_valid))"
      ]
    },
    {
      "cell_type": "code",
      "execution_count": null,
      "metadata": {
        "colab": {
          "base_uri": "https://localhost:8080/"
        },
        "id": "DspoZol5WREK",
        "outputId": "879433c0-4de0-498a-dc43-6d3c7f98849c"
      },
      "outputs": [
        {
          "output_type": "stream",
          "name": "stdout",
          "text": [
            "313/313 [==============================] - 1s 2ms/step - loss: 0.1603 - accuracy: 0.9521\n"
          ]
        },
        {
          "output_type": "execute_result",
          "data": {
            "text/plain": [
              "[0.16034121811389923, 0.9520999789237976]"
            ]
          },
          "metadata": {},
          "execution_count": 8
        }
      ],
      "source": [
        "model.evaluate(X_test, y_test)"
      ]
    },
    {
      "cell_type": "code",
      "execution_count": null,
      "metadata": {
        "colab": {
          "base_uri": "https://localhost:8080/"
        },
        "id": "uuo4FO8xWREM",
        "outputId": "f57938b0-071d-4b04-f29e-d321ad1ef9dc"
      },
      "outputs": [
        {
          "output_type": "stream",
          "name": "stdout",
          "text": [
            "1/1 [==============================] - 0s 69ms/step\n"
          ]
        },
        {
          "output_type": "execute_result",
          "data": {
            "text/plain": [
              "array([[0.  , 0.  , 0.  , 0.  , 0.  , 0.  , 0.  , 1.  , 0.  , 0.  ],\n",
              "       [0.  , 0.  , 0.99, 0.01, 0.  , 0.  , 0.  , 0.  , 0.  , 0.  ],\n",
              "       [0.  , 0.98, 0.  , 0.  , 0.  , 0.  , 0.  , 0.01, 0.  , 0.  ]],\n",
              "      dtype=float32)"
            ]
          },
          "metadata": {},
          "execution_count": 9
        }
      ],
      "source": [
        "X_new = X_test[:3]\n",
        "y_proba = model.predict(X_new)\n",
        "y_proba.round(2)"
      ]
    },
    {
      "cell_type": "code",
      "execution_count": null,
      "metadata": {
        "colab": {
          "base_uri": "https://localhost:8080/",
          "height": 269
        },
        "id": "fvoZ7d13WrSq",
        "outputId": "9f2198bf-5fae-4ad9-caa4-fd55b12ff1fa"
      },
      "outputs": [
        {
          "output_type": "display_data",
          "data": {
            "text/plain": [
              "<Figure size 432x288 with 1 Axes>"
            ],
            "image/png": "[encoded data removed]"
          },
          "metadata": {
            "needs_background": "light"
          }
        }
      ],
      "source": [
        "plt.imshow(X_test[1], cmap='gray')\n",
        "plt.show()"
      ]
    },
    {
      "cell_type": "markdown",
      "metadata": {
        "id": "2J65kkBpqMkD"
      },
      "source": [
        "## Обучаем сверточную нейронную сеть"
      ]
    },
    {
      "cell_type": "code",
      "execution_count": null,
      "metadata": {
        "colab": {
          "base_uri": "https://localhost:8080/"
        },
        "id": "bQDcWPyDWREO",
        "outputId": "2850bedb-7c50-44d7-bc2e-66d9efcba2c6"
      },
      "outputs": [
        {
          "output_type": "execute_result",
          "data": {
            "text/plain": [
              "(55000, 28, 28)"
            ]
          },
          "metadata": {},
          "execution_count": 11
        }
      ],
      "source": [
        "X_train.shape"
      ]
    },
    {
      "cell_type": "code",
      "execution_count": null,
      "metadata": {
        "id": "JePkBCpyWREd"
      },
      "outputs": [],
      "source": [
        "X_train = X_train[..., np.newaxis]\n",
        "X_valid = X_valid[..., np.newaxis]\n",
        "X_test = X_test[..., np.newaxis]"
      ]
    },
    {
      "cell_type": "code",
      "execution_count": null,
      "metadata": {
        "colab": {
          "base_uri": "https://localhost:8080/"
        },
        "id": "a8PrKv_HWREd",
        "outputId": "ecf09c64-783d-4a13-cab4-00b6d22e862d"
      },
      "outputs": [
        {
          "output_type": "execute_result",
          "data": {
            "text/plain": [
              "(55000, 28, 28, 1)"
            ]
          },
          "metadata": {},
          "execution_count": 13
        }
      ],
      "source": [
        "X_train.shape"
      ]
    },
    {
      "cell_type": "code",
      "execution_count": 3,
      "metadata": {
        "id": "_HA2zJIRWREf"
      },
      "outputs": [],
      "source": [
        "from functools import partial\n",
        "\n",
        "DefaultConv2D = partial(keras.layers.Conv2D,\n",
        "                        kernel_size=3, activation='relu', padding=\"SAME\")\n",
        "\n",
        "model = keras.models.Sequential([\n",
        "    DefaultConv2D(filters=64, kernel_size=7, input_shape=[28, 28, 1]),\n",
        "    keras.layers.MaxPooling2D(pool_size=2),\n",
        "    DefaultConv2D(filters=128),\n",
        "    DefaultConv2D(filters=128),\n",
        "    keras.layers.MaxPooling2D(pool_size=2),\n",
        "    DefaultConv2D(filters=256),\n",
        "    DefaultConv2D(filters=256),\n",
        "    keras.layers.MaxPooling2D(pool_size=2),\n",
        "    keras.layers.Flatten(),\n",
        "    keras.layers.Dense(units=128, activation='relu'),\n",
        "    keras.layers.Dropout(0.5),\n",
        "    keras.layers.Dense(units=64, activation='relu'),\n",
        "    keras.layers.Dropout(0.5),\n",
        "    keras.layers.Dense(units=10, activation='softmax'),\n",
        "])"
      ]
    },
    {
      "cell_type": "code",
      "execution_count": null,
      "metadata": {
        "colab": {
          "base_uri": "https://localhost:8080/"
        },
        "id": "SnQsu_wVWREf",
        "outputId": "c9c03b3f-d618-49b5-d8b3-067813171eb6"
      },
      "outputs": [
        {
          "output_type": "stream",
          "name": "stdout",
          "text": [
            "Epoch 1/5\n",
            "1719/1719 [==============================] - 23s 9ms/step - loss: 0.3407 - accuracy: 0.8985 - val_loss: 0.0551 - val_accuracy: 0.9878\n",
            "Epoch 2/5\n",
            "1719/1719 [==============================] - 15s 9ms/step - loss: 0.0958 - accuracy: 0.9777 - val_loss: 0.0478 - val_accuracy: 0.9886\n",
            "Epoch 3/5\n",
            "1719/1719 [==============================] - 15s 9ms/step - loss: 0.0774 - accuracy: 0.9831 - val_loss: 0.0397 - val_accuracy: 0.9904\n",
            "Epoch 4/5\n",
            "1719/1719 [==============================] - 15s 9ms/step - loss: 0.0675 - accuracy: 0.9843 - val_loss: 0.0388 - val_accuracy: 0.9898\n",
            "Epoch 5/5\n",
            "1719/1719 [==============================] - 15s 9ms/step - loss: 0.0573 - accuracy: 0.9871 - val_loss: 0.0377 - val_accuracy: 0.9926\n",
            "313/313 [==============================] - 1s 4ms/step - loss: 0.0300 - accuracy: 0.9924\n"
          ]
        }
      ],
      "source": [
        "model.compile(loss=\"sparse_categorical_crossentropy\", optimizer=\"nadam\", metrics=[\"accuracy\"])\n",
        "history = model.fit(X_train, y_train, epochs=5,\n",
        "                    validation_data=(X_valid, y_valid))\n",
        "score = model.evaluate(X_test, y_test)"
      ]
    },
    {
      "cell_type": "code",
      "execution_count": null,
      "metadata": {
        "colab": {
          "base_uri": "https://localhost:8080/"
        },
        "id": "zb8YAxBGWREi",
        "outputId": "d83da766-abef-4e2d-ff6d-f053faf995f9"
      },
      "outputs": [
        {
          "output_type": "stream",
          "name": "stdout",
          "text": [
            "313/313 [==============================] - 1s 4ms/step - loss: 0.0300 - accuracy: 0.9924\n"
          ]
        },
        {
          "output_type": "execute_result",
          "data": {
            "text/plain": [
              "[0.029964538291096687, 0.9923999905586243]"
            ]
          },
          "metadata": {},
          "execution_count": 17
        }
      ],
      "source": [
        "model.evaluate(X_test, y_test)"
      ]
    },
    {
      "cell_type": "code",
      "execution_count": null,
      "metadata": {
        "colab": {
          "base_uri": "https://localhost:8080/"
        },
        "id": "ZjJdd_46DMHX",
        "outputId": "5d0da85e-59c5-4c53-e730-159cfcc77cb2"
      },
      "outputs": [
        {
          "output_type": "execute_result",
          "data": {
            "text/plain": [
              "(10000, 28, 28, 1)"
            ]
          },
          "metadata": {},
          "execution_count": 18
        }
      ],
      "source": [
        "X_test.shape"
      ]
    },
    {
      "cell_type": "code",
      "execution_count": null,
      "metadata": {
        "colab": {
          "base_uri": "https://localhost:8080/"
        },
        "id": "Bd3iHigmdar4",
        "outputId": "34811171-0d41-4915-b65e-3c88649afb4d"
      },
      "outputs": [
        {
          "output_type": "stream",
          "name": "stdout",
          "text": [
            "1/1 [==============================] - 0s 206ms/step\n"
          ]
        },
        {
          "output_type": "execute_result",
          "data": {
            "text/plain": [
              "array([[0., 0., 0., 0., 0., 0., 0., 1., 0., 0.],\n",
              "       [0., 0., 1., 0., 0., 0., 0., 0., 0., 0.],\n",
              "       [0., 1., 0., 0., 0., 0., 0., 0., 0., 0.]], dtype=float32)"
            ]
          },
          "metadata": {},
          "execution_count": 19
        }
      ],
      "source": [
        "X_new = X_test[:3]\n",
        "y_proba = model.predict(X_new)\n",
        "y_proba.round(2)"
      ]
    },
    {
      "cell_type": "code",
      "execution_count": null,
      "metadata": {
        "colab": {
          "base_uri": "https://localhost:8080/",
          "height": 269
        },
        "id": "afMP3Ux9deBU",
        "outputId": "bf2efb86-f0e3-45cd-f0c3-9679f9bdeee5"
      },
      "outputs": [
        {
          "output_type": "display_data",
          "data": {
            "text/plain": [
              "<Figure size 432x288 with 1 Axes>"
            ],
            "image/png": "[encoded data removed]"
          },
          "metadata": {
            "needs_background": "light"
          }
        }
      ],
      "source": [
        "plt.imshow(X_test[1].reshape(28,28), cmap='gray')\n",
        "plt.show()"
      ]
    },
    {
      "cell_type": "markdown",
      "metadata": {
        "id": "CK5mXxkYqMkK"
      },
      "source": [
        "## Домашнее задание"
      ]
    },
    {
      "cell_type": "markdown",
      "metadata": {
        "id": "hUpWGdsmqMkL"
      },
      "source": [
        "Подобрать гиперпараметры сверточной нейронной сети и обучить ее для датасета CIFAR10 (keras.datasets.cifar10). Сравнить точность ее работы с полносвязной нейронной сетью. Лучше сделать в google colab и подключить использование GPU."
      ]
    },
    {
      "cell_type": "code",
      "source": [
        "cifar10 = keras.datasets.cifar10\n",
        "\n",
        "(X_train_full, y_train_full), (X_test, y_test) = cifar10.load_data()"
      ],
      "metadata": {
        "colab": {
          "base_uri": "https://localhost:8080/"
        },
        "id": "zFhDEkAdrgj-",
        "outputId": "35b95abf-a1c6-492e-ec2e-458385f63d53"
      },
      "execution_count": 4,
      "outputs": [
        {
          "output_type": "stream",
          "name": "stdout",
          "text": [
            "Downloading data from https://www.cs.toronto.edu/~kriz/cifar-10-python.tar.gz\n",
            "170498071/170498071 [==============================] - 6s 0us/step\n"
          ]
        }
      ]
    },
    {
      "cell_type": "code",
      "source": [
        "X_train_full.shape"
      ],
      "metadata": {
        "colab": {
          "base_uri": "https://localhost:8080/"
        },
        "id": "B_5cPbnBxRiu",
        "outputId": "e3388e50-68d9-4d13-b3e0-2410b87bb81c"
      },
      "execution_count": 55,
      "outputs": [
        {
          "output_type": "execute_result",
          "data": {
            "text/plain": [
              "(50000, 32, 32, 3)"
            ]
          },
          "metadata": {},
          "execution_count": 55
        }
      ]
    },
    {
      "cell_type": "code",
      "source": [
        "X_valid, X_train = X_train_full[:5000] / 255., X_train_full[5000:] / 255.\n",
        "y_valid, y_train = y_train_full[:5000], y_train_full[5000:]\n",
        "X_test = X_test / 255."
      ],
      "metadata": {
        "id": "uvcJj7wPrtbD"
      },
      "execution_count": 5,
      "outputs": []
    },
    {
      "cell_type": "code",
      "source": [
        "plt.imshow(X_train[1], cmap='gray')\n",
        "plt.show()"
      ],
      "metadata": {
        "colab": {
          "base_uri": "https://localhost:8080/",
          "height": 270
        },
        "id": "N0jGUBPpr060",
        "outputId": "f8295c8e-096e-4246-a223-7dc1c5b5fcfb"
      },
      "execution_count": 54,
      "outputs": [
        {
          "output_type": "display_data",
          "data": {
            "text/plain": [
              "<Figure size 432x288 with 1 Axes>"
            ],
            "image/png": "[encoded data removed]"
          },
          "metadata": {
            "needs_background": "light"
          }
        }
      ]
    },
    {
      "cell_type": "code",
      "source": [
        "X_train.shape"
      ],
      "metadata": {
        "colab": {
          "base_uri": "https://localhost:8080/"
        },
        "id": "soJ5Q5-F0VWx",
        "outputId": "26671a0b-0020-448f-9078-f24a2c44c6a4"
      },
      "execution_count": 65,
      "outputs": [
        {
          "output_type": "execute_result",
          "data": {
            "text/plain": [
              "(45000, 32, 32, 3)"
            ]
          },
          "metadata": {},
          "execution_count": 65
        }
      ]
    },
    {
      "cell_type": "code",
      "source": [
        "DefaultConv2D = partial(keras.layers.Conv2D,\n",
        "                        kernel_size=3, activation='relu', padding=\"SAME\")\n",
        "\n",
        "model = keras.models.Sequential([\n",
        "    DefaultConv2D(filters=32, kernel_size=7, input_shape=[32, 32, 3]),\n",
        "    keras.layers.MaxPooling2D(pool_size=2),\n",
        "    DefaultConv2D(filters=64),\n",
        "    DefaultConv2D(filters=64),\n",
        "    keras.layers.MaxPooling2D(pool_size=2),\n",
        "    DefaultConv2D(filters=128),\n",
        "    DefaultConv2D(filters=128),\n",
        "    keras.layers.MaxPooling2D(pool_size=2),\n",
        "    keras.layers.Flatten(),\n",
        "    keras.layers.Dense(units=64, activation='relu'),\n",
        "    keras.layers.Dropout(0.5),\n",
        "    keras.layers.Dense(units=64, activation='relu'),\n",
        "    keras.layers.Dropout(0.5),\n",
        "    keras.layers.Dense(units=10, activation='softmax'),\n",
        "])\n"
      ],
      "metadata": {
        "id": "gIoIO38EuHST"
      },
      "execution_count": 6,
      "outputs": []
    },
    {
      "cell_type": "code",
      "source": [
        "model.compile(loss=\"sparse_categorical_crossentropy\", optimizer=\"adam\", metrics=[\"accuracy\"])\n",
        "history = model.fit(X_train, y_train, epochs=100,\n",
        "                    validation_data=(X_valid, y_valid), verbose=1)\n",
        "score = model.evaluate(X_test, y_test, verbose=1)"
      ],
      "metadata": {
        "colab": {
          "base_uri": "https://localhost:8080/"
        },
        "id": "AzM5F0FCuW2P",
        "outputId": "4d13d6c9-110b-443b-d0e0-810a924f2ac7"
      },
      "execution_count": 7,
      "outputs": [
        {
          "output_type": "stream",
          "name": "stdout",
          "text": [
            "Epoch 1/100\n",
            "1407/1407 [==============================] - 19s 6ms/step - loss: 2.3029 - accuracy: 0.0998 - val_loss: 2.3027 - val_accuracy: 0.0976\n",
            "Epoch 2/100\n",
            "1407/1407 [==============================] - 7s 5ms/step - loss: 2.3028 - accuracy: 0.0989 - val_loss: 2.3027 - val_accuracy: 0.0972\n",
            "Epoch 3/100\n",
            "1407/1407 [==============================] - 7s 5ms/step - loss: 2.3028 - accuracy: 0.0969 - val_loss: 2.3030 - val_accuracy: 0.0976\n",
            "Epoch 4/100\n",
            "1407/1407 [==============================] - 7s 5ms/step - loss: 2.3027 - accuracy: 0.0989 - val_loss: 2.3032 - val_accuracy: 0.0996\n",
            "Epoch 5/100\n",
            "1407/1407 [==============================] - 7s 5ms/step - loss: 2.3028 - accuracy: 0.0990 - val_loss: 2.3028 - val_accuracy: 0.0972\n",
            "Epoch 6/100\n",
            "1407/1407 [==============================] - 9s 6ms/step - loss: 2.3028 - accuracy: 0.0983 - val_loss: 2.3025 - val_accuracy: 0.1040\n",
            "Epoch 7/100\n",
            "1407/1407 [==============================] - 8s 6ms/step - loss: 2.3028 - accuracy: 0.0994 - val_loss: 2.3028 - val_accuracy: 0.0920\n",
            "Epoch 8/100\n",
            "1407/1407 [==============================] - 8s 6ms/step - loss: 2.3027 - accuracy: 0.0992 - val_loss: 2.3026 - val_accuracy: 0.1038\n",
            "Epoch 9/100\n",
            "1407/1407 [==============================] - 13s 10ms/step - loss: 2.3028 - accuracy: 0.1000 - val_loss: 2.3030 - val_accuracy: 0.0996\n",
            "Epoch 10/100\n",
            "1407/1407 [==============================] - 8s 6ms/step - loss: 2.3028 - accuracy: 0.0991 - val_loss: 2.3029 - val_accuracy: 0.0920\n",
            "Epoch 11/100\n",
            "1407/1407 [==============================] - 8s 6ms/step - loss: 2.3028 - accuracy: 0.0987 - val_loss: 2.3028 - val_accuracy: 0.0996\n",
            "Epoch 12/100\n",
            "1407/1407 [==============================] - 8s 6ms/step - loss: 2.3028 - accuracy: 0.0981 - val_loss: 2.3028 - val_accuracy: 0.0972\n",
            "Epoch 13/100\n",
            "1407/1407 [==============================] - 8s 6ms/step - loss: 2.3027 - accuracy: 0.0987 - val_loss: 2.3028 - val_accuracy: 0.0920\n",
            "Epoch 14/100\n",
            "1407/1407 [==============================] - 8s 6ms/step - loss: 2.3028 - accuracy: 0.0987 - val_loss: 2.3031 - val_accuracy: 0.0920\n",
            "Epoch 15/100\n",
            "1407/1407 [==============================] - 8s 5ms/step - loss: 2.3028 - accuracy: 0.0993 - val_loss: 2.3029 - val_accuracy: 0.0976\n",
            "Epoch 16/100\n",
            "1407/1407 [==============================] - 8s 6ms/step - loss: 2.3028 - accuracy: 0.0994 - val_loss: 2.3028 - val_accuracy: 0.0972\n",
            "Epoch 17/100\n",
            "1407/1407 [==============================] - 8s 5ms/step - loss: 2.3027 - accuracy: 0.0992 - val_loss: 2.3026 - val_accuracy: 0.1040\n",
            "Epoch 18/100\n",
            "1407/1407 [==============================] - 8s 6ms/step - loss: 2.3028 - accuracy: 0.0972 - val_loss: 2.3027 - val_accuracy: 0.0920\n",
            "Epoch 19/100\n",
            "1407/1407 [==============================] - 8s 6ms/step - loss: 2.3028 - accuracy: 0.0988 - val_loss: 2.3028 - val_accuracy: 0.0996\n",
            "Epoch 20/100\n",
            "1407/1407 [==============================] - 8s 5ms/step - loss: 2.3028 - accuracy: 0.0975 - val_loss: 2.3028 - val_accuracy: 0.0972\n",
            "Epoch 21/100\n",
            "1407/1407 [==============================] - 8s 5ms/step - loss: 2.3028 - accuracy: 0.0977 - val_loss: 2.3029 - val_accuracy: 0.0920\n",
            "Epoch 22/100\n",
            "1407/1407 [==============================] - 8s 5ms/step - loss: 2.3027 - accuracy: 0.1003 - val_loss: 2.3027 - val_accuracy: 0.0972\n",
            "Epoch 23/100\n",
            "1407/1407 [==============================] - 8s 6ms/step - loss: 2.3028 - accuracy: 0.0985 - val_loss: 2.3027 - val_accuracy: 0.0996\n",
            "Epoch 24/100\n",
            "1407/1407 [==============================] - 8s 6ms/step - loss: 2.3028 - accuracy: 0.0997 - val_loss: 2.3028 - val_accuracy: 0.1038\n",
            "Epoch 25/100\n",
            "1407/1407 [==============================] - 8s 6ms/step - loss: 2.3028 - accuracy: 0.0980 - val_loss: 2.3029 - val_accuracy: 0.0972\n",
            "Epoch 26/100\n",
            "1407/1407 [==============================] - 8s 6ms/step - loss: 2.3027 - accuracy: 0.0993 - val_loss: 2.3031 - val_accuracy: 0.0920\n",
            "Epoch 27/100\n",
            "1407/1407 [==============================] - 8s 6ms/step - loss: 2.3028 - accuracy: 0.0999 - val_loss: 2.3027 - val_accuracy: 0.1038\n",
            "Epoch 28/100\n",
            "1407/1407 [==============================] - 8s 6ms/step - loss: 2.3028 - accuracy: 0.0981 - val_loss: 2.3028 - val_accuracy: 0.0976\n",
            "Epoch 29/100\n",
            "1407/1407 [==============================] - 8s 5ms/step - loss: 2.3028 - accuracy: 0.0987 - val_loss: 2.3029 - val_accuracy: 0.1010\n",
            "Epoch 30/100\n",
            "1407/1407 [==============================] - 8s 6ms/step - loss: 2.3027 - accuracy: 0.0993 - val_loss: 2.3029 - val_accuracy: 0.0996\n",
            "Epoch 31/100\n",
            "1407/1407 [==============================] - 8s 6ms/step - loss: 2.3028 - accuracy: 0.0955 - val_loss: 2.3029 - val_accuracy: 0.0996\n",
            "Epoch 32/100\n",
            "1407/1407 [==============================] - 8s 6ms/step - loss: 2.3028 - accuracy: 0.0972 - val_loss: 2.3026 - val_accuracy: 0.1040\n",
            "Epoch 33/100\n",
            "1407/1407 [==============================] - 8s 5ms/step - loss: 2.3028 - accuracy: 0.0973 - val_loss: 2.3031 - val_accuracy: 0.0920\n",
            "Epoch 34/100\n",
            "1407/1407 [==============================] - 8s 6ms/step - loss: 2.3028 - accuracy: 0.0991 - val_loss: 2.3027 - val_accuracy: 0.1038\n",
            "Epoch 35/100\n",
            "1407/1407 [==============================] - 8s 6ms/step - loss: 2.3028 - accuracy: 0.0980 - val_loss: 2.3028 - val_accuracy: 0.0920\n",
            "Epoch 36/100\n",
            "1407/1407 [==============================] - 8s 6ms/step - loss: 2.3027 - accuracy: 0.0990 - val_loss: 2.3026 - val_accuracy: 0.1038\n",
            "Epoch 37/100\n",
            "1407/1407 [==============================] - 8s 6ms/step - loss: 2.3027 - accuracy: 0.1003 - val_loss: 2.3028 - val_accuracy: 0.0972\n",
            "Epoch 38/100\n",
            "1407/1407 [==============================] - 8s 6ms/step - loss: 2.3028 - accuracy: 0.0983 - val_loss: 2.3027 - val_accuracy: 0.0996\n",
            "Epoch 39/100\n",
            "1407/1407 [==============================] - 8s 6ms/step - loss: 2.3028 - accuracy: 0.0978 - val_loss: 2.3027 - val_accuracy: 0.0972\n",
            "Epoch 40/100\n",
            "1407/1407 [==============================] - 8s 6ms/step - loss: 2.3028 - accuracy: 0.0992 - val_loss: 2.3029 - val_accuracy: 0.0976\n",
            "Epoch 41/100\n",
            "1407/1407 [==============================] - 8s 6ms/step - loss: 2.3028 - accuracy: 0.0999 - val_loss: 2.3029 - val_accuracy: 0.0920\n",
            "Epoch 42/100\n",
            "1407/1407 [==============================] - 8s 6ms/step - loss: 2.3028 - accuracy: 0.0994 - val_loss: 2.3027 - val_accuracy: 0.0976\n",
            "Epoch 43/100\n",
            "1407/1407 [==============================] - 8s 5ms/step - loss: 2.3027 - accuracy: 0.0973 - val_loss: 2.3028 - val_accuracy: 0.1040\n",
            "Epoch 44/100\n",
            "1407/1407 [==============================] - 8s 6ms/step - loss: 2.3028 - accuracy: 0.0989 - val_loss: 2.3028 - val_accuracy: 0.0996\n",
            "Epoch 45/100\n",
            "1407/1407 [==============================] - 8s 6ms/step - loss: 2.3028 - accuracy: 0.0999 - val_loss: 2.3029 - val_accuracy: 0.0972\n",
            "Epoch 46/100\n",
            "1407/1407 [==============================] - 8s 6ms/step - loss: 2.3028 - accuracy: 0.0967 - val_loss: 2.3028 - val_accuracy: 0.0976\n",
            "Epoch 47/100\n",
            "1407/1407 [==============================] - 8s 6ms/step - loss: 2.3028 - accuracy: 0.0988 - val_loss: 2.3027 - val_accuracy: 0.0920\n",
            "Epoch 48/100\n",
            "1407/1407 [==============================] - 8s 5ms/step - loss: 2.3028 - accuracy: 0.0988 - val_loss: 2.3027 - val_accuracy: 0.1038\n",
            "Epoch 49/100\n",
            "1407/1407 [==============================] - 8s 5ms/step - loss: 2.3028 - accuracy: 0.0978 - val_loss: 2.3026 - val_accuracy: 0.0976\n",
            "Epoch 50/100\n",
            "1407/1407 [==============================] - 8s 6ms/step - loss: 2.3028 - accuracy: 0.0974 - val_loss: 2.3029 - val_accuracy: 0.1038\n",
            "Epoch 51/100\n",
            "1407/1407 [==============================] - 8s 6ms/step - loss: 2.3028 - accuracy: 0.0981 - val_loss: 2.3025 - val_accuracy: 0.1010\n",
            "Epoch 52/100\n",
            "1407/1407 [==============================] - 8s 6ms/step - loss: 2.3027 - accuracy: 0.0960 - val_loss: 2.3031 - val_accuracy: 0.0972\n",
            "Epoch 53/100\n",
            "1407/1407 [==============================] - 8s 6ms/step - loss: 2.3027 - accuracy: 0.0988 - val_loss: 2.3028 - val_accuracy: 0.0920\n",
            "Epoch 54/100\n",
            "1407/1407 [==============================] - 8s 5ms/step - loss: 2.3028 - accuracy: 0.1011 - val_loss: 2.3027 - val_accuracy: 0.0972\n",
            "Epoch 55/100\n",
            "1407/1407 [==============================] - 8s 6ms/step - loss: 2.3028 - accuracy: 0.0961 - val_loss: 2.3029 - val_accuracy: 0.0976\n",
            "Epoch 56/100\n",
            "1407/1407 [==============================] - 9s 6ms/step - loss: 2.3028 - accuracy: 0.0992 - val_loss: 2.3029 - val_accuracy: 0.0920\n",
            "Epoch 57/100\n",
            "1407/1407 [==============================] - 8s 5ms/step - loss: 2.3028 - accuracy: 0.0994 - val_loss: 2.3028 - val_accuracy: 0.0972\n",
            "Epoch 58/100\n",
            "1407/1407 [==============================] - 8s 5ms/step - loss: 2.3028 - accuracy: 0.0993 - val_loss: 2.3027 - val_accuracy: 0.1038\n",
            "Epoch 59/100\n",
            "1407/1407 [==============================] - 8s 6ms/step - loss: 2.3028 - accuracy: 0.0961 - val_loss: 2.3029 - val_accuracy: 0.0920\n",
            "Epoch 60/100\n",
            "1407/1407 [==============================] - 8s 6ms/step - loss: 2.3027 - accuracy: 0.0999 - val_loss: 2.3028 - val_accuracy: 0.0976\n",
            "Epoch 61/100\n",
            "1407/1407 [==============================] - 8s 6ms/step - loss: 2.3028 - accuracy: 0.0983 - val_loss: 2.3028 - val_accuracy: 0.0976\n",
            "Epoch 62/100\n",
            "1407/1407 [==============================] - 8s 5ms/step - loss: 2.3028 - accuracy: 0.0982 - val_loss: 2.3027 - val_accuracy: 0.0972\n",
            "Epoch 63/100\n",
            "1407/1407 [==============================] - 8s 5ms/step - loss: 2.3027 - accuracy: 0.0965 - val_loss: 2.3025 - val_accuracy: 0.1040\n",
            "Epoch 64/100\n",
            "1407/1407 [==============================] - 8s 6ms/step - loss: 2.3028 - accuracy: 0.0976 - val_loss: 2.3029 - val_accuracy: 0.0996\n",
            "Epoch 65/100\n",
            "1407/1407 [==============================] - 8s 6ms/step - loss: 2.3028 - accuracy: 0.0980 - val_loss: 2.3029 - val_accuracy: 0.1010\n",
            "Epoch 66/100\n",
            "1407/1407 [==============================] - 8s 5ms/step - loss: 2.3028 - accuracy: 0.0989 - val_loss: 2.3028 - val_accuracy: 0.0972\n",
            "Epoch 67/100\n",
            "1407/1407 [==============================] - 8s 6ms/step - loss: 2.3028 - accuracy: 0.0992 - val_loss: 2.3026 - val_accuracy: 0.1040\n",
            "Epoch 68/100\n",
            "1407/1407 [==============================] - 8s 6ms/step - loss: 2.3027 - accuracy: 0.0995 - val_loss: 2.3027 - val_accuracy: 0.1010\n",
            "Epoch 69/100\n",
            "1407/1407 [==============================] - 8s 6ms/step - loss: 2.3028 - accuracy: 0.0992 - val_loss: 2.3032 - val_accuracy: 0.0920\n",
            "Epoch 70/100\n",
            "1407/1407 [==============================] - 8s 6ms/step - loss: 2.3028 - accuracy: 0.1002 - val_loss: 2.3028 - val_accuracy: 0.0920\n",
            "Epoch 71/100\n",
            "1407/1407 [==============================] - 8s 5ms/step - loss: 2.3028 - accuracy: 0.0963 - val_loss: 2.3030 - val_accuracy: 0.0920\n",
            "Epoch 72/100\n",
            "1407/1407 [==============================] - 8s 6ms/step - loss: 2.3028 - accuracy: 0.0995 - val_loss: 2.3030 - val_accuracy: 0.0972\n",
            "Epoch 73/100\n",
            "1407/1407 [==============================] - 8s 5ms/step - loss: 2.3028 - accuracy: 0.0992 - val_loss: 2.3027 - val_accuracy: 0.0972\n",
            "Epoch 74/100\n",
            "1407/1407 [==============================] - 8s 6ms/step - loss: 2.3028 - accuracy: 0.0985 - val_loss: 2.3027 - val_accuracy: 0.0972\n",
            "Epoch 75/100\n",
            "1407/1407 [==============================] - 8s 6ms/step - loss: 2.3028 - accuracy: 0.0974 - val_loss: 2.3029 - val_accuracy: 0.0976\n",
            "Epoch 76/100\n",
            "1407/1407 [==============================] - 8s 6ms/step - loss: 2.3028 - accuracy: 0.0997 - val_loss: 2.3030 - val_accuracy: 0.0920\n",
            "Epoch 77/100\n",
            "1407/1407 [==============================] - 8s 6ms/step - loss: 2.3028 - accuracy: 0.0991 - val_loss: 2.3029 - val_accuracy: 0.0920\n",
            "Epoch 78/100\n",
            "1407/1407 [==============================] - 8s 6ms/step - loss: 2.3028 - accuracy: 0.0989 - val_loss: 2.3027 - val_accuracy: 0.0972\n",
            "Epoch 79/100\n",
            "1407/1407 [==============================] - 8s 6ms/step - loss: 2.3028 - accuracy: 0.0973 - val_loss: 2.3028 - val_accuracy: 0.0920\n",
            "Epoch 80/100\n",
            "1407/1407 [==============================] - 8s 6ms/step - loss: 2.3028 - accuracy: 0.0979 - val_loss: 2.3030 - val_accuracy: 0.0972\n",
            "Epoch 81/100\n",
            "1407/1407 [==============================] - 8s 6ms/step - loss: 2.3028 - accuracy: 0.0987 - val_loss: 2.3028 - val_accuracy: 0.0996\n",
            "Epoch 82/100\n",
            "1407/1407 [==============================] - 8s 6ms/step - loss: 2.3028 - accuracy: 0.0946 - val_loss: 2.3028 - val_accuracy: 0.0972\n",
            "Epoch 83/100\n",
            "1407/1407 [==============================] - 8s 6ms/step - loss: 2.3028 - accuracy: 0.0986 - val_loss: 2.3028 - val_accuracy: 0.1010\n",
            "Epoch 84/100\n",
            "1407/1407 [==============================] - 9s 6ms/step - loss: 2.3028 - accuracy: 0.0974 - val_loss: 2.3029 - val_accuracy: 0.0920\n",
            "Epoch 85/100\n",
            "1407/1407 [==============================] - 8s 6ms/step - loss: 2.3028 - accuracy: 0.0982 - val_loss: 2.3028 - val_accuracy: 0.1038\n",
            "Epoch 86/100\n",
            "1407/1407 [==============================] - 8s 5ms/step - loss: 2.3028 - accuracy: 0.1003 - val_loss: 2.3028 - val_accuracy: 0.0920\n",
            "Epoch 87/100\n",
            "1407/1407 [==============================] - 8s 6ms/step - loss: 2.3028 - accuracy: 0.0991 - val_loss: 2.3028 - val_accuracy: 0.0972\n",
            "Epoch 88/100\n",
            "1407/1407 [==============================] - 8s 6ms/step - loss: 2.3028 - accuracy: 0.0992 - val_loss: 2.3029 - val_accuracy: 0.0972\n",
            "Epoch 89/100\n",
            "1407/1407 [==============================] - 8s 6ms/step - loss: 2.3028 - accuracy: 0.0985 - val_loss: 2.3028 - val_accuracy: 0.0972\n",
            "Epoch 90/100\n",
            "1407/1407 [==============================] - 8s 6ms/step - loss: 2.3028 - accuracy: 0.0975 - val_loss: 2.3028 - val_accuracy: 0.0972\n",
            "Epoch 91/100\n",
            "1407/1407 [==============================] - 8s 6ms/step - loss: 2.3028 - accuracy: 0.0976 - val_loss: 2.3029 - val_accuracy: 0.0996\n",
            "Epoch 92/100\n",
            "1407/1407 [==============================] - 8s 6ms/step - loss: 2.3028 - accuracy: 0.0965 - val_loss: 2.3028 - val_accuracy: 0.0976\n",
            "Epoch 93/100\n",
            "1407/1407 [==============================] - 8s 6ms/step - loss: 2.3028 - accuracy: 0.0986 - val_loss: 2.3027 - val_accuracy: 0.0972\n",
            "Epoch 94/100\n",
            "1407/1407 [==============================] - 8s 6ms/step - loss: 2.3027 - accuracy: 0.0995 - val_loss: 2.3027 - val_accuracy: 0.0972\n",
            "Epoch 95/100\n",
            "1407/1407 [==============================] - 8s 6ms/step - loss: 2.3028 - accuracy: 0.0982 - val_loss: 2.3029 - val_accuracy: 0.0976\n",
            "Epoch 96/100\n",
            "1407/1407 [==============================] - 8s 6ms/step - loss: 2.3028 - accuracy: 0.0986 - val_loss: 2.3027 - val_accuracy: 0.0972\n",
            "Epoch 97/100\n",
            "1407/1407 [==============================] - 8s 6ms/step - loss: 2.3028 - accuracy: 0.1002 - val_loss: 2.3028 - val_accuracy: 0.0976\n",
            "Epoch 98/100\n",
            "1407/1407 [==============================] - 8s 6ms/step - loss: 2.3028 - accuracy: 0.0979 - val_loss: 2.3028 - val_accuracy: 0.0996\n",
            "Epoch 99/100\n",
            "1407/1407 [==============================] - 8s 6ms/step - loss: 2.3028 - accuracy: 0.1009 - val_loss: 2.3026 - val_accuracy: 0.0996\n",
            "Epoch 100/100\n",
            "1407/1407 [==============================] - 8s 6ms/step - loss: 2.3028 - accuracy: 0.0990 - val_loss: 2.3029 - val_accuracy: 0.0996\n",
            "313/313 [==============================] - 1s 4ms/step - loss: 2.3027 - accuracy: 0.1000\n"
          ]
        }
      ]
    },
    {
      "cell_type": "code",
      "source": [
        "model.evaluate(X_test, y_test)"
      ],
      "metadata": {
        "colab": {
          "base_uri": "https://localhost:8080/"
        },
        "id": "oYsbtAldvFUa",
        "outputId": "a84a77fa-4ab6-470c-f1c9-b12d0a259e9f"
      },
      "execution_count": 8,
      "outputs": [
        {
          "output_type": "stream",
          "name": "stdout",
          "text": [
            "313/313 [==============================] - 1s 4ms/step - loss: 2.3027 - accuracy: 0.1000\n"
          ]
        },
        {
          "output_type": "execute_result",
          "data": {
            "text/plain": [
              "[2.302675724029541, 0.10000000149011612]"
            ]
          },
          "metadata": {},
          "execution_count": 8
        }
      ]
    },
    {
      "cell_type": "code",
      "source": [
        "y_test"
      ],
      "metadata": {
        "colab": {
          "base_uri": "https://localhost:8080/"
        },
        "id": "QZdcBm8lwjnK",
        "outputId": "e90a8137-913e-4c06-e11d-c211a382415c"
      },
      "execution_count": 50,
      "outputs": [
        {
          "output_type": "execute_result",
          "data": {
            "text/plain": [
              "array([[3],\n",
              "       [8],\n",
              "       [8],\n",
              "       ...,\n",
              "       [5],\n",
              "       [1],\n",
              "       [7]], dtype=uint8)"
            ]
          },
          "metadata": {},
          "execution_count": 50
        }
      ]
    },
    {
      "cell_type": "code",
      "source": [
        "y_pred = model.predict(X_test)\n",
        "y_pred.shape"
      ],
      "metadata": {
        "colab": {
          "base_uri": "https://localhost:8080/"
        },
        "id": "LFF8k3dxwJaU",
        "outputId": "1a8b17d5-c696-41ed-9f41-02b22585f34f"
      },
      "execution_count": 49,
      "outputs": [
        {
          "output_type": "stream",
          "name": "stdout",
          "text": [
            "313/313 [==============================] - 1s 4ms/step\n"
          ]
        },
        {
          "output_type": "execute_result",
          "data": {
            "text/plain": [
              "(10000, 10)"
            ]
          },
          "metadata": {},
          "execution_count": 49
        }
      ]
    },
    {
      "cell_type": "code",
      "source": [
        "#поменяем параметры модели\n",
        "\n",
        "DefaultConv2D = partial(keras.layers.Conv2D,\n",
        "                        kernel_size=3, activation='relu', padding=\"SAME\")\n",
        "\n",
        "model = keras.models.Sequential([\n",
        "    DefaultConv2D(filters=32, kernel_size=3, input_shape=[32, 32, 3]),\n",
        "    keras.layers.MaxPooling2D(pool_size=2),\n",
        "    DefaultConv2D(filters=64),\n",
        "    DefaultConv2D(filters=64),\n",
        "    keras.layers.MaxPooling2D(pool_size=2),\n",
        "    DefaultConv2D(filters=128),\n",
        "    DefaultConv2D(filters=128),\n",
        "    keras.layers.MaxPooling2D(pool_size=2),\n",
        "    keras.layers.Flatten(),\n",
        "    keras.layers.Dense(units=64, activation='relu'),\n",
        "    keras.layers.Dropout(0.5),\n",
        "    keras.layers.Dense(units=64, activation='relu'),\n",
        "    keras.layers.Dropout(0.5),\n",
        "    keras.layers.Dense(units=10, activation='softmax'),\n",
        "])"
      ],
      "metadata": {
        "id": "5iKmQOLerT0h"
      },
      "execution_count": 9,
      "outputs": []
    },
    {
      "cell_type": "code",
      "source": [
        "model.compile(loss=\"sparse_categorical_crossentropy\", optimizer=\"adam\", metrics=[\"accuracy\"])\n",
        "history = model.fit(X_train, y_train, epochs=100,\n",
        "                    validation_data=(X_valid, y_valid), verbose=1)\n",
        "score = model.evaluate(X_test, y_test, verbose=1)"
      ],
      "metadata": {
        "colab": {
          "base_uri": "https://localhost:8080/"
        },
        "id": "CeWySUrwuTf1",
        "outputId": "5578e600-b9c1-4868-e4b8-4bf924675b4c"
      },
      "execution_count": 10,
      "outputs": [
        {
          "output_type": "stream",
          "name": "stdout",
          "text": [
            "Epoch 1/100\n",
            "1407/1407 [==============================] - 8s 6ms/step - loss: 1.9697 - accuracy: 0.2435 - val_loss: 1.5816 - val_accuracy: 0.3930\n",
            "Epoch 2/100\n",
            "1407/1407 [==============================] - 7s 5ms/step - loss: 1.6367 - accuracy: 0.3717 - val_loss: 1.3892 - val_accuracy: 0.4836\n",
            "Epoch 3/100\n",
            "1407/1407 [==============================] - 7s 5ms/step - loss: 1.4806 - accuracy: 0.4463 - val_loss: 1.3646 - val_accuracy: 0.5120\n",
            "Epoch 4/100\n",
            "1407/1407 [==============================] - 7s 5ms/step - loss: 1.3675 - accuracy: 0.5017 - val_loss: 1.2135 - val_accuracy: 0.5762\n",
            "Epoch 5/100\n",
            "1407/1407 [==============================] - 7s 5ms/step - loss: 1.2912 - accuracy: 0.5416 - val_loss: 1.1053 - val_accuracy: 0.6096\n",
            "Epoch 6/100\n",
            "1407/1407 [==============================] - 7s 5ms/step - loss: 1.2150 - accuracy: 0.5718 - val_loss: 1.1161 - val_accuracy: 0.6164\n",
            "Epoch 7/100\n",
            "1407/1407 [==============================] - 8s 6ms/step - loss: 1.1483 - accuracy: 0.5986 - val_loss: 1.0491 - val_accuracy: 0.6318\n",
            "Epoch 8/100\n",
            "1407/1407 [==============================] - 7s 5ms/step - loss: 1.1062 - accuracy: 0.6146 - val_loss: 0.9972 - val_accuracy: 0.6606\n",
            "Epoch 9/100\n",
            "1407/1407 [==============================] - 8s 6ms/step - loss: 1.0710 - accuracy: 0.6274 - val_loss: 1.0174 - val_accuracy: 0.6546\n",
            "Epoch 10/100\n",
            "1407/1407 [==============================] - 7s 5ms/step - loss: 1.0256 - accuracy: 0.6459 - val_loss: 1.0177 - val_accuracy: 0.6566\n",
            "Epoch 11/100\n",
            "1407/1407 [==============================] - 8s 5ms/step - loss: 0.9885 - accuracy: 0.6581 - val_loss: 0.9470 - val_accuracy: 0.6820\n",
            "Epoch 12/100\n",
            "1407/1407 [==============================] - 8s 5ms/step - loss: 0.9537 - accuracy: 0.6712 - val_loss: 0.9229 - val_accuracy: 0.6924\n",
            "Epoch 13/100\n",
            "1407/1407 [==============================] - 8s 5ms/step - loss: 0.9278 - accuracy: 0.6825 - val_loss: 0.9386 - val_accuracy: 0.6810\n",
            "Epoch 14/100\n",
            "1407/1407 [==============================] - 7s 5ms/step - loss: 0.8892 - accuracy: 0.6970 - val_loss: 0.9195 - val_accuracy: 0.6892\n",
            "Epoch 15/100\n",
            "1407/1407 [==============================] - 9s 6ms/step - loss: 0.8628 - accuracy: 0.7046 - val_loss: 0.9092 - val_accuracy: 0.6946\n",
            "Epoch 16/100\n",
            "1407/1407 [==============================] - 8s 5ms/step - loss: 0.8348 - accuracy: 0.7136 - val_loss: 0.9894 - val_accuracy: 0.6756\n",
            "Epoch 17/100\n",
            "1407/1407 [==============================] - 8s 5ms/step - loss: 0.8235 - accuracy: 0.7214 - val_loss: 0.9191 - val_accuracy: 0.6978\n",
            "Epoch 18/100\n",
            "1407/1407 [==============================] - 7s 5ms/step - loss: 0.7988 - accuracy: 0.7272 - val_loss: 0.9275 - val_accuracy: 0.6976\n",
            "Epoch 19/100\n",
            "1407/1407 [==============================] - 7s 5ms/step - loss: 0.7710 - accuracy: 0.7382 - val_loss: 0.9335 - val_accuracy: 0.6900\n",
            "Epoch 20/100\n",
            "1407/1407 [==============================] - 7s 5ms/step - loss: 0.7543 - accuracy: 0.7441 - val_loss: 0.9087 - val_accuracy: 0.7104\n",
            "Epoch 21/100\n",
            "1407/1407 [==============================] - 7s 5ms/step - loss: 0.7400 - accuracy: 0.7468 - val_loss: 0.9320 - val_accuracy: 0.7010\n",
            "Epoch 22/100\n",
            "1407/1407 [==============================] - 8s 6ms/step - loss: 0.7151 - accuracy: 0.7596 - val_loss: 0.9086 - val_accuracy: 0.7102\n",
            "Epoch 23/100\n",
            "1407/1407 [==============================] - 8s 5ms/step - loss: 0.6945 - accuracy: 0.7674 - val_loss: 0.9466 - val_accuracy: 0.7000\n",
            "Epoch 24/100\n",
            "1407/1407 [==============================] - 7s 5ms/step - loss: 0.6839 - accuracy: 0.7684 - val_loss: 0.9419 - val_accuracy: 0.7078\n",
            "Epoch 25/100\n",
            "1407/1407 [==============================] - 7s 5ms/step - loss: 0.6605 - accuracy: 0.7776 - val_loss: 0.9396 - val_accuracy: 0.7044\n",
            "Epoch 26/100\n",
            "1407/1407 [==============================] - 8s 5ms/step - loss: 0.6427 - accuracy: 0.7824 - val_loss: 0.9648 - val_accuracy: 0.7134\n",
            "Epoch 27/100\n",
            "1407/1407 [==============================] - 8s 5ms/step - loss: 0.6257 - accuracy: 0.7880 - val_loss: 0.9638 - val_accuracy: 0.7106\n",
            "Epoch 28/100\n",
            "1407/1407 [==============================] - 7s 5ms/step - loss: 0.6131 - accuracy: 0.7934 - val_loss: 0.9462 - val_accuracy: 0.7262\n",
            "Epoch 29/100\n",
            "1407/1407 [==============================] - 7s 5ms/step - loss: 0.5943 - accuracy: 0.8013 - val_loss: 0.9668 - val_accuracy: 0.7164\n",
            "Epoch 30/100\n",
            "1407/1407 [==============================] - 7s 5ms/step - loss: 0.5791 - accuracy: 0.8062 - val_loss: 0.9601 - val_accuracy: 0.7130\n",
            "Epoch 31/100\n",
            "1407/1407 [==============================] - 7s 5ms/step - loss: 0.5828 - accuracy: 0.8041 - val_loss: 1.0698 - val_accuracy: 0.6956\n",
            "Epoch 32/100\n",
            "1407/1407 [==============================] - 7s 5ms/step - loss: 0.5588 - accuracy: 0.8139 - val_loss: 1.0097 - val_accuracy: 0.7258\n",
            "Epoch 33/100\n",
            "1407/1407 [==============================] - 7s 5ms/step - loss: 0.5402 - accuracy: 0.8203 - val_loss: 1.0025 - val_accuracy: 0.7138\n",
            "Epoch 34/100\n",
            "1407/1407 [==============================] - 7s 5ms/step - loss: 0.5434 - accuracy: 0.8207 - val_loss: 1.0030 - val_accuracy: 0.7110\n",
            "Epoch 35/100\n",
            "1407/1407 [==============================] - 7s 5ms/step - loss: 0.5274 - accuracy: 0.8256 - val_loss: 1.0316 - val_accuracy: 0.7246\n",
            "Epoch 36/100\n",
            "1407/1407 [==============================] - 8s 5ms/step - loss: 0.5101 - accuracy: 0.8318 - val_loss: 1.0582 - val_accuracy: 0.7220\n",
            "Epoch 37/100\n",
            "1407/1407 [==============================] - 7s 5ms/step - loss: 0.5137 - accuracy: 0.8324 - val_loss: 1.0150 - val_accuracy: 0.7098\n",
            "Epoch 38/100\n",
            "1407/1407 [==============================] - 7s 5ms/step - loss: 0.4954 - accuracy: 0.8355 - val_loss: 1.0024 - val_accuracy: 0.7152\n",
            "Epoch 39/100\n",
            "1407/1407 [==============================] - 7s 5ms/step - loss: 0.4824 - accuracy: 0.8396 - val_loss: 1.0823 - val_accuracy: 0.7286\n",
            "Epoch 40/100\n",
            "1407/1407 [==============================] - 8s 5ms/step - loss: 0.4866 - accuracy: 0.8406 - val_loss: 1.1491 - val_accuracy: 0.7228\n",
            "Epoch 41/100\n",
            "1407/1407 [==============================] - 7s 5ms/step - loss: 0.4759 - accuracy: 0.8432 - val_loss: 1.0574 - val_accuracy: 0.7186\n",
            "Epoch 42/100\n",
            "1407/1407 [==============================] - 7s 5ms/step - loss: 0.4621 - accuracy: 0.8495 - val_loss: 1.0781 - val_accuracy: 0.7224\n",
            "Epoch 43/100\n",
            "1407/1407 [==============================] - 8s 5ms/step - loss: 0.4685 - accuracy: 0.8484 - val_loss: 1.1171 - val_accuracy: 0.7158\n",
            "Epoch 44/100\n",
            "1407/1407 [==============================] - 7s 5ms/step - loss: 0.4462 - accuracy: 0.8558 - val_loss: 1.1366 - val_accuracy: 0.7206\n",
            "Epoch 45/100\n",
            "1407/1407 [==============================] - 7s 5ms/step - loss: 0.4333 - accuracy: 0.8580 - val_loss: 1.1473 - val_accuracy: 0.7272\n",
            "Epoch 46/100\n",
            "1407/1407 [==============================] - 7s 5ms/step - loss: 0.4282 - accuracy: 0.8627 - val_loss: 1.2520 - val_accuracy: 0.7028\n",
            "Epoch 47/100\n",
            "1407/1407 [==============================] - 7s 5ms/step - loss: 0.4280 - accuracy: 0.8613 - val_loss: 1.1805 - val_accuracy: 0.7180\n",
            "Epoch 48/100\n",
            "1407/1407 [==============================] - 7s 5ms/step - loss: 0.4127 - accuracy: 0.8670 - val_loss: 1.1491 - val_accuracy: 0.7232\n",
            "Epoch 49/100\n",
            "1407/1407 [==============================] - 7s 5ms/step - loss: 0.4121 - accuracy: 0.8652 - val_loss: 1.1388 - val_accuracy: 0.7196\n",
            "Epoch 50/100\n",
            "1407/1407 [==============================] - 7s 5ms/step - loss: 0.4006 - accuracy: 0.8720 - val_loss: 1.2282 - val_accuracy: 0.7196\n",
            "Epoch 51/100\n",
            "1407/1407 [==============================] - 7s 5ms/step - loss: 0.3925 - accuracy: 0.8758 - val_loss: 1.3227 - val_accuracy: 0.7174\n",
            "Epoch 52/100\n",
            "1407/1407 [==============================] - 8s 6ms/step - loss: 0.3809 - accuracy: 0.8789 - val_loss: 1.2889 - val_accuracy: 0.7236\n",
            "Epoch 53/100\n",
            "1407/1407 [==============================] - 7s 5ms/step - loss: 0.3844 - accuracy: 0.8790 - val_loss: 1.2607 - val_accuracy: 0.7218\n",
            "Epoch 54/100\n",
            "1407/1407 [==============================] - 7s 5ms/step - loss: 0.3701 - accuracy: 0.8831 - val_loss: 1.2908 - val_accuracy: 0.7122\n",
            "Epoch 55/100\n",
            "1407/1407 [==============================] - 7s 5ms/step - loss: 0.3838 - accuracy: 0.8780 - val_loss: 1.2609 - val_accuracy: 0.7094\n",
            "Epoch 56/100\n",
            "1407/1407 [==============================] - 8s 6ms/step - loss: 0.3667 - accuracy: 0.8852 - val_loss: 1.3552 - val_accuracy: 0.7120\n",
            "Epoch 57/100\n",
            "1407/1407 [==============================] - 8s 5ms/step - loss: 0.3800 - accuracy: 0.8833 - val_loss: 1.3215 - val_accuracy: 0.7162\n",
            "Epoch 58/100\n",
            "1407/1407 [==============================] - 8s 5ms/step - loss: 0.3867 - accuracy: 0.8784 - val_loss: 1.2584 - val_accuracy: 0.7178\n",
            "Epoch 59/100\n",
            "1407/1407 [==============================] - 7s 5ms/step - loss: 0.3540 - accuracy: 0.8894 - val_loss: 1.3294 - val_accuracy: 0.7204\n",
            "Epoch 60/100\n",
            "1407/1407 [==============================] - 7s 5ms/step - loss: 0.3407 - accuracy: 0.8936 - val_loss: 1.4291 - val_accuracy: 0.7194\n",
            "Epoch 61/100\n",
            "1407/1407 [==============================] - 7s 5ms/step - loss: 0.3490 - accuracy: 0.8920 - val_loss: 1.3722 - val_accuracy: 0.7144\n",
            "Epoch 62/100\n",
            "1407/1407 [==============================] - 8s 5ms/step - loss: 0.3636 - accuracy: 0.8870 - val_loss: 1.3860 - val_accuracy: 0.7158\n",
            "Epoch 63/100\n",
            "1407/1407 [==============================] - 7s 5ms/step - loss: 0.3466 - accuracy: 0.8933 - val_loss: 1.2985 - val_accuracy: 0.7198\n",
            "Epoch 64/100\n",
            "1407/1407 [==============================] - 8s 5ms/step - loss: 0.3449 - accuracy: 0.8935 - val_loss: 1.3337 - val_accuracy: 0.7204\n",
            "Epoch 65/100\n",
            "1407/1407 [==============================] - 8s 5ms/step - loss: 0.3322 - accuracy: 0.8969 - val_loss: 1.4283 - val_accuracy: 0.7270\n",
            "Epoch 66/100\n",
            "1407/1407 [==============================] - 8s 5ms/step - loss: 0.3437 - accuracy: 0.8956 - val_loss: 1.4265 - val_accuracy: 0.7156\n",
            "Epoch 67/100\n",
            "1407/1407 [==============================] - 7s 5ms/step - loss: 0.3377 - accuracy: 0.8973 - val_loss: 1.4409 - val_accuracy: 0.7140\n",
            "Epoch 68/100\n",
            "1407/1407 [==============================] - 7s 5ms/step - loss: 0.3321 - accuracy: 0.8991 - val_loss: 1.3843 - val_accuracy: 0.7170\n",
            "Epoch 69/100\n",
            "1407/1407 [==============================] - 8s 5ms/step - loss: 0.3340 - accuracy: 0.8981 - val_loss: 1.3790 - val_accuracy: 0.7202\n",
            "Epoch 70/100\n",
            "1407/1407 [==============================] - 7s 5ms/step - loss: 0.3204 - accuracy: 0.9017 - val_loss: 1.3258 - val_accuracy: 0.7130\n",
            "Epoch 71/100\n",
            "1407/1407 [==============================] - 7s 5ms/step - loss: 0.3114 - accuracy: 0.9043 - val_loss: 1.4692 - val_accuracy: 0.7038\n",
            "Epoch 72/100\n",
            "1407/1407 [==============================] - 7s 5ms/step - loss: 0.3401 - accuracy: 0.8969 - val_loss: 1.4163 - val_accuracy: 0.7146\n",
            "Epoch 73/100\n",
            "1407/1407 [==============================] - 7s 5ms/step - loss: 0.3251 - accuracy: 0.9016 - val_loss: 1.4086 - val_accuracy: 0.7222\n",
            "Epoch 74/100\n",
            "1407/1407 [==============================] - 8s 5ms/step - loss: 0.3181 - accuracy: 0.9059 - val_loss: 1.4300 - val_accuracy: 0.7136\n",
            "Epoch 75/100\n",
            "1407/1407 [==============================] - 7s 5ms/step - loss: 0.3092 - accuracy: 0.9060 - val_loss: 1.5240 - val_accuracy: 0.7318\n",
            "Epoch 76/100\n",
            "1407/1407 [==============================] - 8s 5ms/step - loss: 0.3243 - accuracy: 0.9009 - val_loss: 1.4644 - val_accuracy: 0.7132\n",
            "Epoch 77/100\n",
            "1407/1407 [==============================] - 7s 5ms/step - loss: 0.3277 - accuracy: 0.9031 - val_loss: 1.5837 - val_accuracy: 0.7106\n",
            "Epoch 78/100\n",
            "1407/1407 [==============================] - 7s 5ms/step - loss: 0.3053 - accuracy: 0.9104 - val_loss: 1.4884 - val_accuracy: 0.7210\n",
            "Epoch 79/100\n",
            "1407/1407 [==============================] - 7s 5ms/step - loss: 0.3122 - accuracy: 0.9075 - val_loss: 1.6032 - val_accuracy: 0.7154\n",
            "Epoch 80/100\n",
            "1407/1407 [==============================] - 8s 5ms/step - loss: 0.3057 - accuracy: 0.9087 - val_loss: 1.6004 - val_accuracy: 0.6974\n",
            "Epoch 81/100\n",
            "1407/1407 [==============================] - 8s 5ms/step - loss: 0.3027 - accuracy: 0.9102 - val_loss: 1.5645 - val_accuracy: 0.7170\n",
            "Epoch 82/100\n",
            "1407/1407 [==============================] - 8s 6ms/step - loss: 0.3016 - accuracy: 0.9114 - val_loss: 1.5414 - val_accuracy: 0.7150\n",
            "Epoch 83/100\n",
            "1407/1407 [==============================] - 7s 5ms/step - loss: 0.3092 - accuracy: 0.9106 - val_loss: 1.5643 - val_accuracy: 0.7144\n",
            "Epoch 84/100\n",
            "1407/1407 [==============================] - 7s 5ms/step - loss: 0.3050 - accuracy: 0.9104 - val_loss: 1.5006 - val_accuracy: 0.7174\n",
            "Epoch 85/100\n",
            "1407/1407 [==============================] - 7s 5ms/step - loss: 0.2752 - accuracy: 0.9184 - val_loss: 1.7502 - val_accuracy: 0.7130\n",
            "Epoch 86/100\n",
            "1407/1407 [==============================] - 7s 5ms/step - loss: 0.2852 - accuracy: 0.9173 - val_loss: 1.6984 - val_accuracy: 0.7216\n",
            "Epoch 87/100\n",
            "1407/1407 [==============================] - 8s 5ms/step - loss: 0.2935 - accuracy: 0.9146 - val_loss: 1.6373 - val_accuracy: 0.7196\n",
            "Epoch 88/100\n",
            "1407/1407 [==============================] - 8s 5ms/step - loss: 0.2895 - accuracy: 0.9160 - val_loss: 1.4910 - val_accuracy: 0.7214\n",
            "Epoch 89/100\n",
            "1407/1407 [==============================] - 7s 5ms/step - loss: 0.3162 - accuracy: 0.9096 - val_loss: 1.3775 - val_accuracy: 0.7172\n",
            "Epoch 90/100\n",
            "1407/1407 [==============================] - 8s 5ms/step - loss: 0.2881 - accuracy: 0.9174 - val_loss: 1.4602 - val_accuracy: 0.7148\n",
            "Epoch 91/100\n",
            "1407/1407 [==============================] - 7s 5ms/step - loss: 0.2807 - accuracy: 0.9187 - val_loss: 1.7311 - val_accuracy: 0.7320\n",
            "Epoch 92/100\n",
            "1407/1407 [==============================] - 8s 5ms/step - loss: 0.2901 - accuracy: 0.9172 - val_loss: 1.7116 - val_accuracy: 0.7198\n",
            "Epoch 93/100\n",
            "1407/1407 [==============================] - 7s 5ms/step - loss: 0.2764 - accuracy: 0.9205 - val_loss: 1.6506 - val_accuracy: 0.7258\n",
            "Epoch 94/100\n",
            "1407/1407 [==============================] - 7s 5ms/step - loss: 0.2760 - accuracy: 0.9221 - val_loss: 1.6329 - val_accuracy: 0.7206\n",
            "Epoch 95/100\n",
            "1407/1407 [==============================] - 8s 5ms/step - loss: 0.2776 - accuracy: 0.9195 - val_loss: 1.6451 - val_accuracy: 0.7276\n",
            "Epoch 96/100\n",
            "1407/1407 [==============================] - 8s 5ms/step - loss: 0.2793 - accuracy: 0.9198 - val_loss: 1.6836 - val_accuracy: 0.7156\n",
            "Epoch 97/100\n",
            "1407/1407 [==============================] - 8s 5ms/step - loss: 0.2851 - accuracy: 0.9180 - val_loss: 1.5040 - val_accuracy: 0.7050\n",
            "Epoch 98/100\n",
            "1407/1407 [==============================] - 8s 6ms/step - loss: 0.2763 - accuracy: 0.9216 - val_loss: 1.7766 - val_accuracy: 0.7166\n",
            "Epoch 99/100\n",
            "1407/1407 [==============================] - 8s 6ms/step - loss: 0.2634 - accuracy: 0.9251 - val_loss: 1.7897 - val_accuracy: 0.7106\n",
            "Epoch 100/100\n",
            "1407/1407 [==============================] - 8s 5ms/step - loss: 0.2891 - accuracy: 0.9175 - val_loss: 1.6869 - val_accuracy: 0.7124\n",
            "313/313 [==============================] - 1s 3ms/step - loss: 1.7776 - accuracy: 0.7010\n"
          ]
        }
      ]
    },
    {
      "cell_type": "code",
      "source": [
        "score"
      ],
      "metadata": {
        "colab": {
          "base_uri": "https://localhost:8080/"
        },
        "id": "qEXK_GuixizC",
        "outputId": "c9be436a-b9db-453c-b0fc-fa8c8a030223"
      },
      "execution_count": 11,
      "outputs": [
        {
          "output_type": "execute_result",
          "data": {
            "text/plain": [
              "[1.7776151895523071, 0.7009999752044678]"
            ]
          },
          "metadata": {},
          "execution_count": 11
        }
      ]
    },
    {
      "cell_type": "markdown",
      "source": [
        "Уже намного лучше. accuracy=0.7\n",
        "Поменяем немного архитектуру сети"
      ],
      "metadata": {
        "id": "bayN4f5bxqq-"
      }
    },
    {
      "cell_type": "code",
      "source": [
        "#убрали два слоя\n",
        "DefaultConv2D = partial(keras.layers.Conv2D,\n",
        "                        kernel_size=3, activation='relu', padding=\"SAME\")\n",
        "\n",
        "model = keras.models.Sequential([\n",
        "    DefaultConv2D(filters=32, kernel_size=3, input_shape=[32, 32, 3]),\n",
        "    keras.layers.MaxPooling2D(pool_size=2),\n",
        "    DefaultConv2D(filters=64),\n",
        "    keras.layers.MaxPooling2D(pool_size=2),\n",
        "    DefaultConv2D(filters=128),\n",
        "    keras.layers.MaxPooling2D(pool_size=2),\n",
        "    keras.layers.Flatten(),\n",
        "    keras.layers.Dense(units=64, activation='relu'),\n",
        "    keras.layers.Dropout(0.5),\n",
        "    keras.layers.Dense(units=64, activation='relu'),\n",
        "    keras.layers.Dropout(0.5),\n",
        "    keras.layers.Dense(units=10, activation='softmax'),\n",
        "])"
      ],
      "metadata": {
        "id": "MKPYD-ZyxxGe"
      },
      "execution_count": 12,
      "outputs": []
    },
    {
      "cell_type": "code",
      "source": [
        "model.compile(loss=\"sparse_categorical_crossentropy\", optimizer=\"adam\", metrics=[\"accuracy\"])\n",
        "history = model.fit(X_train, y_train, epochs=100,\n",
        "                    validation_data=(X_valid, y_valid), verbose=1)\n",
        "score = model.evaluate(X_test, y_test, verbose=1)"
      ],
      "metadata": {
        "colab": {
          "base_uri": "https://localhost:8080/"
        },
        "id": "Cce-wck1x-aH",
        "outputId": "1487b2f7-2514-4fd1-9e09-907ea95ce330"
      },
      "execution_count": 13,
      "outputs": [
        {
          "output_type": "stream",
          "name": "stdout",
          "text": [
            "Epoch 1/100\n",
            "1407/1407 [==============================] - 8s 6ms/step - loss: 1.8608 - accuracy: 0.2923 - val_loss: 1.4783 - val_accuracy: 0.4600\n",
            "Epoch 2/100\n",
            "1407/1407 [==============================] - 7s 5ms/step - loss: 1.5221 - accuracy: 0.4314 - val_loss: 1.2980 - val_accuracy: 0.5522\n",
            "Epoch 3/100\n",
            "1407/1407 [==============================] - 6s 5ms/step - loss: 1.3746 - accuracy: 0.4933 - val_loss: 1.1808 - val_accuracy: 0.5962\n",
            "Epoch 4/100\n",
            "1407/1407 [==============================] - 7s 5ms/step - loss: 1.2802 - accuracy: 0.5334 - val_loss: 1.0402 - val_accuracy: 0.6398\n",
            "Epoch 5/100\n",
            "1407/1407 [==============================] - 7s 5ms/step - loss: 1.2105 - accuracy: 0.5679 - val_loss: 1.0637 - val_accuracy: 0.6432\n",
            "Epoch 6/100\n",
            "1407/1407 [==============================] - 7s 5ms/step - loss: 1.1563 - accuracy: 0.5864 - val_loss: 0.9725 - val_accuracy: 0.6644\n",
            "Epoch 7/100\n",
            "1407/1407 [==============================] - 7s 5ms/step - loss: 1.1027 - accuracy: 0.6070 - val_loss: 0.9779 - val_accuracy: 0.6678\n",
            "Epoch 8/100\n",
            "1407/1407 [==============================] - 7s 5ms/step - loss: 1.0699 - accuracy: 0.6207 - val_loss: 0.9915 - val_accuracy: 0.6580\n",
            "Epoch 9/100\n",
            "1407/1407 [==============================] - 6s 5ms/step - loss: 1.0241 - accuracy: 0.6384 - val_loss: 0.9182 - val_accuracy: 0.6912\n",
            "Epoch 10/100\n",
            "1407/1407 [==============================] - 7s 5ms/step - loss: 0.9922 - accuracy: 0.6495 - val_loss: 0.9359 - val_accuracy: 0.6796\n",
            "Epoch 11/100\n",
            "1407/1407 [==============================] - 7s 5ms/step - loss: 0.9591 - accuracy: 0.6657 - val_loss: 0.9332 - val_accuracy: 0.6778\n",
            "Epoch 12/100\n",
            "1407/1407 [==============================] - 7s 5ms/step - loss: 0.9150 - accuracy: 0.6772 - val_loss: 0.8849 - val_accuracy: 0.6988\n",
            "Epoch 13/100\n",
            "1407/1407 [==============================] - 7s 5ms/step - loss: 0.8907 - accuracy: 0.6884 - val_loss: 0.8883 - val_accuracy: 0.7036\n",
            "Epoch 14/100\n",
            "1407/1407 [==============================] - 7s 5ms/step - loss: 0.8683 - accuracy: 0.6977 - val_loss: 0.8918 - val_accuracy: 0.7008\n",
            "Epoch 15/100\n",
            "1407/1407 [==============================] - 7s 5ms/step - loss: 0.8469 - accuracy: 0.7054 - val_loss: 0.8889 - val_accuracy: 0.6958\n",
            "Epoch 16/100\n",
            "1407/1407 [==============================] - 7s 5ms/step - loss: 0.8217 - accuracy: 0.7139 - val_loss: 0.8592 - val_accuracy: 0.7180\n",
            "Epoch 17/100\n",
            "1407/1407 [==============================] - 7s 5ms/step - loss: 0.8004 - accuracy: 0.7217 - val_loss: 0.8597 - val_accuracy: 0.7190\n",
            "Epoch 18/100\n",
            "1407/1407 [==============================] - 7s 5ms/step - loss: 0.7887 - accuracy: 0.7231 - val_loss: 0.8530 - val_accuracy: 0.7238\n",
            "Epoch 19/100\n",
            "1407/1407 [==============================] - 6s 5ms/step - loss: 0.7687 - accuracy: 0.7322 - val_loss: 0.8440 - val_accuracy: 0.7176\n",
            "Epoch 20/100\n",
            "1407/1407 [==============================] - 7s 5ms/step - loss: 0.7476 - accuracy: 0.7394 - val_loss: 0.8681 - val_accuracy: 0.7054\n",
            "Epoch 21/100\n",
            "1407/1407 [==============================] - 7s 5ms/step - loss: 0.7390 - accuracy: 0.7445 - val_loss: 0.8303 - val_accuracy: 0.7356\n",
            "Epoch 22/100\n",
            "1407/1407 [==============================] - 7s 5ms/step - loss: 0.7190 - accuracy: 0.7498 - val_loss: 0.8919 - val_accuracy: 0.7162\n",
            "Epoch 23/100\n",
            "1407/1407 [==============================] - 7s 5ms/step - loss: 0.7112 - accuracy: 0.7524 - val_loss: 0.8679 - val_accuracy: 0.7190\n",
            "Epoch 24/100\n",
            "1407/1407 [==============================] - 7s 5ms/step - loss: 0.6867 - accuracy: 0.7601 - val_loss: 0.8971 - val_accuracy: 0.7114\n",
            "Epoch 25/100\n",
            "1407/1407 [==============================] - 7s 5ms/step - loss: 0.6868 - accuracy: 0.7598 - val_loss: 0.8793 - val_accuracy: 0.7186\n",
            "Epoch 26/100\n",
            "1407/1407 [==============================] - 7s 5ms/step - loss: 0.6646 - accuracy: 0.7685 - val_loss: 0.8923 - val_accuracy: 0.7270\n",
            "Epoch 27/100\n",
            "1407/1407 [==============================] - 6s 5ms/step - loss: 0.6569 - accuracy: 0.7721 - val_loss: 0.8570 - val_accuracy: 0.7318\n",
            "Epoch 28/100\n",
            "1407/1407 [==============================] - 7s 5ms/step - loss: 0.6571 - accuracy: 0.7729 - val_loss: 0.8963 - val_accuracy: 0.7276\n",
            "Epoch 29/100\n",
            "1407/1407 [==============================] - 7s 5ms/step - loss: 0.6414 - accuracy: 0.7788 - val_loss: 0.8617 - val_accuracy: 0.7244\n",
            "Epoch 30/100\n",
            "1407/1407 [==============================] - 7s 5ms/step - loss: 0.6287 - accuracy: 0.7818 - val_loss: 0.8647 - val_accuracy: 0.7354\n",
            "Epoch 31/100\n",
            "1407/1407 [==============================] - 7s 5ms/step - loss: 0.6174 - accuracy: 0.7828 - val_loss: 0.8575 - val_accuracy: 0.7394\n",
            "Epoch 32/100\n",
            "1407/1407 [==============================] - 7s 5ms/step - loss: 0.6183 - accuracy: 0.7865 - val_loss: 0.8983 - val_accuracy: 0.7356\n",
            "Epoch 33/100\n",
            "1407/1407 [==============================] - 7s 5ms/step - loss: 0.5980 - accuracy: 0.7913 - val_loss: 0.9954 - val_accuracy: 0.7044\n",
            "Epoch 34/100\n",
            "1407/1407 [==============================] - 7s 5ms/step - loss: 0.5976 - accuracy: 0.7943 - val_loss: 0.9060 - val_accuracy: 0.7342\n",
            "Epoch 35/100\n",
            "1407/1407 [==============================] - 7s 5ms/step - loss: 0.5834 - accuracy: 0.7990 - val_loss: 0.9235 - val_accuracy: 0.7258\n",
            "Epoch 36/100\n",
            "1407/1407 [==============================] - 7s 5ms/step - loss: 0.5717 - accuracy: 0.8034 - val_loss: 0.9472 - val_accuracy: 0.7308\n",
            "Epoch 37/100\n",
            "1407/1407 [==============================] - 7s 5ms/step - loss: 0.5811 - accuracy: 0.7989 - val_loss: 0.9353 - val_accuracy: 0.7328\n",
            "Epoch 38/100\n",
            "1407/1407 [==============================] - 6s 5ms/step - loss: 0.5632 - accuracy: 0.8064 - val_loss: 0.9497 - val_accuracy: 0.7194\n",
            "Epoch 39/100\n",
            "1407/1407 [==============================] - 7s 5ms/step - loss: 0.5537 - accuracy: 0.8094 - val_loss: 0.9206 - val_accuracy: 0.7342\n",
            "Epoch 40/100\n",
            "1407/1407 [==============================] - 7s 5ms/step - loss: 0.5399 - accuracy: 0.8133 - val_loss: 0.9159 - val_accuracy: 0.7328\n",
            "Epoch 41/100\n",
            "1407/1407 [==============================] - 7s 5ms/step - loss: 0.5308 - accuracy: 0.8184 - val_loss: 0.9637 - val_accuracy: 0.7328\n",
            "Epoch 42/100\n",
            "1407/1407 [==============================] - 7s 5ms/step - loss: 0.5441 - accuracy: 0.8136 - val_loss: 0.9717 - val_accuracy: 0.7308\n",
            "Epoch 43/100\n",
            "1407/1407 [==============================] - 7s 5ms/step - loss: 0.5294 - accuracy: 0.8165 - val_loss: 0.9367 - val_accuracy: 0.7328\n",
            "Epoch 44/100\n",
            "1407/1407 [==============================] - 7s 5ms/step - loss: 0.5137 - accuracy: 0.8225 - val_loss: 0.9787 - val_accuracy: 0.7362\n",
            "Epoch 45/100\n",
            "1407/1407 [==============================] - 6s 5ms/step - loss: 0.5167 - accuracy: 0.8221 - val_loss: 1.0180 - val_accuracy: 0.7268\n",
            "Epoch 46/100\n",
            "1407/1407 [==============================] - 7s 5ms/step - loss: 0.5033 - accuracy: 0.8279 - val_loss: 0.9702 - val_accuracy: 0.7356\n",
            "Epoch 47/100\n",
            "1407/1407 [==============================] - 7s 5ms/step - loss: 0.5042 - accuracy: 0.8284 - val_loss: 0.9742 - val_accuracy: 0.7384\n",
            "Epoch 48/100\n",
            "1407/1407 [==============================] - 7s 5ms/step - loss: 0.4944 - accuracy: 0.8312 - val_loss: 0.9864 - val_accuracy: 0.7350\n",
            "Epoch 49/100\n",
            "1407/1407 [==============================] - 6s 5ms/step - loss: 0.4959 - accuracy: 0.8286 - val_loss: 0.9999 - val_accuracy: 0.7406\n",
            "Epoch 50/100\n",
            "1407/1407 [==============================] - 7s 5ms/step - loss: 0.4863 - accuracy: 0.8346 - val_loss: 0.9865 - val_accuracy: 0.7314\n",
            "Epoch 51/100\n",
            "1407/1407 [==============================] - 7s 5ms/step - loss: 0.4714 - accuracy: 0.8388 - val_loss: 1.0113 - val_accuracy: 0.7386\n",
            "Epoch 52/100\n",
            "1407/1407 [==============================] - 7s 5ms/step - loss: 0.4639 - accuracy: 0.8432 - val_loss: 1.0551 - val_accuracy: 0.7384\n",
            "Epoch 53/100\n",
            "1407/1407 [==============================] - 7s 5ms/step - loss: 0.4695 - accuracy: 0.8410 - val_loss: 1.0229 - val_accuracy: 0.7350\n",
            "Epoch 54/100\n",
            "1407/1407 [==============================] - 7s 5ms/step - loss: 0.4677 - accuracy: 0.8416 - val_loss: 1.0799 - val_accuracy: 0.7308\n",
            "Epoch 55/100\n",
            "1407/1407 [==============================] - 7s 5ms/step - loss: 0.4464 - accuracy: 0.8480 - val_loss: 1.1752 - val_accuracy: 0.7024\n",
            "Epoch 56/100\n",
            "1407/1407 [==============================] - 7s 5ms/step - loss: 0.4566 - accuracy: 0.8438 - val_loss: 1.0596 - val_accuracy: 0.7362\n",
            "Epoch 57/100\n",
            "1407/1407 [==============================] - 6s 5ms/step - loss: 0.4412 - accuracy: 0.8496 - val_loss: 1.1031 - val_accuracy: 0.7288\n",
            "Epoch 58/100\n",
            "1407/1407 [==============================] - 6s 5ms/step - loss: 0.4453 - accuracy: 0.8501 - val_loss: 1.1037 - val_accuracy: 0.7308\n",
            "Epoch 59/100\n",
            "1407/1407 [==============================] - 7s 5ms/step - loss: 0.4374 - accuracy: 0.8508 - val_loss: 1.1096 - val_accuracy: 0.7298\n",
            "Epoch 60/100\n",
            "1407/1407 [==============================] - 7s 5ms/step - loss: 0.4336 - accuracy: 0.8533 - val_loss: 1.0897 - val_accuracy: 0.7356\n",
            "Epoch 61/100\n",
            "1407/1407 [==============================] - 7s 5ms/step - loss: 0.4312 - accuracy: 0.8546 - val_loss: 1.1332 - val_accuracy: 0.7284\n",
            "Epoch 62/100\n",
            "1407/1407 [==============================] - 6s 5ms/step - loss: 0.4354 - accuracy: 0.8536 - val_loss: 1.1362 - val_accuracy: 0.7336\n",
            "Epoch 63/100\n",
            "1407/1407 [==============================] - 7s 5ms/step - loss: 0.4242 - accuracy: 0.8571 - val_loss: 1.0917 - val_accuracy: 0.7418\n",
            "Epoch 64/100\n",
            "1407/1407 [==============================] - 6s 5ms/step - loss: 0.4252 - accuracy: 0.8560 - val_loss: 1.1567 - val_accuracy: 0.7378\n",
            "Epoch 65/100\n",
            "1407/1407 [==============================] - 7s 5ms/step - loss: 0.4117 - accuracy: 0.8621 - val_loss: 1.1073 - val_accuracy: 0.7282\n",
            "Epoch 66/100\n",
            "1407/1407 [==============================] - 7s 5ms/step - loss: 0.4075 - accuracy: 0.8634 - val_loss: 1.1608 - val_accuracy: 0.7304\n",
            "Epoch 67/100\n",
            "1407/1407 [==============================] - 7s 5ms/step - loss: 0.4026 - accuracy: 0.8649 - val_loss: 1.1781 - val_accuracy: 0.7372\n",
            "Epoch 68/100\n",
            "1407/1407 [==============================] - 6s 5ms/step - loss: 0.4090 - accuracy: 0.8649 - val_loss: 1.1091 - val_accuracy: 0.7340\n",
            "Epoch 69/100\n",
            "1407/1407 [==============================] - 6s 5ms/step - loss: 0.3983 - accuracy: 0.8669 - val_loss: 1.2233 - val_accuracy: 0.7348\n",
            "Epoch 70/100\n",
            "1407/1407 [==============================] - 7s 5ms/step - loss: 0.3960 - accuracy: 0.8680 - val_loss: 1.1859 - val_accuracy: 0.7374\n",
            "Epoch 71/100\n",
            "1407/1407 [==============================] - 7s 5ms/step - loss: 0.3902 - accuracy: 0.8705 - val_loss: 1.2236 - val_accuracy: 0.7296\n",
            "Epoch 72/100\n",
            "1407/1407 [==============================] - 7s 5ms/step - loss: 0.3996 - accuracy: 0.8665 - val_loss: 1.2041 - val_accuracy: 0.7362\n",
            "Epoch 73/100\n",
            "1407/1407 [==============================] - 7s 5ms/step - loss: 0.3924 - accuracy: 0.8694 - val_loss: 1.1431 - val_accuracy: 0.7374\n",
            "Epoch 74/100\n",
            "1407/1407 [==============================] - 7s 5ms/step - loss: 0.3829 - accuracy: 0.8718 - val_loss: 1.2293 - val_accuracy: 0.7396\n",
            "Epoch 75/100\n",
            "1407/1407 [==============================] - 7s 5ms/step - loss: 0.3851 - accuracy: 0.8716 - val_loss: 1.1605 - val_accuracy: 0.7340\n",
            "Epoch 76/100\n",
            "1407/1407 [==============================] - 7s 5ms/step - loss: 0.3790 - accuracy: 0.8746 - val_loss: 1.1725 - val_accuracy: 0.7292\n",
            "Epoch 77/100\n",
            "1407/1407 [==============================] - 7s 5ms/step - loss: 0.3796 - accuracy: 0.8735 - val_loss: 1.2796 - val_accuracy: 0.7340\n",
            "Epoch 78/100\n",
            "1407/1407 [==============================] - 7s 5ms/step - loss: 0.3714 - accuracy: 0.8762 - val_loss: 1.2055 - val_accuracy: 0.7428\n",
            "Epoch 79/100\n",
            "1407/1407 [==============================] - 6s 5ms/step - loss: 0.3720 - accuracy: 0.8768 - val_loss: 1.3078 - val_accuracy: 0.7292\n",
            "Epoch 80/100\n",
            "1407/1407 [==============================] - 7s 5ms/step - loss: 0.3659 - accuracy: 0.8772 - val_loss: 1.2238 - val_accuracy: 0.7384\n",
            "Epoch 81/100\n",
            "1407/1407 [==============================] - 7s 5ms/step - loss: 0.3618 - accuracy: 0.8793 - val_loss: 1.2814 - val_accuracy: 0.7422\n",
            "Epoch 82/100\n",
            "1407/1407 [==============================] - 6s 5ms/step - loss: 0.3668 - accuracy: 0.8797 - val_loss: 1.1912 - val_accuracy: 0.7330\n",
            "Epoch 83/100\n",
            "1407/1407 [==============================] - 7s 5ms/step - loss: 0.3514 - accuracy: 0.8832 - val_loss: 1.2683 - val_accuracy: 0.7386\n",
            "Epoch 84/100\n",
            "1407/1407 [==============================] - 7s 5ms/step - loss: 0.3514 - accuracy: 0.8852 - val_loss: 1.3857 - val_accuracy: 0.7214\n",
            "Epoch 85/100\n",
            "1407/1407 [==============================] - 7s 5ms/step - loss: 0.3459 - accuracy: 0.8850 - val_loss: 1.3673 - val_accuracy: 0.7288\n",
            "Epoch 86/100\n",
            "1407/1407 [==============================] - 6s 5ms/step - loss: 0.3509 - accuracy: 0.8846 - val_loss: 1.3614 - val_accuracy: 0.7380\n",
            "Epoch 87/100\n",
            "1407/1407 [==============================] - 7s 5ms/step - loss: 0.3509 - accuracy: 0.8843 - val_loss: 1.2886 - val_accuracy: 0.7350\n",
            "Epoch 88/100\n",
            "1407/1407 [==============================] - 6s 5ms/step - loss: 0.3490 - accuracy: 0.8862 - val_loss: 1.2801 - val_accuracy: 0.7308\n",
            "Epoch 89/100\n",
            "1407/1407 [==============================] - 7s 5ms/step - loss: 0.3460 - accuracy: 0.8854 - val_loss: 1.2593 - val_accuracy: 0.7216\n",
            "Epoch 90/100\n",
            "1407/1407 [==============================] - 7s 5ms/step - loss: 0.3312 - accuracy: 0.8920 - val_loss: 1.2746 - val_accuracy: 0.7342\n",
            "Epoch 91/100\n",
            "1407/1407 [==============================] - 7s 5ms/step - loss: 0.3339 - accuracy: 0.8910 - val_loss: 1.2247 - val_accuracy: 0.7312\n",
            "Epoch 92/100\n",
            "1407/1407 [==============================] - 7s 5ms/step - loss: 0.3323 - accuracy: 0.8898 - val_loss: 1.3574 - val_accuracy: 0.7404\n",
            "Epoch 93/100\n",
            "1407/1407 [==============================] - 7s 5ms/step - loss: 0.3365 - accuracy: 0.8902 - val_loss: 1.3543 - val_accuracy: 0.7272\n",
            "Epoch 94/100\n",
            "1407/1407 [==============================] - 7s 5ms/step - loss: 0.3330 - accuracy: 0.8903 - val_loss: 1.3884 - val_accuracy: 0.7334\n",
            "Epoch 95/100\n",
            "1407/1407 [==============================] - 7s 5ms/step - loss: 0.3313 - accuracy: 0.8918 - val_loss: 1.4337 - val_accuracy: 0.7324\n",
            "Epoch 96/100\n",
            "1407/1407 [==============================] - 7s 5ms/step - loss: 0.3387 - accuracy: 0.8910 - val_loss: 1.2920 - val_accuracy: 0.7366\n",
            "Epoch 97/100\n",
            "1407/1407 [==============================] - 7s 5ms/step - loss: 0.3260 - accuracy: 0.8960 - val_loss: 1.4124 - val_accuracy: 0.7212\n",
            "Epoch 98/100\n",
            "1407/1407 [==============================] - 7s 5ms/step - loss: 0.3260 - accuracy: 0.8942 - val_loss: 1.4609 - val_accuracy: 0.7312\n",
            "Epoch 99/100\n",
            "1407/1407 [==============================] - 6s 5ms/step - loss: 0.3102 - accuracy: 0.8983 - val_loss: 1.3767 - val_accuracy: 0.7300\n",
            "Epoch 100/100\n",
            "1407/1407 [==============================] - 7s 5ms/step - loss: 0.3312 - accuracy: 0.8938 - val_loss: 1.3292 - val_accuracy: 0.7262\n",
            "313/313 [==============================] - 1s 3ms/step - loss: 1.4686 - accuracy: 0.7186\n"
          ]
        }
      ]
    },
    {
      "cell_type": "code",
      "source": [
        "score"
      ],
      "metadata": {
        "colab": {
          "base_uri": "https://localhost:8080/"
        },
        "id": "42ZDASKl0nJn",
        "outputId": "b27fe372-0185-481d-eb5a-72724af06700"
      },
      "execution_count": 15,
      "outputs": [
        {
          "output_type": "execute_result",
          "data": {
            "text/plain": [
              "[1.4686088562011719, 0.7185999751091003]"
            ]
          },
          "metadata": {},
          "execution_count": 15
        }
      ]
    },
    {
      "cell_type": "markdown",
      "source": [
        "уже лучше получилось. Наконец, еще немного подредактируем нашу сеть"
      ],
      "metadata": {
        "id": "6wp1ZF320rBS"
      }
    },
    {
      "cell_type": "code",
      "source": [
        "DefaultConv2D = partial(keras.layers.Conv2D,\n",
        "                        kernel_size=3, activation='relu', padding=\"SAME\")\n",
        "\n",
        "model = keras.models.Sequential([\n",
        "    DefaultConv2D(filters=64, kernel_size=3, input_shape=[32, 32, 3]),\n",
        "    keras.layers.MaxPooling2D(pool_size=2),\n",
        "    DefaultConv2D(filters=128),\n",
        "    DefaultConv2D(filters=128),\n",
        "    keras.layers.MaxPooling2D(pool_size=2),\n",
        "    DefaultConv2D(filters=256),\n",
        "    DefaultConv2D(filters=256),\n",
        "    keras.layers.MaxPooling2D(pool_size=2),\n",
        "    keras.layers.Flatten(),\n",
        "    keras.layers.Dense(units=128, activation='relu'),\n",
        "    keras.layers.Dropout(0.5),\n",
        "    keras.layers.Dense(units=128, activation='relu'),\n",
        "    keras.layers.Dropout(0.5),\n",
        "    keras.layers.Dense(units=10, activation='softmax'),\n",
        "])"
      ],
      "metadata": {
        "id": "mVdtY27l0wbA"
      },
      "execution_count": 16,
      "outputs": []
    },
    {
      "cell_type": "code",
      "source": [
        "model.compile(loss=\"sparse_categorical_crossentropy\", optimizer=\"adam\", metrics=[\"accuracy\"])\n",
        "history = model.fit(X_train, y_train, epochs=100,\n",
        "                    validation_data=(X_valid, y_valid), verbose=1)\n",
        "score = model.evaluate(X_test, y_test, verbose=1)"
      ],
      "metadata": {
        "colab": {
          "base_uri": "https://localhost:8080/"
        },
        "id": "Qw8LW_2M045p",
        "outputId": "5516ec0f-2395-4076-ec7f-2d0f5d4bb2f4"
      },
      "execution_count": 17,
      "outputs": [
        {
          "output_type": "stream",
          "name": "stdout",
          "text": [
            "Epoch 1/100\n",
            "1407/1407 [==============================] - 12s 8ms/step - loss: 1.9186 - accuracy: 0.2727 - val_loss: 1.5368 - val_accuracy: 0.4508\n",
            "Epoch 2/100\n",
            "1407/1407 [==============================] - 10s 7ms/step - loss: 1.5074 - accuracy: 0.4514 - val_loss: 1.2514 - val_accuracy: 0.5504\n",
            "Epoch 3/100\n",
            "1407/1407 [==============================] - 10s 7ms/step - loss: 1.3047 - accuracy: 0.5372 - val_loss: 1.0953 - val_accuracy: 0.6208\n",
            "Epoch 4/100\n",
            "1407/1407 [==============================] - 10s 7ms/step - loss: 1.1575 - accuracy: 0.5958 - val_loss: 1.0216 - val_accuracy: 0.6478\n",
            "Epoch 5/100\n",
            "1407/1407 [==============================] - 11s 8ms/step - loss: 1.0604 - accuracy: 0.6318 - val_loss: 1.0813 - val_accuracy: 0.6208\n",
            "Epoch 6/100\n",
            "1407/1407 [==============================] - 10s 7ms/step - loss: 0.9746 - accuracy: 0.6642 - val_loss: 0.9447 - val_accuracy: 0.6736\n",
            "Epoch 7/100\n",
            "1407/1407 [==============================] - 10s 7ms/step - loss: 0.9090 - accuracy: 0.6886 - val_loss: 0.8845 - val_accuracy: 0.6912\n",
            "Epoch 8/100\n",
            "1407/1407 [==============================] - 10s 7ms/step - loss: 0.8551 - accuracy: 0.7075 - val_loss: 0.8682 - val_accuracy: 0.6998\n",
            "Epoch 9/100\n",
            "1407/1407 [==============================] - 10s 7ms/step - loss: 0.8050 - accuracy: 0.7269 - val_loss: 0.8715 - val_accuracy: 0.7026\n",
            "Epoch 10/100\n",
            "1407/1407 [==============================] - 10s 7ms/step - loss: 0.7614 - accuracy: 0.7434 - val_loss: 0.8580 - val_accuracy: 0.7148\n",
            "Epoch 11/100\n",
            "1407/1407 [==============================] - 10s 7ms/step - loss: 0.7252 - accuracy: 0.7542 - val_loss: 0.8866 - val_accuracy: 0.7022\n",
            "Epoch 12/100\n",
            "1407/1407 [==============================] - 10s 7ms/step - loss: 0.6797 - accuracy: 0.7712 - val_loss: 0.8597 - val_accuracy: 0.7146\n",
            "Epoch 13/100\n",
            "1407/1407 [==============================] - 10s 7ms/step - loss: 0.6416 - accuracy: 0.7834 - val_loss: 0.8764 - val_accuracy: 0.7168\n",
            "Epoch 14/100\n",
            "1407/1407 [==============================] - 10s 7ms/step - loss: 0.6158 - accuracy: 0.7926 - val_loss: 0.8674 - val_accuracy: 0.7216\n",
            "Epoch 15/100\n",
            "1407/1407 [==============================] - 10s 7ms/step - loss: 0.5878 - accuracy: 0.8008 - val_loss: 0.8339 - val_accuracy: 0.7208\n",
            "Epoch 16/100\n",
            "1407/1407 [==============================] - 10s 7ms/step - loss: 0.5540 - accuracy: 0.8129 - val_loss: 0.8223 - val_accuracy: 0.7322\n",
            "Epoch 17/100\n",
            "1407/1407 [==============================] - 10s 7ms/step - loss: 0.5313 - accuracy: 0.8204 - val_loss: 0.8642 - val_accuracy: 0.7298\n",
            "Epoch 18/100\n",
            "1407/1407 [==============================] - 10s 7ms/step - loss: 0.5121 - accuracy: 0.8303 - val_loss: 0.8551 - val_accuracy: 0.7416\n",
            "Epoch 19/100\n",
            "1407/1407 [==============================] - 10s 7ms/step - loss: 0.4949 - accuracy: 0.8362 - val_loss: 0.8804 - val_accuracy: 0.7274\n",
            "Epoch 20/100\n",
            "1407/1407 [==============================] - 10s 7ms/step - loss: 0.4685 - accuracy: 0.8438 - val_loss: 0.8706 - val_accuracy: 0.7336\n",
            "Epoch 21/100\n",
            "1407/1407 [==============================] - 10s 7ms/step - loss: 0.4473 - accuracy: 0.8511 - val_loss: 0.9050 - val_accuracy: 0.7320\n",
            "Epoch 22/100\n",
            "1407/1407 [==============================] - 11s 8ms/step - loss: 0.4394 - accuracy: 0.8556 - val_loss: 0.8302 - val_accuracy: 0.7432\n",
            "Epoch 23/100\n",
            "1407/1407 [==============================] - 11s 8ms/step - loss: 0.4149 - accuracy: 0.8624 - val_loss: 0.9233 - val_accuracy: 0.7324\n",
            "Epoch 24/100\n",
            "1407/1407 [==============================] - 10s 7ms/step - loss: 0.4023 - accuracy: 0.8678 - val_loss: 0.8934 - val_accuracy: 0.7360\n",
            "Epoch 25/100\n",
            "1407/1407 [==============================] - 11s 7ms/step - loss: 0.3685 - accuracy: 0.8800 - val_loss: 0.9118 - val_accuracy: 0.7384\n",
            "Epoch 26/100\n",
            "1407/1407 [==============================] - 10s 7ms/step - loss: 0.3716 - accuracy: 0.8799 - val_loss: 0.9796 - val_accuracy: 0.7338\n",
            "Epoch 27/100\n",
            "1407/1407 [==============================] - 10s 7ms/step - loss: 0.3715 - accuracy: 0.8818 - val_loss: 1.0082 - val_accuracy: 0.7264\n",
            "Epoch 28/100\n",
            "1407/1407 [==============================] - 10s 7ms/step - loss: 0.3456 - accuracy: 0.8905 - val_loss: 0.9813 - val_accuracy: 0.7332\n",
            "Epoch 29/100\n",
            "1407/1407 [==============================] - 10s 7ms/step - loss: 0.3434 - accuracy: 0.8912 - val_loss: 0.9785 - val_accuracy: 0.7278\n",
            "Epoch 30/100\n",
            "1407/1407 [==============================] - 10s 7ms/step - loss: 0.3325 - accuracy: 0.8942 - val_loss: 0.9953 - val_accuracy: 0.7334\n",
            "Epoch 31/100\n",
            "1407/1407 [==============================] - 10s 7ms/step - loss: 0.3152 - accuracy: 0.9011 - val_loss: 1.0259 - val_accuracy: 0.7222\n",
            "Epoch 32/100\n",
            "1407/1407 [==============================] - 10s 7ms/step - loss: 0.3099 - accuracy: 0.9021 - val_loss: 1.0898 - val_accuracy: 0.7274\n",
            "Epoch 33/100\n",
            "1407/1407 [==============================] - 10s 7ms/step - loss: 0.3021 - accuracy: 0.9046 - val_loss: 1.1270 - val_accuracy: 0.7330\n",
            "Epoch 34/100\n",
            "1407/1407 [==============================] - 10s 7ms/step - loss: 0.2981 - accuracy: 0.9078 - val_loss: 1.0525 - val_accuracy: 0.7266\n",
            "Epoch 35/100\n",
            "1407/1407 [==============================] - 10s 7ms/step - loss: 0.2751 - accuracy: 0.9137 - val_loss: 1.0767 - val_accuracy: 0.7380\n",
            "Epoch 36/100\n",
            "1407/1407 [==============================] - 10s 7ms/step - loss: 0.2856 - accuracy: 0.9121 - val_loss: 1.0733 - val_accuracy: 0.7280\n",
            "Epoch 37/100\n",
            "1407/1407 [==============================] - 11s 7ms/step - loss: 0.2780 - accuracy: 0.9153 - val_loss: 1.0731 - val_accuracy: 0.7272\n",
            "Epoch 38/100\n",
            "1407/1407 [==============================] - 10s 7ms/step - loss: 0.2610 - accuracy: 0.9207 - val_loss: 1.1671 - val_accuracy: 0.7228\n",
            "Epoch 39/100\n",
            "1407/1407 [==============================] - 10s 7ms/step - loss: 0.2684 - accuracy: 0.9165 - val_loss: 1.0996 - val_accuracy: 0.7402\n",
            "Epoch 40/100\n",
            "1407/1407 [==============================] - 10s 7ms/step - loss: 0.2564 - accuracy: 0.9218 - val_loss: 1.1588 - val_accuracy: 0.7274\n",
            "Epoch 41/100\n",
            "1407/1407 [==============================] - 10s 7ms/step - loss: 0.2663 - accuracy: 0.9213 - val_loss: 1.1580 - val_accuracy: 0.7348\n",
            "Epoch 42/100\n",
            "1407/1407 [==============================] - 10s 7ms/step - loss: 0.2508 - accuracy: 0.9248 - val_loss: 1.1038 - val_accuracy: 0.7378\n",
            "Epoch 43/100\n",
            "1407/1407 [==============================] - 10s 7ms/step - loss: 0.2451 - accuracy: 0.9264 - val_loss: 1.1329 - val_accuracy: 0.7314\n",
            "Epoch 44/100\n",
            "1407/1407 [==============================] - 10s 7ms/step - loss: 0.2457 - accuracy: 0.9274 - val_loss: 1.1693 - val_accuracy: 0.7358\n",
            "Epoch 45/100\n",
            "1407/1407 [==============================] - 11s 8ms/step - loss: 0.2453 - accuracy: 0.9277 - val_loss: 1.1542 - val_accuracy: 0.7284\n",
            "Epoch 46/100\n",
            "1407/1407 [==============================] - 11s 7ms/step - loss: 0.2348 - accuracy: 0.9309 - val_loss: 1.2772 - val_accuracy: 0.7174\n",
            "Epoch 47/100\n",
            "1407/1407 [==============================] - 10s 7ms/step - loss: 0.2434 - accuracy: 0.9290 - val_loss: 1.3235 - val_accuracy: 0.7278\n",
            "Epoch 48/100\n",
            "1407/1407 [==============================] - 10s 7ms/step - loss: 0.2326 - accuracy: 0.9335 - val_loss: 1.2271 - val_accuracy: 0.7328\n",
            "Epoch 49/100\n",
            "1407/1407 [==============================] - 11s 7ms/step - loss: 0.2289 - accuracy: 0.9334 - val_loss: 1.1672 - val_accuracy: 0.7376\n",
            "Epoch 50/100\n",
            "1407/1407 [==============================] - 10s 7ms/step - loss: 0.2294 - accuracy: 0.9341 - val_loss: 1.2183 - val_accuracy: 0.7400\n",
            "Epoch 51/100\n",
            "1407/1407 [==============================] - 10s 7ms/step - loss: 0.2260 - accuracy: 0.9360 - val_loss: 1.1894 - val_accuracy: 0.7452\n",
            "Epoch 52/100\n",
            "1407/1407 [==============================] - 11s 7ms/step - loss: 0.2346 - accuracy: 0.9334 - val_loss: 1.2563 - val_accuracy: 0.7218\n",
            "Epoch 53/100\n",
            "1407/1407 [==============================] - 10s 7ms/step - loss: 0.2228 - accuracy: 0.9367 - val_loss: 1.3089 - val_accuracy: 0.7380\n",
            "Epoch 54/100\n",
            "1407/1407 [==============================] - 10s 7ms/step - loss: 0.2131 - accuracy: 0.9403 - val_loss: 1.1980 - val_accuracy: 0.7342\n",
            "Epoch 55/100\n",
            "1407/1407 [==============================] - 11s 7ms/step - loss: 0.2149 - accuracy: 0.9401 - val_loss: 1.2513 - val_accuracy: 0.7320\n",
            "Epoch 56/100\n",
            "1407/1407 [==============================] - 10s 7ms/step - loss: 0.2021 - accuracy: 0.9421 - val_loss: 1.2366 - val_accuracy: 0.7400\n",
            "Epoch 57/100\n",
            "1407/1407 [==============================] - 10s 7ms/step - loss: 0.2075 - accuracy: 0.9413 - val_loss: 1.3467 - val_accuracy: 0.7064\n",
            "Epoch 58/100\n",
            "1407/1407 [==============================] - 10s 7ms/step - loss: 0.2169 - accuracy: 0.9391 - val_loss: 1.3459 - val_accuracy: 0.7354\n",
            "Epoch 59/100\n",
            "1407/1407 [==============================] - 11s 8ms/step - loss: 0.2056 - accuracy: 0.9430 - val_loss: 1.3157 - val_accuracy: 0.7314\n",
            "Epoch 60/100\n",
            "1407/1407 [==============================] - 11s 7ms/step - loss: 0.2071 - accuracy: 0.9432 - val_loss: 1.3203 - val_accuracy: 0.7342\n",
            "Epoch 61/100\n",
            "1407/1407 [==============================] - 10s 7ms/step - loss: 0.2094 - accuracy: 0.9423 - val_loss: 1.2710 - val_accuracy: 0.7394\n",
            "Epoch 62/100\n",
            "1407/1407 [==============================] - 10s 7ms/step - loss: 0.1976 - accuracy: 0.9467 - val_loss: 1.3895 - val_accuracy: 0.7258\n",
            "Epoch 63/100\n",
            "1407/1407 [==============================] - 10s 7ms/step - loss: 0.2101 - accuracy: 0.9437 - val_loss: 1.3183 - val_accuracy: 0.7300\n",
            "Epoch 64/100\n",
            "1407/1407 [==============================] - 11s 7ms/step - loss: 0.2011 - accuracy: 0.9445 - val_loss: 1.3025 - val_accuracy: 0.7314\n",
            "Epoch 65/100\n",
            "1407/1407 [==============================] - 10s 7ms/step - loss: 0.1937 - accuracy: 0.9479 - val_loss: 1.3740 - val_accuracy: 0.7284\n",
            "Epoch 66/100\n",
            "1407/1407 [==============================] - 11s 7ms/step - loss: 0.2211 - accuracy: 0.9425 - val_loss: 1.2726 - val_accuracy: 0.7308\n",
            "Epoch 67/100\n",
            "1407/1407 [==============================] - 11s 8ms/step - loss: 0.1876 - accuracy: 0.9496 - val_loss: 1.3420 - val_accuracy: 0.7332\n",
            "Epoch 68/100\n",
            "1407/1407 [==============================] - 11s 7ms/step - loss: 0.1901 - accuracy: 0.9498 - val_loss: 1.3897 - val_accuracy: 0.7484\n",
            "Epoch 69/100\n",
            "1407/1407 [==============================] - 10s 7ms/step - loss: 0.1999 - accuracy: 0.9475 - val_loss: 1.3854 - val_accuracy: 0.7452\n",
            "Epoch 70/100\n",
            "1407/1407 [==============================] - 11s 7ms/step - loss: 0.1889 - accuracy: 0.9500 - val_loss: 1.3345 - val_accuracy: 0.7276\n",
            "Epoch 71/100\n",
            "1407/1407 [==============================] - 10s 7ms/step - loss: 0.2043 - accuracy: 0.9467 - val_loss: 1.4470 - val_accuracy: 0.7160\n",
            "Epoch 72/100\n",
            "1407/1407 [==============================] - 10s 7ms/step - loss: 0.1887 - accuracy: 0.9502 - val_loss: 1.4635 - val_accuracy: 0.7436\n",
            "Epoch 73/100\n",
            "1407/1407 [==============================] - 10s 7ms/step - loss: 0.1932 - accuracy: 0.9497 - val_loss: 1.4361 - val_accuracy: 0.7348\n",
            "Epoch 74/100\n",
            "1407/1407 [==============================] - 11s 7ms/step - loss: 0.1864 - accuracy: 0.9502 - val_loss: 1.3957 - val_accuracy: 0.7454\n",
            "Epoch 75/100\n",
            "1407/1407 [==============================] - 11s 7ms/step - loss: 0.1876 - accuracy: 0.9501 - val_loss: 1.4770 - val_accuracy: 0.7262\n",
            "Epoch 76/100\n",
            "1407/1407 [==============================] - 10s 7ms/step - loss: 0.2018 - accuracy: 0.9473 - val_loss: 1.3866 - val_accuracy: 0.7404\n",
            "Epoch 77/100\n",
            "1407/1407 [==============================] - 10s 7ms/step - loss: 0.1861 - accuracy: 0.9514 - val_loss: 1.3615 - val_accuracy: 0.7378\n",
            "Epoch 78/100\n",
            "1407/1407 [==============================] - 11s 7ms/step - loss: 0.1926 - accuracy: 0.9511 - val_loss: 1.4442 - val_accuracy: 0.7382\n",
            "Epoch 79/100\n",
            "1407/1407 [==============================] - 10s 7ms/step - loss: 0.1998 - accuracy: 0.9495 - val_loss: 1.3968 - val_accuracy: 0.7494\n",
            "Epoch 80/100\n",
            "1407/1407 [==============================] - 10s 7ms/step - loss: 0.1797 - accuracy: 0.9548 - val_loss: 1.4941 - val_accuracy: 0.7322\n",
            "Epoch 81/100\n",
            "1407/1407 [==============================] - 11s 8ms/step - loss: 0.1906 - accuracy: 0.9517 - val_loss: 1.5325 - val_accuracy: 0.7362\n",
            "Epoch 82/100\n",
            "1407/1407 [==============================] - 11s 7ms/step - loss: 0.1763 - accuracy: 0.9552 - val_loss: 1.4318 - val_accuracy: 0.7392\n",
            "Epoch 83/100\n",
            "1407/1407 [==============================] - 11s 8ms/step - loss: 0.1913 - accuracy: 0.9516 - val_loss: 1.4557 - val_accuracy: 0.7294\n",
            "Epoch 84/100\n",
            "1407/1407 [==============================] - 11s 7ms/step - loss: 0.2051 - accuracy: 0.9492 - val_loss: 1.3641 - val_accuracy: 0.7380\n",
            "Epoch 85/100\n",
            "1407/1407 [==============================] - 10s 7ms/step - loss: 0.1895 - accuracy: 0.9520 - val_loss: 1.5418 - val_accuracy: 0.7242\n",
            "Epoch 86/100\n",
            "1407/1407 [==============================] - 11s 8ms/step - loss: 0.1763 - accuracy: 0.9548 - val_loss: 1.6416 - val_accuracy: 0.7216\n",
            "Epoch 87/100\n",
            "1407/1407 [==============================] - 11s 7ms/step - loss: 0.1858 - accuracy: 0.9536 - val_loss: 1.6662 - val_accuracy: 0.7480\n",
            "Epoch 88/100\n",
            "1407/1407 [==============================] - 10s 7ms/step - loss: 0.2047 - accuracy: 0.9511 - val_loss: 1.4779 - val_accuracy: 0.7316\n",
            "Epoch 89/100\n",
            "1407/1407 [==============================] - 11s 8ms/step - loss: 0.1872 - accuracy: 0.9557 - val_loss: 1.4667 - val_accuracy: 0.7332\n",
            "Epoch 90/100\n",
            "1407/1407 [==============================] - 10s 7ms/step - loss: 0.1831 - accuracy: 0.9532 - val_loss: 1.4491 - val_accuracy: 0.7412\n",
            "Epoch 91/100\n",
            "1407/1407 [==============================] - 11s 8ms/step - loss: 0.1796 - accuracy: 0.9559 - val_loss: 1.6222 - val_accuracy: 0.7350\n",
            "Epoch 92/100\n",
            "1407/1407 [==============================] - 10s 7ms/step - loss: 0.1846 - accuracy: 0.9548 - val_loss: 1.5424 - val_accuracy: 0.7396\n",
            "Epoch 93/100\n",
            "1407/1407 [==============================] - 10s 7ms/step - loss: 0.1791 - accuracy: 0.9549 - val_loss: 1.5903 - val_accuracy: 0.7448\n",
            "Epoch 94/100\n",
            "1407/1407 [==============================] - 11s 8ms/step - loss: 0.1787 - accuracy: 0.9550 - val_loss: 1.5073 - val_accuracy: 0.7408\n",
            "Epoch 95/100\n",
            "1407/1407 [==============================] - 11s 7ms/step - loss: 0.1657 - accuracy: 0.9598 - val_loss: 1.6130 - val_accuracy: 0.7294\n",
            "Epoch 96/100\n",
            "1407/1407 [==============================] - 10s 7ms/step - loss: 0.1854 - accuracy: 0.9581 - val_loss: 1.4852 - val_accuracy: 0.7444\n",
            "Epoch 97/100\n",
            "1407/1407 [==============================] - 10s 7ms/step - loss: 0.1832 - accuracy: 0.9547 - val_loss: 1.6273 - val_accuracy: 0.7388\n",
            "Epoch 98/100\n",
            "1407/1407 [==============================] - 10s 7ms/step - loss: 0.1786 - accuracy: 0.9558 - val_loss: 1.8435 - val_accuracy: 0.7442\n",
            "Epoch 99/100\n",
            "1407/1407 [==============================] - 11s 8ms/step - loss: 0.1784 - accuracy: 0.9589 - val_loss: 1.7502 - val_accuracy: 0.7366\n",
            "Epoch 100/100\n",
            "1407/1407 [==============================] - 10s 7ms/step - loss: 0.1751 - accuracy: 0.9567 - val_loss: 1.7094 - val_accuracy: 0.7468\n",
            "313/313 [==============================] - 2s 5ms/step - loss: 1.9054 - accuracy: 0.7333\n"
          ]
        }
      ]
    },
    {
      "cell_type": "code",
      "source": [
        "score"
      ],
      "metadata": {
        "colab": {
          "base_uri": "https://localhost:8080/"
        },
        "id": "LxJtp-9c5ZJ9",
        "outputId": "a143c748-354e-4dcf-9bd6-b46980fdfbcd"
      },
      "execution_count": 18,
      "outputs": [
        {
          "output_type": "execute_result",
          "data": {
            "text/plain": [
              "[1.905427098274231, 0.733299970626831]"
            ]
          },
          "metadata": {},
          "execution_count": 18
        }
      ]
    },
    {
      "cell_type": "markdown",
      "source": [
        "Вышло лучше. Накидаем туда еще скрытых слоев"
      ],
      "metadata": {
        "id": "fhgbHsEj5dUJ"
      }
    },
    {
      "cell_type": "code",
      "source": [
        "DefaultConv2D = partial(keras.layers.Conv2D,\n",
        "                        kernel_size=3, activation='relu', padding=\"SAME\")\n",
        "\n",
        "model = keras.models.Sequential([\n",
        "    DefaultConv2D(filters=64, kernel_size=3, input_shape=[32, 32, 3]),\n",
        "    keras.layers.MaxPooling2D(pool_size=2),\n",
        "    DefaultConv2D(filters=128),\n",
        "    DefaultConv2D(filters=128),\n",
        "    keras.layers.MaxPooling2D(pool_size=2),\n",
        "    DefaultConv2D(filters=256),\n",
        "    DefaultConv2D(filters=256),\n",
        "    keras.layers.MaxPooling2D(pool_size=2),\n",
        "    keras.layers.Flatten(),\n",
        "    keras.layers.Dense(units=128, activation='relu'),\n",
        "    keras.layers.Dropout(0.5),\n",
        "    keras.layers.Dense(units=128, activation='relu'),\n",
        "    keras.layers.Dropout(0.5),\n",
        "    keras.layers.Dense(units=128, activation='relu'),\n",
        "    keras.layers.Dropout(0.5),\n",
        "    keras.layers.Dense(units=10, activation='softmax'),\n",
        "])"
      ],
      "metadata": {
        "id": "M8b6VOyn5gin"
      },
      "execution_count": 22,
      "outputs": []
    },
    {
      "cell_type": "code",
      "source": [
        "model.compile(loss=\"sparse_categorical_crossentropy\", optimizer=\"adam\", metrics=[\"accuracy\"])\n",
        "history = model.fit(X_train, y_train, epochs=100,\n",
        "                    validation_data=(X_valid, y_valid), verbose=1)\n",
        "score = model.evaluate(X_test, y_test, verbose=1)"
      ],
      "metadata": {
        "colab": {
          "base_uri": "https://localhost:8080/"
        },
        "id": "3vUtLd6c5kh8",
        "outputId": "68c6b5ff-134d-4262-bc2b-1115c6881347"
      },
      "execution_count": 23,
      "outputs": [
        {
          "output_type": "stream",
          "name": "stdout",
          "text": [
            "Epoch 1/100\n",
            "1407/1407 [==============================] - 11s 8ms/step - loss: 2.0256 - accuracy: 0.1932 - val_loss: 1.7367 - val_accuracy: 0.3230\n",
            "Epoch 2/100\n",
            "1407/1407 [==============================] - 10s 7ms/step - loss: 1.6884 - accuracy: 0.3448 - val_loss: 1.4635 - val_accuracy: 0.4438\n",
            "Epoch 3/100\n",
            "1407/1407 [==============================] - 10s 7ms/step - loss: 1.4847 - accuracy: 0.4466 - val_loss: 1.2984 - val_accuracy: 0.5302\n",
            "Epoch 4/100\n",
            "1407/1407 [==============================] - 10s 7ms/step - loss: 1.3658 - accuracy: 0.5092 - val_loss: 1.1908 - val_accuracy: 0.5794\n",
            "Epoch 5/100\n",
            "1407/1407 [==============================] - 10s 7ms/step - loss: 1.2570 - accuracy: 0.5562 - val_loss: 1.0953 - val_accuracy: 0.6168\n",
            "Epoch 6/100\n",
            "1407/1407 [==============================] - 11s 8ms/step - loss: 1.1900 - accuracy: 0.5872 - val_loss: 1.0622 - val_accuracy: 0.6284\n",
            "Epoch 7/100\n",
            "1407/1407 [==============================] - 11s 8ms/step - loss: 1.1139 - accuracy: 0.6156 - val_loss: 1.0107 - val_accuracy: 0.6444\n",
            "Epoch 8/100\n",
            "1407/1407 [==============================] - 11s 7ms/step - loss: 1.0654 - accuracy: 0.6353 - val_loss: 1.0461 - val_accuracy: 0.6398\n",
            "Epoch 9/100\n",
            "1407/1407 [==============================] - 10s 7ms/step - loss: 1.0226 - accuracy: 0.6503 - val_loss: 0.9853 - val_accuracy: 0.6556\n",
            "Epoch 10/100\n",
            "1407/1407 [==============================] - 10s 7ms/step - loss: 0.9803 - accuracy: 0.6652 - val_loss: 0.9428 - val_accuracy: 0.6800\n",
            "Epoch 11/100\n",
            "1407/1407 [==============================] - 10s 7ms/step - loss: 0.9332 - accuracy: 0.6854 - val_loss: 0.9186 - val_accuracy: 0.6836\n",
            "Epoch 12/100\n",
            "1407/1407 [==============================] - 11s 7ms/step - loss: 0.8963 - accuracy: 0.6980 - val_loss: 0.9299 - val_accuracy: 0.6832\n",
            "Epoch 13/100\n",
            "1407/1407 [==============================] - 11s 8ms/step - loss: 0.8619 - accuracy: 0.7094 - val_loss: 0.9044 - val_accuracy: 0.6970\n",
            "Epoch 14/100\n",
            "1407/1407 [==============================] - 11s 8ms/step - loss: 0.8383 - accuracy: 0.7202 - val_loss: 0.9061 - val_accuracy: 0.6976\n",
            "Epoch 15/100\n",
            "1407/1407 [==============================] - 11s 8ms/step - loss: 0.8026 - accuracy: 0.7313 - val_loss: 0.9072 - val_accuracy: 0.7010\n",
            "Epoch 16/100\n",
            "1407/1407 [==============================] - 11s 8ms/step - loss: 0.7746 - accuracy: 0.7401 - val_loss: 0.8935 - val_accuracy: 0.7064\n",
            "Epoch 17/100\n",
            "1407/1407 [==============================] - 11s 8ms/step - loss: 0.7585 - accuracy: 0.7487 - val_loss: 0.9199 - val_accuracy: 0.7044\n",
            "Epoch 18/100\n",
            "1407/1407 [==============================] - 10s 7ms/step - loss: 0.7439 - accuracy: 0.7538 - val_loss: 0.9280 - val_accuracy: 0.7098\n",
            "Epoch 19/100\n",
            "1407/1407 [==============================] - 11s 8ms/step - loss: 0.7199 - accuracy: 0.7629 - val_loss: 0.9582 - val_accuracy: 0.6960\n",
            "Epoch 20/100\n",
            "1407/1407 [==============================] - 11s 8ms/step - loss: 0.6929 - accuracy: 0.7733 - val_loss: 0.9512 - val_accuracy: 0.7028\n",
            "Epoch 21/100\n",
            "1407/1407 [==============================] - 11s 7ms/step - loss: 0.6725 - accuracy: 0.7800 - val_loss: 0.9743 - val_accuracy: 0.6910\n",
            "Epoch 22/100\n",
            "1407/1407 [==============================] - 11s 8ms/step - loss: 0.6435 - accuracy: 0.7909 - val_loss: 0.9102 - val_accuracy: 0.7180\n",
            "Epoch 23/100\n",
            "1407/1407 [==============================] - 11s 8ms/step - loss: 0.6460 - accuracy: 0.7914 - val_loss: 0.9305 - val_accuracy: 0.7096\n",
            "Epoch 24/100\n",
            "1407/1407 [==============================] - 11s 8ms/step - loss: 0.6247 - accuracy: 0.7972 - val_loss: 0.9353 - val_accuracy: 0.7054\n",
            "Epoch 25/100\n",
            "1407/1407 [==============================] - 11s 8ms/step - loss: 0.6152 - accuracy: 0.8018 - val_loss: 0.9115 - val_accuracy: 0.7204\n",
            "Epoch 26/100\n",
            "1407/1407 [==============================] - 11s 8ms/step - loss: 0.5960 - accuracy: 0.8092 - val_loss: 0.9649 - val_accuracy: 0.7148\n",
            "Epoch 27/100\n",
            "1407/1407 [==============================] - 11s 8ms/step - loss: 0.5904 - accuracy: 0.8122 - val_loss: 0.9155 - val_accuracy: 0.7174\n",
            "Epoch 28/100\n",
            "1407/1407 [==============================] - 11s 8ms/step - loss: 0.5670 - accuracy: 0.8211 - val_loss: 0.9380 - val_accuracy: 0.7136\n",
            "Epoch 29/100\n",
            "1407/1407 [==============================] - 11s 8ms/step - loss: 0.5450 - accuracy: 0.8264 - val_loss: 0.9638 - val_accuracy: 0.7140\n",
            "Epoch 30/100\n",
            "1407/1407 [==============================] - 11s 8ms/step - loss: 0.5463 - accuracy: 0.8260 - val_loss: 0.9627 - val_accuracy: 0.7112\n",
            "Epoch 31/100\n",
            "1407/1407 [==============================] - 11s 8ms/step - loss: 0.5258 - accuracy: 0.8356 - val_loss: 0.9836 - val_accuracy: 0.7182\n",
            "Epoch 32/100\n",
            "1407/1407 [==============================] - 11s 8ms/step - loss: 0.5215 - accuracy: 0.8378 - val_loss: 0.9336 - val_accuracy: 0.7224\n",
            "Epoch 33/100\n",
            "1407/1407 [==============================] - 11s 8ms/step - loss: 0.5173 - accuracy: 0.8403 - val_loss: 0.9562 - val_accuracy: 0.7220\n",
            "Epoch 34/100\n",
            "1407/1407 [==============================] - 11s 7ms/step - loss: 0.5104 - accuracy: 0.8414 - val_loss: 0.9639 - val_accuracy: 0.7314\n",
            "Epoch 35/100\n",
            "1407/1407 [==============================] - 11s 8ms/step - loss: 0.5152 - accuracy: 0.8423 - val_loss: 0.9904 - val_accuracy: 0.7124\n",
            "Epoch 36/100\n",
            "1407/1407 [==============================] - 11s 8ms/step - loss: 0.4954 - accuracy: 0.8484 - val_loss: 0.9941 - val_accuracy: 0.7144\n",
            "Epoch 37/100\n",
            "1407/1407 [==============================] - 11s 7ms/step - loss: 0.4785 - accuracy: 0.8538 - val_loss: 0.9966 - val_accuracy: 0.7272\n",
            "Epoch 38/100\n",
            "1407/1407 [==============================] - 11s 8ms/step - loss: 0.4891 - accuracy: 0.8527 - val_loss: 0.9916 - val_accuracy: 0.7134\n",
            "Epoch 39/100\n",
            "1407/1407 [==============================] - 11s 8ms/step - loss: 0.4545 - accuracy: 0.8627 - val_loss: 1.0855 - val_accuracy: 0.7130\n",
            "Epoch 40/100\n",
            "1407/1407 [==============================] - 11s 8ms/step - loss: 0.4671 - accuracy: 0.8588 - val_loss: 0.9974 - val_accuracy: 0.7190\n",
            "Epoch 41/100\n",
            "1407/1407 [==============================] - 10s 7ms/step - loss: 0.4600 - accuracy: 0.8598 - val_loss: 1.0008 - val_accuracy: 0.7352\n",
            "Epoch 42/100\n",
            "1407/1407 [==============================] - 11s 8ms/step - loss: 0.4613 - accuracy: 0.8624 - val_loss: 0.9757 - val_accuracy: 0.7282\n",
            "Epoch 43/100\n",
            "1407/1407 [==============================] - 11s 8ms/step - loss: 0.4532 - accuracy: 0.8657 - val_loss: 1.0596 - val_accuracy: 0.7214\n",
            "Epoch 44/100\n",
            "1407/1407 [==============================] - 11s 8ms/step - loss: 0.4315 - accuracy: 0.8720 - val_loss: 1.0016 - val_accuracy: 0.7226\n",
            "Epoch 45/100\n",
            "1407/1407 [==============================] - 11s 8ms/step - loss: 0.4387 - accuracy: 0.8698 - val_loss: 1.0554 - val_accuracy: 0.7074\n",
            "Epoch 46/100\n",
            "1407/1407 [==============================] - 11s 8ms/step - loss: 0.4446 - accuracy: 0.8696 - val_loss: 1.0129 - val_accuracy: 0.7290\n",
            "Epoch 47/100\n",
            "1407/1407 [==============================] - 11s 8ms/step - loss: 0.4307 - accuracy: 0.8716 - val_loss: 1.0229 - val_accuracy: 0.7206\n",
            "Epoch 48/100\n",
            "1407/1407 [==============================] - 11s 8ms/step - loss: 0.4415 - accuracy: 0.8700 - val_loss: 1.0562 - val_accuracy: 0.7198\n",
            "Epoch 49/100\n",
            "1407/1407 [==============================] - 11s 8ms/step - loss: 0.4233 - accuracy: 0.8746 - val_loss: 1.0651 - val_accuracy: 0.7178\n",
            "Epoch 50/100\n",
            "1407/1407 [==============================] - 11s 8ms/step - loss: 0.4025 - accuracy: 0.8820 - val_loss: 1.0197 - val_accuracy: 0.7312\n",
            "Epoch 51/100\n",
            "1407/1407 [==============================] - 11s 8ms/step - loss: 0.4165 - accuracy: 0.8799 - val_loss: 1.0657 - val_accuracy: 0.7166\n",
            "Epoch 52/100\n",
            "1407/1407 [==============================] - 11s 8ms/step - loss: 0.4173 - accuracy: 0.8795 - val_loss: 1.0613 - val_accuracy: 0.7302\n",
            "Epoch 53/100\n",
            "1407/1407 [==============================] - 11s 8ms/step - loss: 0.3923 - accuracy: 0.8883 - val_loss: 1.0333 - val_accuracy: 0.7234\n",
            "Epoch 54/100\n",
            "1407/1407 [==============================] - 11s 7ms/step - loss: 0.4227 - accuracy: 0.8806 - val_loss: 1.0135 - val_accuracy: 0.7298\n",
            "Epoch 55/100\n",
            "1407/1407 [==============================] - 11s 8ms/step - loss: 0.4031 - accuracy: 0.8863 - val_loss: 1.1157 - val_accuracy: 0.7170\n",
            "Epoch 56/100\n",
            "1407/1407 [==============================] - 11s 8ms/step - loss: 0.4095 - accuracy: 0.8854 - val_loss: 1.0425 - val_accuracy: 0.7202\n",
            "Epoch 57/100\n",
            "1407/1407 [==============================] - 11s 8ms/step - loss: 0.4235 - accuracy: 0.8802 - val_loss: 1.1116 - val_accuracy: 0.7298\n",
            "Epoch 58/100\n",
            "1407/1407 [==============================] - 10s 7ms/step - loss: 0.3968 - accuracy: 0.8862 - val_loss: 1.1408 - val_accuracy: 0.7168\n",
            "Epoch 59/100\n",
            "1407/1407 [==============================] - 11s 8ms/step - loss: 0.4119 - accuracy: 0.8820 - val_loss: 1.0224 - val_accuracy: 0.7318\n",
            "Epoch 60/100\n",
            "1407/1407 [==============================] - 11s 8ms/step - loss: 0.4074 - accuracy: 0.8842 - val_loss: 1.0937 - val_accuracy: 0.7214\n",
            "Epoch 61/100\n",
            "1407/1407 [==============================] - 11s 8ms/step - loss: 0.4098 - accuracy: 0.8851 - val_loss: 1.1183 - val_accuracy: 0.7138\n",
            "Epoch 62/100\n",
            "1407/1407 [==============================] - 11s 8ms/step - loss: 0.4359 - accuracy: 0.8810 - val_loss: 1.0138 - val_accuracy: 0.7354\n",
            "Epoch 63/100\n",
            "1407/1407 [==============================] - 11s 8ms/step - loss: 0.4055 - accuracy: 0.8869 - val_loss: 1.1823 - val_accuracy: 0.7182\n",
            "Epoch 64/100\n",
            "1407/1407 [==============================] - 11s 8ms/step - loss: 0.3881 - accuracy: 0.8903 - val_loss: 1.1235 - val_accuracy: 0.7176\n",
            "Epoch 65/100\n",
            "1407/1407 [==============================] - 11s 8ms/step - loss: 0.3909 - accuracy: 0.8913 - val_loss: 1.1469 - val_accuracy: 0.7348\n",
            "Epoch 66/100\n",
            "1407/1407 [==============================] - 11s 8ms/step - loss: 0.3991 - accuracy: 0.8888 - val_loss: 1.0793 - val_accuracy: 0.7346\n",
            "Epoch 67/100\n",
            "1407/1407 [==============================] - 11s 8ms/step - loss: 0.3778 - accuracy: 0.8952 - val_loss: 1.0238 - val_accuracy: 0.7348\n",
            "Epoch 68/100\n",
            "1407/1407 [==============================] - 11s 8ms/step - loss: 0.3990 - accuracy: 0.8908 - val_loss: 1.0979 - val_accuracy: 0.7238\n",
            "Epoch 69/100\n",
            "1407/1407 [==============================] - 11s 8ms/step - loss: 0.3982 - accuracy: 0.8904 - val_loss: 1.1388 - val_accuracy: 0.7194\n",
            "Epoch 70/100\n",
            "1407/1407 [==============================] - 11s 8ms/step - loss: 0.3999 - accuracy: 0.8889 - val_loss: 1.1349 - val_accuracy: 0.7234\n",
            "Epoch 71/100\n",
            "1407/1407 [==============================] - 11s 8ms/step - loss: 0.4253 - accuracy: 0.8816 - val_loss: 1.0258 - val_accuracy: 0.7334\n",
            "Epoch 72/100\n",
            "1407/1407 [==============================] - 11s 8ms/step - loss: 0.3680 - accuracy: 0.8997 - val_loss: 1.1223 - val_accuracy: 0.7270\n",
            "Epoch 73/100\n",
            "1407/1407 [==============================] - 11s 8ms/step - loss: 0.4218 - accuracy: 0.8832 - val_loss: 1.1601 - val_accuracy: 0.7334\n",
            "Epoch 74/100\n",
            "1407/1407 [==============================] - 11s 8ms/step - loss: 0.4408 - accuracy: 0.8815 - val_loss: 1.1203 - val_accuracy: 0.7144\n",
            "Epoch 75/100\n",
            "1407/1407 [==============================] - 11s 8ms/step - loss: 0.4050 - accuracy: 0.8880 - val_loss: 1.1792 - val_accuracy: 0.7272\n",
            "Epoch 76/100\n",
            "1407/1407 [==============================] - 11s 8ms/step - loss: 0.4077 - accuracy: 0.8898 - val_loss: 1.0705 - val_accuracy: 0.7230\n",
            "Epoch 77/100\n",
            "1407/1407 [==============================] - 11s 8ms/step - loss: 0.3950 - accuracy: 0.8918 - val_loss: 1.1025 - val_accuracy: 0.7338\n",
            "Epoch 78/100\n",
            "1407/1407 [==============================] - 11s 8ms/step - loss: 0.3906 - accuracy: 0.8931 - val_loss: 1.2530 - val_accuracy: 0.7302\n",
            "Epoch 79/100\n",
            "1407/1407 [==============================] - 11s 8ms/step - loss: 0.4038 - accuracy: 0.8920 - val_loss: 1.1532 - val_accuracy: 0.7238\n",
            "Epoch 80/100\n",
            "1407/1407 [==============================] - 11s 8ms/step - loss: 0.3948 - accuracy: 0.8926 - val_loss: 1.2645 - val_accuracy: 0.7232\n",
            "Epoch 81/100\n",
            "1407/1407 [==============================] - 11s 8ms/step - loss: 0.4202 - accuracy: 0.8861 - val_loss: 1.1704 - val_accuracy: 0.7150\n",
            "Epoch 82/100\n",
            "1407/1407 [==============================] - 11s 8ms/step - loss: 0.4700 - accuracy: 0.8731 - val_loss: 1.0736 - val_accuracy: 0.7188\n",
            "Epoch 83/100\n",
            "1407/1407 [==============================] - 11s 8ms/step - loss: 0.4710 - accuracy: 0.8716 - val_loss: 1.1221 - val_accuracy: 0.7318\n",
            "Epoch 84/100\n",
            "1407/1407 [==============================] - 11s 8ms/step - loss: 0.4433 - accuracy: 0.8792 - val_loss: 1.1387 - val_accuracy: 0.7160\n",
            "Epoch 85/100\n",
            "1407/1407 [==============================] - 11s 8ms/step - loss: 0.4234 - accuracy: 0.8830 - val_loss: 1.0926 - val_accuracy: 0.7194\n",
            "Epoch 86/100\n",
            "1407/1407 [==============================] - 11s 8ms/step - loss: 0.4646 - accuracy: 0.8728 - val_loss: 1.1276 - val_accuracy: 0.7272\n",
            "Epoch 87/100\n",
            "1407/1407 [==============================] - 11s 8ms/step - loss: 0.4411 - accuracy: 0.8817 - val_loss: 1.1266 - val_accuracy: 0.7224\n",
            "Epoch 88/100\n",
            "1407/1407 [==============================] - 11s 8ms/step - loss: 0.4884 - accuracy: 0.8660 - val_loss: 1.0510 - val_accuracy: 0.7102\n",
            "Epoch 89/100\n",
            "1407/1407 [==============================] - 11s 8ms/step - loss: 0.4783 - accuracy: 0.8660 - val_loss: 1.0848 - val_accuracy: 0.7114\n",
            "Epoch 90/100\n",
            "1407/1407 [==============================] - 11s 8ms/step - loss: 0.4847 - accuracy: 0.8688 - val_loss: 1.0522 - val_accuracy: 0.7134\n",
            "Epoch 91/100\n",
            "1407/1407 [==============================] - 11s 8ms/step - loss: 0.4399 - accuracy: 0.8807 - val_loss: 1.2110 - val_accuracy: 0.7124\n",
            "Epoch 92/100\n",
            "1407/1407 [==============================] - 11s 8ms/step - loss: 0.4782 - accuracy: 0.8708 - val_loss: 1.0963 - val_accuracy: 0.7154\n",
            "Epoch 93/100\n",
            "1407/1407 [==============================] - 11s 8ms/step - loss: 0.4486 - accuracy: 0.8804 - val_loss: 1.2032 - val_accuracy: 0.7104\n",
            "Epoch 94/100\n",
            "1407/1407 [==============================] - 11s 8ms/step - loss: 0.4657 - accuracy: 0.8747 - val_loss: 1.0379 - val_accuracy: 0.7224\n",
            "Epoch 95/100\n",
            "1407/1407 [==============================] - 11s 8ms/step - loss: 0.4110 - accuracy: 0.8903 - val_loss: 1.1039 - val_accuracy: 0.7126\n",
            "Epoch 96/100\n",
            "1407/1407 [==============================] - 11s 8ms/step - loss: 0.5940 - accuracy: 0.8397 - val_loss: 1.1073 - val_accuracy: 0.6878\n",
            "Epoch 97/100\n",
            "1407/1407 [==============================] - 11s 8ms/step - loss: 0.4676 - accuracy: 0.8757 - val_loss: 1.3776 - val_accuracy: 0.6150\n",
            "Epoch 98/100\n",
            "1407/1407 [==============================] - 11s 8ms/step - loss: 0.4875 - accuracy: 0.8673 - val_loss: 1.1119 - val_accuracy: 0.7222\n",
            "Epoch 99/100\n",
            "1407/1407 [==============================] - 11s 8ms/step - loss: 0.5234 - accuracy: 0.8570 - val_loss: 1.0957 - val_accuracy: 0.7172\n",
            "Epoch 100/100\n",
            "1407/1407 [==============================] - 11s 8ms/step - loss: 0.5443 - accuracy: 0.8497 - val_loss: 1.0746 - val_accuracy: 0.7122\n",
            "313/313 [==============================] - 1s 4ms/step - loss: 1.1474 - accuracy: 0.7024\n"
          ]
        }
      ]
    },
    {
      "cell_type": "code",
      "source": [
        "score"
      ],
      "metadata": {
        "colab": {
          "base_uri": "https://localhost:8080/"
        },
        "id": "ZtyHZGmA-ylc",
        "outputId": "e1acaeba-2410-4b27-d353-78e8c7a0acf5"
      },
      "execution_count": 24,
      "outputs": [
        {
          "output_type": "execute_result",
          "data": {
            "text/plain": [
              "[1.1474148035049438, 0.7024000287055969]"
            ]
          },
          "metadata": {},
          "execution_count": 24
        }
      ]
    },
    {
      "cell_type": "markdown",
      "source": [
        "Сработало хуже. Теперь обучим полносвязную нейронную сеть"
      ],
      "metadata": {
        "id": "hPMGIoTs-0k5"
      }
    },
    {
      "cell_type": "code",
      "source": [
        "model = keras.models.Sequential([\n",
        "    keras.layers.Flatten(input_shape=[32, 32, 3]),\n",
        "    keras.layers.Dense(300, activation=\"relu\"),\n",
        "    keras.layers.Dense(100, activation=\"relu\"),\n",
        "    keras.layers.Dense(10, activation=\"softmax\")\n",
        "])"
      ],
      "metadata": {
        "id": "8mkhf6kV-4pT"
      },
      "execution_count": 28,
      "outputs": []
    },
    {
      "cell_type": "code",
      "source": [
        "model.compile(loss=\"sparse_categorical_crossentropy\", optimizer=\"adam\", metrics=[\"accuracy\"])\n",
        "history = model.fit(X_train, y_train, epochs=100,\n",
        "                    validation_data=(X_valid, y_valid), verbose=1)\n",
        "score = model.evaluate(X_test, y_test, verbose=1)"
      ],
      "metadata": {
        "colab": {
          "base_uri": "https://localhost:8080/"
        },
        "id": "q1XCeCve_FHR",
        "outputId": "7b730e78-3a88-4187-8f7e-ab24fdceb7ec"
      },
      "execution_count": 29,
      "outputs": [
        {
          "output_type": "stream",
          "name": "stdout",
          "text": [
            "Epoch 1/100\n",
            "1407/1407 [==============================] - 5s 4ms/step - loss: 1.8852 - accuracy: 0.3212 - val_loss: 1.7272 - val_accuracy: 0.3762\n",
            "Epoch 2/100\n",
            "1407/1407 [==============================] - 5s 3ms/step - loss: 1.6976 - accuracy: 0.3930 - val_loss: 1.6524 - val_accuracy: 0.4124\n",
            "Epoch 3/100\n",
            "1407/1407 [==============================] - 4s 3ms/step - loss: 1.6247 - accuracy: 0.4165 - val_loss: 1.6133 - val_accuracy: 0.4192\n",
            "Epoch 4/100\n",
            "1407/1407 [==============================] - 5s 3ms/step - loss: 1.5742 - accuracy: 0.4372 - val_loss: 1.6277 - val_accuracy: 0.4156\n",
            "Epoch 5/100\n",
            "1407/1407 [==============================] - 5s 3ms/step - loss: 1.5366 - accuracy: 0.4506 - val_loss: 1.5592 - val_accuracy: 0.4448\n",
            "Epoch 6/100\n",
            "1407/1407 [==============================] - 5s 3ms/step - loss: 1.5067 - accuracy: 0.4600 - val_loss: 1.5636 - val_accuracy: 0.4508\n",
            "Epoch 7/100\n",
            "1407/1407 [==============================] - 5s 3ms/step - loss: 1.4831 - accuracy: 0.4726 - val_loss: 1.5139 - val_accuracy: 0.4604\n",
            "Epoch 8/100\n",
            "1407/1407 [==============================] - 4s 3ms/step - loss: 1.4656 - accuracy: 0.4783 - val_loss: 1.5576 - val_accuracy: 0.4388\n",
            "Epoch 9/100\n",
            "1407/1407 [==============================] - 4s 3ms/step - loss: 1.4417 - accuracy: 0.4846 - val_loss: 1.5033 - val_accuracy: 0.4680\n",
            "Epoch 10/100\n",
            "1407/1407 [==============================] - 5s 3ms/step - loss: 1.4270 - accuracy: 0.4914 - val_loss: 1.5093 - val_accuracy: 0.4596\n",
            "Epoch 11/100\n",
            "1407/1407 [==============================] - 4s 3ms/step - loss: 1.4145 - accuracy: 0.4942 - val_loss: 1.5076 - val_accuracy: 0.4630\n",
            "Epoch 12/100\n",
            "1407/1407 [==============================] - 4s 3ms/step - loss: 1.3977 - accuracy: 0.5013 - val_loss: 1.5029 - val_accuracy: 0.4616\n",
            "Epoch 13/100\n",
            "1407/1407 [==============================] - 4s 3ms/step - loss: 1.3795 - accuracy: 0.5077 - val_loss: 1.4859 - val_accuracy: 0.4704\n",
            "Epoch 14/100\n",
            "1407/1407 [==============================] - 4s 3ms/step - loss: 1.3669 - accuracy: 0.5133 - val_loss: 1.4436 - val_accuracy: 0.4902\n",
            "Epoch 15/100\n",
            "1407/1407 [==============================] - 5s 4ms/step - loss: 1.3588 - accuracy: 0.5149 - val_loss: 1.4917 - val_accuracy: 0.4712\n",
            "Epoch 16/100\n",
            "1407/1407 [==============================] - 5s 3ms/step - loss: 1.3478 - accuracy: 0.5186 - val_loss: 1.4367 - val_accuracy: 0.4944\n",
            "Epoch 17/100\n",
            "1407/1407 [==============================] - 5s 4ms/step - loss: 1.3401 - accuracy: 0.5215 - val_loss: 1.4684 - val_accuracy: 0.4830\n",
            "Epoch 18/100\n",
            "1407/1407 [==============================] - 4s 3ms/step - loss: 1.3304 - accuracy: 0.5242 - val_loss: 1.4451 - val_accuracy: 0.4908\n",
            "Epoch 19/100\n",
            "1407/1407 [==============================] - 5s 3ms/step - loss: 1.3200 - accuracy: 0.5282 - val_loss: 1.4483 - val_accuracy: 0.4920\n",
            "Epoch 20/100\n",
            "1407/1407 [==============================] - 4s 3ms/step - loss: 1.3150 - accuracy: 0.5320 - val_loss: 1.4518 - val_accuracy: 0.4870\n",
            "Epoch 21/100\n",
            "1407/1407 [==============================] - 4s 3ms/step - loss: 1.3069 - accuracy: 0.5318 - val_loss: 1.4861 - val_accuracy: 0.4836\n",
            "Epoch 22/100\n",
            "1407/1407 [==============================] - 5s 3ms/step - loss: 1.2987 - accuracy: 0.5360 - val_loss: 1.4472 - val_accuracy: 0.4956\n",
            "Epoch 23/100\n",
            "1407/1407 [==============================] - 5s 3ms/step - loss: 1.2892 - accuracy: 0.5375 - val_loss: 1.4632 - val_accuracy: 0.4906\n",
            "Epoch 24/100\n",
            "1407/1407 [==============================] - 5s 3ms/step - loss: 1.2838 - accuracy: 0.5405 - val_loss: 1.4361 - val_accuracy: 0.4882\n",
            "Epoch 25/100\n",
            "1407/1407 [==============================] - 5s 3ms/step - loss: 1.2774 - accuracy: 0.5429 - val_loss: 1.4655 - val_accuracy: 0.4840\n",
            "Epoch 26/100\n",
            "1407/1407 [==============================] - 5s 4ms/step - loss: 1.2708 - accuracy: 0.5429 - val_loss: 1.4903 - val_accuracy: 0.4660\n",
            "Epoch 27/100\n",
            "1407/1407 [==============================] - 4s 3ms/step - loss: 1.2619 - accuracy: 0.5484 - val_loss: 1.4728 - val_accuracy: 0.4924\n",
            "Epoch 28/100\n",
            "1407/1407 [==============================] - 4s 3ms/step - loss: 1.2630 - accuracy: 0.5472 - val_loss: 1.5080 - val_accuracy: 0.4778\n",
            "Epoch 29/100\n",
            "1407/1407 [==============================] - 4s 3ms/step - loss: 1.2536 - accuracy: 0.5511 - val_loss: 1.4692 - val_accuracy: 0.4960\n",
            "Epoch 30/100\n",
            "1407/1407 [==============================] - 5s 3ms/step - loss: 1.2514 - accuracy: 0.5502 - val_loss: 1.4679 - val_accuracy: 0.4868\n",
            "Epoch 31/100\n",
            "1407/1407 [==============================] - 4s 3ms/step - loss: 1.2442 - accuracy: 0.5536 - val_loss: 1.4658 - val_accuracy: 0.4916\n",
            "Epoch 32/100\n",
            "1407/1407 [==============================] - 4s 3ms/step - loss: 1.2365 - accuracy: 0.5596 - val_loss: 1.4780 - val_accuracy: 0.4864\n",
            "Epoch 33/100\n",
            "1407/1407 [==============================] - 4s 3ms/step - loss: 1.2361 - accuracy: 0.5561 - val_loss: 1.4789 - val_accuracy: 0.4896\n",
            "Epoch 34/100\n",
            "1407/1407 [==============================] - 5s 3ms/step - loss: 1.2283 - accuracy: 0.5586 - val_loss: 1.4944 - val_accuracy: 0.4846\n",
            "Epoch 35/100\n",
            "1407/1407 [==============================] - 4s 3ms/step - loss: 1.2268 - accuracy: 0.5604 - val_loss: 1.4727 - val_accuracy: 0.4966\n",
            "Epoch 36/100\n",
            "1407/1407 [==============================] - 4s 3ms/step - loss: 1.2195 - accuracy: 0.5641 - val_loss: 1.5427 - val_accuracy: 0.4784\n",
            "Epoch 37/100\n",
            "1407/1407 [==============================] - 4s 3ms/step - loss: 1.2140 - accuracy: 0.5660 - val_loss: 1.4671 - val_accuracy: 0.5000\n",
            "Epoch 38/100\n",
            "1407/1407 [==============================] - 4s 3ms/step - loss: 1.2101 - accuracy: 0.5668 - val_loss: 1.5364 - val_accuracy: 0.4754\n",
            "Epoch 39/100\n",
            "1407/1407 [==============================] - 5s 3ms/step - loss: 1.2052 - accuracy: 0.5664 - val_loss: 1.5083 - val_accuracy: 0.4880\n",
            "Epoch 40/100\n",
            "1407/1407 [==============================] - 5s 3ms/step - loss: 1.2019 - accuracy: 0.5700 - val_loss: 1.5087 - val_accuracy: 0.4844\n",
            "Epoch 41/100\n",
            "1407/1407 [==============================] - 4s 3ms/step - loss: 1.1996 - accuracy: 0.5678 - val_loss: 1.5164 - val_accuracy: 0.4844\n",
            "Epoch 42/100\n",
            "1407/1407 [==============================] - 5s 3ms/step - loss: 1.1962 - accuracy: 0.5712 - val_loss: 1.5092 - val_accuracy: 0.4838\n",
            "Epoch 43/100\n",
            "1407/1407 [==============================] - 5s 3ms/step - loss: 1.1912 - accuracy: 0.5742 - val_loss: 1.5692 - val_accuracy: 0.4728\n",
            "Epoch 44/100\n",
            "1407/1407 [==============================] - 5s 4ms/step - loss: 1.1905 - accuracy: 0.5719 - val_loss: 1.5275 - val_accuracy: 0.4826\n",
            "Epoch 45/100\n",
            "1407/1407 [==============================] - 5s 3ms/step - loss: 1.1827 - accuracy: 0.5752 - val_loss: 1.4934 - val_accuracy: 0.4850\n",
            "Epoch 46/100\n",
            "1407/1407 [==============================] - 5s 3ms/step - loss: 1.1769 - accuracy: 0.5758 - val_loss: 1.4840 - val_accuracy: 0.4996\n",
            "Epoch 47/100\n",
            "1407/1407 [==============================] - 5s 3ms/step - loss: 1.1773 - accuracy: 0.5786 - val_loss: 1.5398 - val_accuracy: 0.4822\n",
            "Epoch 48/100\n",
            "1407/1407 [==============================] - 5s 3ms/step - loss: 1.1710 - accuracy: 0.5803 - val_loss: 1.5217 - val_accuracy: 0.4950\n",
            "Epoch 49/100\n",
            "1407/1407 [==============================] - 5s 3ms/step - loss: 1.1710 - accuracy: 0.5794 - val_loss: 1.5187 - val_accuracy: 0.4922\n",
            "Epoch 50/100\n",
            "1407/1407 [==============================] - 5s 3ms/step - loss: 1.1674 - accuracy: 0.5796 - val_loss: 1.5318 - val_accuracy: 0.4874\n",
            "Epoch 51/100\n",
            "1407/1407 [==============================] - 5s 3ms/step - loss: 1.1624 - accuracy: 0.5813 - val_loss: 1.5302 - val_accuracy: 0.4912\n",
            "Epoch 52/100\n",
            "1407/1407 [==============================] - 5s 3ms/step - loss: 1.1609 - accuracy: 0.5827 - val_loss: 1.5708 - val_accuracy: 0.4808\n",
            "Epoch 53/100\n",
            "1407/1407 [==============================] - 5s 3ms/step - loss: 1.1616 - accuracy: 0.5839 - val_loss: 1.5746 - val_accuracy: 0.4840\n",
            "Epoch 54/100\n",
            "1407/1407 [==============================] - 5s 3ms/step - loss: 1.1502 - accuracy: 0.5868 - val_loss: 1.5703 - val_accuracy: 0.4850\n",
            "Epoch 55/100\n",
            "1407/1407 [==============================] - 5s 3ms/step - loss: 1.1511 - accuracy: 0.5862 - val_loss: 1.5646 - val_accuracy: 0.4908\n",
            "Epoch 56/100\n",
            "1407/1407 [==============================] - 5s 3ms/step - loss: 1.1535 - accuracy: 0.5864 - val_loss: 1.5206 - val_accuracy: 0.4906\n",
            "Epoch 57/100\n",
            "1407/1407 [==============================] - 5s 3ms/step - loss: 1.1411 - accuracy: 0.5906 - val_loss: 1.5623 - val_accuracy: 0.4858\n",
            "Epoch 58/100\n",
            "1407/1407 [==============================] - 5s 3ms/step - loss: 1.1422 - accuracy: 0.5884 - val_loss: 1.5570 - val_accuracy: 0.4846\n",
            "Epoch 59/100\n",
            "1407/1407 [==============================] - 5s 3ms/step - loss: 1.1394 - accuracy: 0.5914 - val_loss: 1.5614 - val_accuracy: 0.4830\n",
            "Epoch 60/100\n",
            "1407/1407 [==============================] - 5s 3ms/step - loss: 1.1367 - accuracy: 0.5922 - val_loss: 1.5513 - val_accuracy: 0.4926\n",
            "Epoch 61/100\n",
            "1407/1407 [==============================] - 5s 3ms/step - loss: 1.1355 - accuracy: 0.5909 - val_loss: 1.5357 - val_accuracy: 0.4932\n",
            "Epoch 62/100\n",
            "1407/1407 [==============================] - 5s 3ms/step - loss: 1.1316 - accuracy: 0.5945 - val_loss: 1.5822 - val_accuracy: 0.4834\n",
            "Epoch 63/100\n",
            "1407/1407 [==============================] - 5s 3ms/step - loss: 1.1286 - accuracy: 0.5960 - val_loss: 1.5951 - val_accuracy: 0.4858\n",
            "Epoch 64/100\n",
            "1407/1407 [==============================] - 4s 3ms/step - loss: 1.1238 - accuracy: 0.5964 - val_loss: 1.5605 - val_accuracy: 0.4936\n",
            "Epoch 65/100\n",
            "1407/1407 [==============================] - 5s 3ms/step - loss: 1.1236 - accuracy: 0.5970 - val_loss: 1.6008 - val_accuracy: 0.4752\n",
            "Epoch 66/100\n",
            "1407/1407 [==============================] - 5s 3ms/step - loss: 1.1239 - accuracy: 0.5969 - val_loss: 1.5461 - val_accuracy: 0.4920\n",
            "Epoch 67/100\n",
            "1407/1407 [==============================] - 5s 3ms/step - loss: 1.1160 - accuracy: 0.5991 - val_loss: 1.5892 - val_accuracy: 0.4750\n",
            "Epoch 68/100\n",
            "1407/1407 [==============================] - 4s 3ms/step - loss: 1.1189 - accuracy: 0.5989 - val_loss: 1.5989 - val_accuracy: 0.4816\n",
            "Epoch 69/100\n",
            "1407/1407 [==============================] - 5s 3ms/step - loss: 1.1091 - accuracy: 0.6015 - val_loss: 1.5551 - val_accuracy: 0.4958\n",
            "Epoch 70/100\n",
            "1407/1407 [==============================] - 5s 4ms/step - loss: 1.1093 - accuracy: 0.6007 - val_loss: 1.6303 - val_accuracy: 0.4714\n",
            "Epoch 71/100\n",
            "1407/1407 [==============================] - 5s 3ms/step - loss: 1.1067 - accuracy: 0.6006 - val_loss: 1.5677 - val_accuracy: 0.4820\n",
            "Epoch 72/100\n",
            "1407/1407 [==============================] - 5s 4ms/step - loss: 1.1055 - accuracy: 0.6011 - val_loss: 1.5806 - val_accuracy: 0.4936\n",
            "Epoch 73/100\n",
            "1407/1407 [==============================] - 5s 4ms/step - loss: 1.1025 - accuracy: 0.6018 - val_loss: 1.5857 - val_accuracy: 0.4880\n",
            "Epoch 74/100\n",
            "1407/1407 [==============================] - 5s 4ms/step - loss: 1.1026 - accuracy: 0.6048 - val_loss: 1.6255 - val_accuracy: 0.4906\n",
            "Epoch 75/100\n",
            "1407/1407 [==============================] - 5s 3ms/step - loss: 1.0974 - accuracy: 0.6060 - val_loss: 1.5732 - val_accuracy: 0.4910\n",
            "Epoch 76/100\n",
            "1407/1407 [==============================] - 5s 4ms/step - loss: 1.0964 - accuracy: 0.6044 - val_loss: 1.6066 - val_accuracy: 0.4828\n",
            "Epoch 77/100\n",
            "1407/1407 [==============================] - 4s 3ms/step - loss: 1.0917 - accuracy: 0.6062 - val_loss: 1.6582 - val_accuracy: 0.4848\n",
            "Epoch 78/100\n",
            "1407/1407 [==============================] - 5s 3ms/step - loss: 1.0943 - accuracy: 0.6049 - val_loss: 1.6664 - val_accuracy: 0.4782\n",
            "Epoch 79/100\n",
            "1407/1407 [==============================] - 5s 3ms/step - loss: 1.0858 - accuracy: 0.6097 - val_loss: 1.5826 - val_accuracy: 0.4862\n",
            "Epoch 80/100\n",
            "1407/1407 [==============================] - 5s 3ms/step - loss: 1.0910 - accuracy: 0.6074 - val_loss: 1.6642 - val_accuracy: 0.4760\n",
            "Epoch 81/100\n",
            "1407/1407 [==============================] - 4s 3ms/step - loss: 1.0815 - accuracy: 0.6132 - val_loss: 1.6305 - val_accuracy: 0.4850\n",
            "Epoch 82/100\n",
            "1407/1407 [==============================] - 5s 3ms/step - loss: 1.0811 - accuracy: 0.6116 - val_loss: 1.5804 - val_accuracy: 0.4912\n",
            "Epoch 83/100\n",
            "1407/1407 [==============================] - 5s 3ms/step - loss: 1.0796 - accuracy: 0.6113 - val_loss: 1.6136 - val_accuracy: 0.4842\n",
            "Epoch 84/100\n",
            "1407/1407 [==============================] - 4s 3ms/step - loss: 1.0718 - accuracy: 0.6150 - val_loss: 1.6299 - val_accuracy: 0.4828\n",
            "Epoch 85/100\n",
            "1407/1407 [==============================] - 5s 3ms/step - loss: 1.0760 - accuracy: 0.6108 - val_loss: 1.6719 - val_accuracy: 0.4746\n",
            "Epoch 86/100\n",
            "1407/1407 [==============================] - 5s 3ms/step - loss: 1.0729 - accuracy: 0.6135 - val_loss: 1.6734 - val_accuracy: 0.4814\n",
            "Epoch 87/100\n",
            "1407/1407 [==============================] - 5s 3ms/step - loss: 1.0707 - accuracy: 0.6153 - val_loss: 1.6756 - val_accuracy: 0.4782\n",
            "Epoch 88/100\n",
            "1407/1407 [==============================] - 5s 3ms/step - loss: 1.0679 - accuracy: 0.6160 - val_loss: 1.6338 - val_accuracy: 0.4864\n",
            "Epoch 89/100\n",
            "1407/1407 [==============================] - 5s 3ms/step - loss: 1.0675 - accuracy: 0.6171 - val_loss: 1.6947 - val_accuracy: 0.4802\n",
            "Epoch 90/100\n",
            "1407/1407 [==============================] - 5s 3ms/step - loss: 1.0656 - accuracy: 0.6150 - val_loss: 1.6245 - val_accuracy: 0.4818\n",
            "Epoch 91/100\n",
            "1407/1407 [==============================] - 5s 3ms/step - loss: 1.0636 - accuracy: 0.6177 - val_loss: 1.6763 - val_accuracy: 0.4736\n",
            "Epoch 92/100\n",
            "1407/1407 [==============================] - 5s 3ms/step - loss: 1.0637 - accuracy: 0.6176 - val_loss: 1.6279 - val_accuracy: 0.4916\n",
            "Epoch 93/100\n",
            "1407/1407 [==============================] - 5s 3ms/step - loss: 1.0587 - accuracy: 0.6192 - val_loss: 1.6784 - val_accuracy: 0.4812\n",
            "Epoch 94/100\n",
            "1407/1407 [==============================] - 5s 3ms/step - loss: 1.0542 - accuracy: 0.6203 - val_loss: 1.6945 - val_accuracy: 0.4846\n",
            "Epoch 95/100\n",
            "1407/1407 [==============================] - 5s 3ms/step - loss: 1.0558 - accuracy: 0.6207 - val_loss: 1.7052 - val_accuracy: 0.4786\n",
            "Epoch 96/100\n",
            "1407/1407 [==============================] - 5s 3ms/step - loss: 1.0516 - accuracy: 0.6219 - val_loss: 1.6935 - val_accuracy: 0.4784\n",
            "Epoch 97/100\n",
            "1407/1407 [==============================] - 5s 3ms/step - loss: 1.0464 - accuracy: 0.6221 - val_loss: 1.6831 - val_accuracy: 0.4810\n",
            "Epoch 98/100\n",
            "1407/1407 [==============================] - 5s 3ms/step - loss: 1.0541 - accuracy: 0.6205 - val_loss: 1.6228 - val_accuracy: 0.4870\n",
            "Epoch 99/100\n",
            "1407/1407 [==============================] - 5s 3ms/step - loss: 1.0507 - accuracy: 0.6209 - val_loss: 1.6829 - val_accuracy: 0.4816\n",
            "Epoch 100/100\n",
            "1407/1407 [==============================] - 5s 3ms/step - loss: 1.0473 - accuracy: 0.6235 - val_loss: 1.6860 - val_accuracy: 0.4812\n",
            "313/313 [==============================] - 1s 3ms/step - loss: 1.7021 - accuracy: 0.4783\n"
          ]
        }
      ]
    },
    {
      "cell_type": "code",
      "source": [
        "score"
      ],
      "metadata": {
        "colab": {
          "base_uri": "https://localhost:8080/"
        },
        "id": "4GkpQlzYBRAo",
        "outputId": "caabbd82-d304-45ab-a8df-3bd854cfaeda"
      },
      "execution_count": 31,
      "outputs": [
        {
          "output_type": "execute_result",
          "data": {
            "text/plain": [
              "[1.7020775079727173, 0.478300005197525]"
            ]
          },
          "metadata": {},
          "execution_count": 31
        }
      ]
    },
    {
      "cell_type": "markdown",
      "source": [
        "Полносвязная нейронная сеть работает хуже сверточной."
      ],
      "metadata": {
        "id": "k44-p19SBUT_"
      }
    }
  ],
  "metadata": {
    "accelerator": "GPU",
    "colab": {
      "provenance": [],
      "collapsed_sections": []
    },
    "kernelspec": {
      "display_name": "Python 3 (ipykernel)",
      "language": "python",
      "name": "python3"
    },
    "language_info": {
      "codemirror_mode": {
        "name": "ipython",
        "version": 3
      },
      "file_extension": ".py",
      "mimetype": "text/x-python",
      "name": "python",
      "nbconvert_exporter": "python",
      "pygments_lexer": "ipython3",
      "version": "3.8.12"
    }
  },
  "nbformat": 4,
  "nbformat_minor": 0
}