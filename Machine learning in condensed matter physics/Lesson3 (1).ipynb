{
 "cells": [
  {
   "cell_type": "markdown",
   "metadata": {},
   "source": [
    "## Импортируем нужные библиотеки"
   ]
  },
  {
   "cell_type": "code",
   "execution_count": 410,
   "metadata": {
    "executionInfo": {
     "elapsed": 23,
     "status": "ok",
     "timestamp": 1632953079176,
     "user": {
      "displayName": "Никита Алексеевич Фоминых",
      "photoUrl": "https://lh3.googleusercontent.com/a/default-user=s64",
      "userId": "02155538213776972241"
     },
     "user_tz": -180
    },
    "id": "D9T2vvQg-dof"
   },
   "outputs": [],
   "source": [
    "import numpy as np\n",
    "import matplotlib.pyplot as plt\n",
    "import matplotlib\n",
    "from sklearn.metrics import mean_squared_error as mse\n",
    "from sklearn.linear_model import LinearRegression, SGDRegressor\n",
    "from sklearn.model_selection import train_test_split"
   ]
  },
  {
   "cell_type": "markdown",
   "metadata": {},
   "source": [
    "## Создаем и визуализируем данные"
   ]
  },
  {
   "cell_type": "code",
   "execution_count": 461,
   "metadata": {
    "executionInfo": {
     "elapsed": 21,
     "status": "ok",
     "timestamp": 1632953079182,
     "user": {
      "displayName": "Никита Алексеевич Фоминых",
      "photoUrl": "https://lh3.googleusercontent.com/a/default-user=s64",
      "userId": "02155538213776972241"
     },
     "user_tz": -180
    },
    "id": "PPw4twYo-dok"
   },
   "outputs": [],
   "source": [
    "num=40\n",
    "X = np.random.randn(num,1)\n",
    "Y = 2 + X + 2*X**2 + np.random.randn(num,1)"
   ]
  },
  {
   "cell_type": "code",
   "execution_count": 462,
   "metadata": {
    "colab": {
     "base_uri": "https://localhost:8080/",
     "height": 283
    },
    "executionInfo": {
     "elapsed": 696,
     "status": "ok",
     "timestamp": 1632953079859,
     "user": {
      "displayName": "Никита Алексеевич Фоминых",
      "photoUrl": "https://lh3.googleusercontent.com/a/default-user=s64",
      "userId": "02155538213776972241"
     },
     "user_tz": -180
    },
    "id": "UYA0VleD-dol",
    "outputId": "79d64667-0df1-490a-c232-20a38252205c"
   },
   "outputs": [
    {
     "data": {
      "image/png": "[encoded data removed]",
      "text/plain": [
       "<Figure size 576x432 with 1 Axes>"
      ]
     },
     "metadata": {
      "needs_background": "light"
     },
     "output_type": "display_data"
    }
   ],
   "source": [
    "fig = plt.figure(figsize=(8,6))\n",
    "plt.plot(X, Y, 'ob')\n",
    "plt.xlabel('Feature')\n",
    "plt.ylabel('Target')\n",
    "plt.show()"
   ]
  },
  {
   "cell_type": "markdown",
   "metadata": {},
   "source": [
    "## Обучаем алгоритм линейной регрессии"
   ]
  },
  {
   "cell_type": "code",
   "execution_count": 413,
   "metadata": {
    "executionInfo": {
     "elapsed": 20,
     "status": "ok",
     "timestamp": 1632953083553,
     "user": {
      "displayName": "Никита Алексеевич Фоминых",
      "photoUrl": "https://lh3.googleusercontent.com/a/default-user=s64",
      "userId": "02155538213776972241"
     },
     "user_tz": -180
    },
    "id": "JporssMj-dop"
   },
   "outputs": [],
   "source": [
    "# Метод нормального уравнения\n",
    "lr = LinearRegression()\n",
    "lr.fit(X,Y)\n",
    "ypred = lr.predict(X)"
   ]
  },
  {
   "cell_type": "code",
   "execution_count": 414,
   "metadata": {
    "colab": {
     "base_uri": "https://localhost:8080/"
    },
    "executionInfo": {
     "elapsed": 298,
     "status": "ok",
     "timestamp": 1632953085683,
     "user": {
      "displayName": "Никита Алексеевич Фоминых",
      "photoUrl": "https://lh3.googleusercontent.com/a/default-user=s64",
      "userId": "02155538213776972241"
     },
     "user_tz": -180
    },
    "id": "5Cj0RPdq-dor",
    "outputId": "63cdf8ec-47ab-4575-b45f-d8ec7ec2f7f5"
   },
   "outputs": [
    {
     "data": {
      "text/plain": [
       "(array([2.85997077]), array([[-0.72898643]]))"
      ]
     },
     "execution_count": 414,
     "metadata": {},
     "output_type": "execute_result"
    }
   ],
   "source": [
    "lr.intercept_, lr.coef_"
   ]
  },
  {
   "cell_type": "code",
   "execution_count": 415,
   "metadata": {
    "colab": {
     "base_uri": "https://localhost:8080/",
     "height": 265
    },
    "executionInfo": {
     "elapsed": 522,
     "status": "ok",
     "timestamp": 1632953087048,
     "user": {
      "displayName": "Никита Алексеевич Фоминых",
      "photoUrl": "https://lh3.googleusercontent.com/a/default-user=s64",
      "userId": "02155538213776972241"
     },
     "user_tz": -180
    },
    "id": "Jh2_EQkl-dos",
    "outputId": "bcc4ccf4-edb2-4e3c-f855-64d07bd28382"
   },
   "outputs": [
    {
     "data": {
      "image/png": "[encoded data removed]",
      "text/plain": [
       "<Figure size 576x432 with 1 Axes>"
      ]
     },
     "metadata": {
      "needs_background": "light"
     },
     "output_type": "display_data"
    }
   ],
   "source": [
    "fig = plt.figure(figsize=(8,6))\n",
    "plt.plot(X, Y, '*b')\n",
    "plt.plot(X, ypred, '-r')\n",
    "plt.xlabel('Feature')\n",
    "plt.ylabel('Target')\n",
    "plt.show()"
   ]
  },
  {
   "cell_type": "code",
   "execution_count": 416,
   "metadata": {
    "executionInfo": {
     "elapsed": 20,
     "status": "ok",
     "timestamp": 1632953083553,
     "user": {
      "displayName": "Никита Алексеевич Фоминых",
      "photoUrl": "https://lh3.googleusercontent.com/a/default-user=s64",
      "userId": "02155538213776972241"
     },
     "user_tz": -180
    },
    "id": "JporssMj-dop",
    "scrolled": true
   },
   "outputs": [
    {
     "name": "stdout",
     "output_type": "stream",
     "text": [
      "-- Epoch 1\n",
      "Norm: 0.12, NNZs: 1, Bias: 0.338023, T: 20, Avg. loss: 6.077687\n",
      "Total training time: 0.00 seconds.\n",
      "-- Epoch 2\n",
      "Norm: 0.20, NNZs: 1, Bias: 0.558527, T: 40, Avg. loss: 5.220899\n",
      "Total training time: 0.00 seconds.\n",
      "-- Epoch 3\n",
      "Norm: 0.27, NNZs: 1, Bias: 0.735745, T: 60, Avg. loss: 4.643305\n",
      "Total training time: 0.00 seconds.\n",
      "-- Epoch 4\n",
      "Norm: 0.33, NNZs: 1, Bias: 0.885867, T: 80, Avg. loss: 4.206851\n",
      "Total training time: 0.00 seconds.\n",
      "-- Epoch 5\n",
      "Norm: 0.38, NNZs: 1, Bias: 1.016873, T: 100, Avg. loss: 3.863087\n",
      "Total training time: 0.00 seconds.\n",
      "-- Epoch 6\n",
      "Norm: 0.43, NNZs: 1, Bias: 1.132756, T: 120, Avg. loss: 3.584212\n",
      "Total training time: 0.00 seconds.\n",
      "-- Epoch 7\n",
      "Norm: 0.47, NNZs: 1, Bias: 1.236450, T: 140, Avg. loss: 3.353863\n",
      "Total training time: 0.00 seconds.\n",
      "-- Epoch 8\n",
      "Norm: 0.50, NNZs: 1, Bias: 1.330695, T: 160, Avg. loss: 3.160001\n",
      "Total training time: 0.00 seconds.\n",
      "-- Epoch 9\n",
      "Norm: 0.53, NNZs: 1, Bias: 1.416799, T: 180, Avg. loss: 2.995122\n",
      "Total training time: 0.00 seconds.\n",
      "-- Epoch 10\n",
      "Norm: 0.56, NNZs: 1, Bias: 1.495286, T: 200, Avg. loss: 2.854471\n",
      "Total training time: 0.00 seconds.\n",
      "-- Epoch 11\n",
      "Norm: 0.58, NNZs: 1, Bias: 1.567123, T: 220, Avg. loss: 2.733940\n",
      "Total training time: 0.00 seconds.\n",
      "-- Epoch 12\n",
      "Norm: 0.61, NNZs: 1, Bias: 1.633826, T: 240, Avg. loss: 2.629334\n",
      "Total training time: 0.00 seconds.\n",
      "-- Epoch 13\n",
      "Norm: 0.63, NNZs: 1, Bias: 1.695950, T: 260, Avg. loss: 2.537799\n",
      "Total training time: 0.00 seconds.\n",
      "-- Epoch 14\n",
      "Norm: 0.65, NNZs: 1, Bias: 1.753421, T: 280, Avg. loss: 2.458067\n",
      "Total training time: 0.00 seconds.\n",
      "-- Epoch 15\n",
      "Norm: 0.66, NNZs: 1, Bias: 1.806608, T: 300, Avg. loss: 2.388373\n",
      "Total training time: 0.00 seconds.\n",
      "-- Epoch 16\n",
      "Norm: 0.68, NNZs: 1, Bias: 1.856519, T: 320, Avg. loss: 2.326881\n",
      "Total training time: 0.00 seconds.\n",
      "-- Epoch 17\n",
      "Norm: 0.69, NNZs: 1, Bias: 1.903441, T: 340, Avg. loss: 2.272217\n",
      "Total training time: 0.00 seconds.\n",
      "-- Epoch 18\n",
      "Norm: 0.71, NNZs: 1, Bias: 1.947107, T: 360, Avg. loss: 2.223987\n",
      "Total training time: 0.00 seconds.\n",
      "-- Epoch 19\n",
      "Norm: 0.72, NNZs: 1, Bias: 1.987849, T: 380, Avg. loss: 2.181442\n",
      "Total training time: 0.00 seconds.\n",
      "-- Epoch 20\n",
      "Norm: 0.73, NNZs: 1, Bias: 2.026485, T: 400, Avg. loss: 2.143424\n",
      "Total training time: 0.01 seconds.\n",
      "-- Epoch 21\n",
      "Norm: 0.74, NNZs: 1, Bias: 2.063091, T: 420, Avg. loss: 2.109113\n",
      "Total training time: 0.01 seconds.\n",
      "-- Epoch 22\n",
      "Norm: 0.75, NNZs: 1, Bias: 2.097279, T: 440, Avg. loss: 2.078627\n",
      "Total training time: 0.01 seconds.\n",
      "-- Epoch 23\n",
      "Norm: 0.75, NNZs: 1, Bias: 2.129220, T: 460, Avg. loss: 2.051491\n",
      "Total training time: 0.01 seconds.\n",
      "-- Epoch 24\n",
      "Norm: 0.76, NNZs: 1, Bias: 2.159687, T: 480, Avg. loss: 2.027160\n",
      "Total training time: 0.01 seconds.\n",
      "-- Epoch 25\n",
      "Norm: 0.77, NNZs: 1, Bias: 2.188783, T: 500, Avg. loss: 2.004945\n",
      "Total training time: 0.01 seconds.\n",
      "-- Epoch 26\n",
      "Norm: 0.77, NNZs: 1, Bias: 2.216104, T: 520, Avg. loss: 1.985076\n",
      "Total training time: 0.01 seconds.\n",
      "-- Epoch 27\n",
      "Norm: 0.78, NNZs: 1, Bias: 2.241703, T: 540, Avg. loss: 1.967233\n",
      "Total training time: 0.01 seconds.\n",
      "-- Epoch 28\n",
      "Norm: 0.79, NNZs: 1, Bias: 2.266198, T: 560, Avg. loss: 1.951125\n",
      "Total training time: 0.01 seconds.\n",
      "-- Epoch 29\n",
      "Norm: 0.79, NNZs: 1, Bias: 2.289652, T: 580, Avg. loss: 1.936342\n",
      "Total training time: 0.01 seconds.\n",
      "-- Epoch 30\n",
      "Norm: 0.79, NNZs: 1, Bias: 2.311677, T: 600, Avg. loss: 1.923043\n",
      "Total training time: 0.01 seconds.\n",
      "-- Epoch 31\n",
      "Norm: 0.80, NNZs: 1, Bias: 2.332407, T: 620, Avg. loss: 1.911084\n",
      "Total training time: 0.01 seconds.\n",
      "-- Epoch 32\n",
      "Norm: 0.80, NNZs: 1, Bias: 2.352403, T: 640, Avg. loss: 1.900208\n",
      "Total training time: 0.01 seconds.\n",
      "-- Epoch 33\n",
      "Norm: 0.81, NNZs: 1, Bias: 2.371648, T: 660, Avg. loss: 1.890079\n",
      "Total training time: 0.01 seconds.\n",
      "-- Epoch 34\n",
      "Norm: 0.81, NNZs: 1, Bias: 2.389714, T: 680, Avg. loss: 1.880991\n",
      "Total training time: 0.01 seconds.\n",
      "-- Epoch 35\n",
      "Norm: 0.81, NNZs: 1, Bias: 2.406657, T: 700, Avg. loss: 1.872733\n",
      "Total training time: 0.01 seconds.\n",
      "-- Epoch 36\n",
      "Norm: 0.81, NNZs: 1, Bias: 2.423066, T: 720, Avg. loss: 1.865279\n",
      "Total training time: 0.01 seconds.\n",
      "-- Epoch 37\n",
      "Norm: 0.82, NNZs: 1, Bias: 2.438974, T: 740, Avg. loss: 1.858252\n",
      "Total training time: 0.01 seconds.\n",
      "-- Epoch 38\n",
      "Norm: 0.82, NNZs: 1, Bias: 2.453968, T: 760, Avg. loss: 1.851925\n",
      "Total training time: 0.01 seconds.\n",
      "-- Epoch 39\n",
      "Norm: 0.82, NNZs: 1, Bias: 2.468044, T: 780, Avg. loss: 1.846130\n",
      "Total training time: 0.01 seconds.\n",
      "-- Epoch 40\n",
      "Norm: 0.82, NNZs: 1, Bias: 2.481688, T: 800, Avg. loss: 1.840871\n",
      "Total training time: 0.01 seconds.\n",
      "-- Epoch 41\n",
      "Norm: 0.82, NNZs: 1, Bias: 2.494918, T: 820, Avg. loss: 1.835910\n",
      "Total training time: 0.01 seconds.\n",
      "-- Epoch 42\n",
      "Norm: 0.82, NNZs: 1, Bias: 2.507357, T: 840, Avg. loss: 1.831413\n",
      "Total training time: 0.01 seconds.\n",
      "-- Epoch 43\n",
      "Norm: 0.82, NNZs: 1, Bias: 2.519082, T: 860, Avg. loss: 1.827310\n",
      "Total training time: 0.01 seconds.\n",
      "-- Epoch 44\n",
      "Norm: 0.82, NNZs: 1, Bias: 2.530551, T: 880, Avg. loss: 1.823567\n",
      "Total training time: 0.01 seconds.\n",
      "-- Epoch 45\n",
      "Norm: 0.83, NNZs: 1, Bias: 2.541729, T: 900, Avg. loss: 1.819960\n",
      "Total training time: 0.01 seconds.\n",
      "-- Epoch 46\n",
      "Norm: 0.83, NNZs: 1, Bias: 2.552210, T: 920, Avg. loss: 1.816741\n",
      "Total training time: 0.01 seconds.\n",
      "-- Epoch 47\n",
      "Norm: 0.83, NNZs: 1, Bias: 2.562014, T: 940, Avg. loss: 1.813735\n",
      "Total training time: 0.01 seconds.\n",
      "-- Epoch 48\n",
      "Norm: 0.83, NNZs: 1, Bias: 2.571642, T: 960, Avg. loss: 1.811061\n",
      "Total training time: 0.01 seconds.\n",
      "-- Epoch 49\n",
      "Norm: 0.83, NNZs: 1, Bias: 2.581109, T: 980, Avg. loss: 1.808434\n",
      "Total training time: 0.01 seconds.\n",
      "-- Epoch 50\n",
      "Norm: 0.83, NNZs: 1, Bias: 2.590021, T: 1000, Avg. loss: 1.806087\n",
      "Total training time: 0.01 seconds.\n",
      "-- Epoch 51\n",
      "Norm: 0.83, NNZs: 1, Bias: 2.598358, T: 1020, Avg. loss: 1.803876\n",
      "Total training time: 0.01 seconds.\n",
      "-- Epoch 52\n",
      "Norm: 0.83, NNZs: 1, Bias: 2.606540, T: 1040, Avg. loss: 1.801893\n",
      "Total training time: 0.01 seconds.\n",
      "-- Epoch 53\n",
      "Norm: 0.83, NNZs: 1, Bias: 2.614570, T: 1060, Avg. loss: 1.799957\n",
      "Total training time: 0.01 seconds.\n",
      "-- Epoch 54\n",
      "Norm: 0.83, NNZs: 1, Bias: 2.622094, T: 1080, Avg. loss: 1.798201\n",
      "Total training time: 0.01 seconds.\n",
      "-- Epoch 55\n",
      "Norm: 0.83, NNZs: 1, Bias: 2.629167, T: 1100, Avg. loss: 1.796568\n",
      "Total training time: 0.01 seconds.\n",
      "-- Epoch 56\n",
      "Norm: 0.83, NNZs: 1, Bias: 2.636189, T: 1120, Avg. loss: 1.795101\n",
      "Total training time: 0.01 seconds.\n",
      "-- Epoch 57\n",
      "Norm: 0.83, NNZs: 1, Bias: 2.643121, T: 1140, Avg. loss: 1.793614\n",
      "Total training time: 0.01 seconds.\n",
      "-- Epoch 58\n",
      "Norm: 0.83, NNZs: 1, Bias: 2.649585, T: 1160, Avg. loss: 1.792322\n",
      "Total training time: 0.01 seconds.\n",
      "-- Epoch 59\n",
      "Norm: 0.83, NNZs: 1, Bias: 2.655586, T: 1180, Avg. loss: 1.791054\n",
      "Total training time: 0.01 seconds.\n",
      "-- Epoch 60\n",
      "Norm: 0.82, NNZs: 1, Bias: 2.661570, T: 1200, Avg. loss: 1.789977\n",
      "Total training time: 0.01 seconds.\n",
      "-- Epoch 61\n",
      "Norm: 0.82, NNZs: 1, Bias: 2.667546, T: 1220, Avg. loss: 1.788851\n",
      "Total training time: 0.01 seconds.\n",
      "-- Epoch 62\n",
      "Norm: 0.82, NNZs: 1, Bias: 2.673145, T: 1240, Avg. loss: 1.787871\n",
      "Total training time: 0.01 seconds.\n",
      "-- Epoch 63\n",
      "Norm: 0.82, NNZs: 1, Bias: 2.678340, T: 1260, Avg. loss: 1.786903\n",
      "Total training time: 0.01 seconds.\n",
      "-- Epoch 64\n",
      "Norm: 0.82, NNZs: 1, Bias: 2.683510, T: 1280, Avg. loss: 1.786066\n",
      "Total training time: 0.01 seconds.\n",
      "-- Epoch 65\n",
      "Norm: 0.82, NNZs: 1, Bias: 2.688652, T: 1300, Avg. loss: 1.785207\n",
      "Total training time: 0.01 seconds.\n",
      "-- Epoch 66\n",
      "Norm: 0.82, NNZs: 1, Bias: 2.693434, T: 1320, Avg. loss: 1.784435\n",
      "Total training time: 0.01 seconds.\n",
      "Convergence after 66 epochs took 0.01 seconds\n"
     ]
    },
    {
     "name": "stderr",
     "output_type": "stream",
     "text": [
      "/Users/ikruglov/opt/anaconda3/lib/python3.8/site-packages/sklearn/utils/validation.py:993: DataConversionWarning: A column-vector y was passed when a 1d array was expected. Please change the shape of y to (n_samples, ), for example using ravel().\n",
      "  y = column_or_1d(y, warn=True)\n"
     ]
    }
   ],
   "source": [
    "# Метод градиентного спуска\n",
    "sgd = SGDRegressor(verbose=1)\n",
    "sgd.fit(X,Y)\n",
    "ypred = sgd.predict(X)"
   ]
  },
  {
   "cell_type": "code",
   "execution_count": 417,
   "metadata": {
    "colab": {
     "base_uri": "https://localhost:8080/",
     "height": 265
    },
    "executionInfo": {
     "elapsed": 522,
     "status": "ok",
     "timestamp": 1632953087048,
     "user": {
      "displayName": "Никита Алексеевич Фоминых",
      "photoUrl": "https://lh3.googleusercontent.com/a/default-user=s64",
      "userId": "02155538213776972241"
     },
     "user_tz": -180
    },
    "id": "Jh2_EQkl-dos",
    "outputId": "bcc4ccf4-edb2-4e3c-f855-64d07bd28382"
   },
   "outputs": [
    {
     "data": {
      "image/png": "[encoded data removed]",
      "text/plain": [
       "<Figure size 576x432 with 1 Axes>"
      ]
     },
     "metadata": {
      "needs_background": "light"
     },
     "output_type": "display_data"
    }
   ],
   "source": [
    "fig = plt.figure(figsize=(8,6))\n",
    "plt.plot(X, Y, '*b')\n",
    "plt.plot(X, ypred, '-r')\n",
    "plt.xlabel('Feature')\n",
    "plt.ylabel('Target')\n",
    "plt.show()"
   ]
  },
  {
   "cell_type": "markdown",
   "metadata": {},
   "source": [
    "## Создадим полиномиальные признаки и проведен нормировку данных"
   ]
  },
  {
   "cell_type": "code",
   "execution_count": 418,
   "metadata": {
    "executionInfo": {
     "elapsed": 416,
     "status": "ok",
     "timestamp": 1632953099507,
     "user": {
      "displayName": "Никита Алексеевич Фоминых",
      "photoUrl": "https://lh3.googleusercontent.com/a/default-user=s64",
      "userId": "02155538213776972241"
     },
     "user_tz": -180
    },
    "id": "zmF7WfgL-dou"
   },
   "outputs": [],
   "source": [
    "from sklearn.preprocessing import PolynomialFeatures, StandardScaler"
   ]
  },
  {
   "cell_type": "code",
   "execution_count": 463,
   "metadata": {
    "executionInfo": {
     "elapsed": 282,
     "status": "ok",
     "timestamp": 1632953104832,
     "user": {
      "displayName": "Никита Алексеевич Фоминых",
      "photoUrl": "https://lh3.googleusercontent.com/a/default-user=s64",
      "userId": "02155538213776972241"
     },
     "user_tz": -180
    },
    "id": "D6vGug2--dov"
   },
   "outputs": [],
   "source": [
    "#создание полиномиальных признаков\n",
    "pf = PolynomialFeatures(degree=300)\n",
    "Xpoly = pf.fit_transform(X)\n",
    "\n",
    "Xtest = np.linspace(min(X),max(X),1000).reshape(1000,1)\n",
    "Xtest_poly = pf.transform(Xtest)"
   ]
  },
  {
   "cell_type": "code",
   "execution_count": 464,
   "metadata": {
    "colab": {
     "base_uri": "https://localhost:8080/"
    },
    "executionInfo": {
     "elapsed": 235,
     "status": "ok",
     "timestamp": 1632953109565,
     "user": {
      "displayName": "Никита Алексеевич Фоминых",
      "photoUrl": "https://lh3.googleusercontent.com/a/default-user=s64",
      "userId": "02155538213776972241"
     },
     "user_tz": -180
    },
    "id": "mqq_jRE--dov",
    "outputId": "18866303-f73f-4d88-f7ad-90c5f9dcb633"
   },
   "outputs": [
    {
     "data": {
      "text/plain": [
       "((40, 1), (40, 301))"
      ]
     },
     "execution_count": 464,
     "metadata": {},
     "output_type": "execute_result"
    }
   ],
   "source": [
    "X.shape, Xpoly.shape"
   ]
  },
  {
   "cell_type": "code",
   "execution_count": 465,
   "metadata": {},
   "outputs": [],
   "source": [
    "scaler = StandardScaler()\n",
    "X_scaled = scaler.fit_transform(Xpoly)\n",
    "X_test_scaled = scaler.transform(Xtest_poly)"
   ]
  },
  {
   "cell_type": "code",
   "execution_count": 468,
   "metadata": {
    "colab": {
     "base_uri": "https://localhost:8080/",
     "height": 269
    },
    "executionInfo": {
     "elapsed": 388,
     "status": "ok",
     "timestamp": 1632953111253,
     "user": {
      "displayName": "Никита Алексеевич Фоминых",
      "photoUrl": "https://lh3.googleusercontent.com/a/default-user=s64",
      "userId": "02155538213776972241"
     },
     "user_tz": -180
    },
    "id": "0mriZmSz-dow",
    "outputId": "d429b038-4280-4b26-e5a5-fb55d40a2b34"
   },
   "outputs": [
    {
     "data": {
      "image/png": "[encoded data removed]",
      "text/plain": [
       "<Figure size 576x432 with 1 Axes>"
      ]
     },
     "metadata": {
      "needs_background": "light"
     },
     "output_type": "display_data"
    }
   ],
   "source": [
    "lr = LinearRegression()\n",
    "lr.fit(X_scaled,Y)\n",
    "ypred = lr.predict(X_test_scaled)\n",
    "ytrain_pred = lr.predict(X_scaled)\n",
    "\n",
    "fig = plt.figure(figsize=(8,6))\n",
    "plt.plot(X, Y, '*b')\n",
    "plt.plot(Xtest, ypred, '-r')\n",
    "plt.xlabel('Feature')\n",
    "plt.ylabel('Target')\n",
    "plt.ylim(-2,12)\n",
    "plt.show()"
   ]
  },
  {
   "cell_type": "code",
   "execution_count": 423,
   "metadata": {
    "colab": {
     "base_uri": "https://localhost:8080/"
    },
    "executionInfo": {
     "elapsed": 306,
     "status": "ok",
     "timestamp": 1631782619750,
     "user": {
      "displayName": "Ivan Kruglov",
      "photoUrl": "https://lh3.googleusercontent.com/a/default-user=s64",
      "userId": "17124802062962480602"
     },
     "user_tz": -180
    },
    "id": "1tE6jBCx-dow",
    "outputId": "b21b526b-0197-4901-e008-5921eb58f3b9"
   },
   "outputs": [
    {
     "data": {
      "text/plain": [
       "array([[ 0.00000000e+00,  2.80857624e-01,  4.35904945e+00,\n",
       "         3.65584854e+01,  2.13613944e+01, -2.52418497e+02,\n",
       "        -3.56067663e+02,  2.45042310e+02,  6.46875544e+02,\n",
       "         2.85150402e+02]])"
      ]
     },
     "execution_count": 423,
     "metadata": {},
     "output_type": "execute_result"
    }
   ],
   "source": [
    "lr.coef_"
   ]
  },
  {
   "cell_type": "markdown",
   "metadata": {},
   "source": [
    "## Обучение моделей с регуляризацией"
   ]
  },
  {
   "cell_type": "code",
   "execution_count": 469,
   "metadata": {
    "id": "GCtwVByQ-dox"
   },
   "outputs": [],
   "source": [
    "from sklearn.linear_model import Ridge, Lasso, ElasticNet, RidgeCV, LassoCV, ElasticNetCV"
   ]
  },
  {
   "cell_type": "code",
   "execution_count": 478,
   "metadata": {
    "id": "7w7tdQXG-dox"
   },
   "outputs": [],
   "source": [
    "ridge = Ridge(alpha=1)"
   ]
  },
  {
   "cell_type": "code",
   "execution_count": 479,
   "metadata": {
    "colab": {
     "base_uri": "https://localhost:8080/",
     "height": 433
    },
    "executionInfo": {
     "elapsed": 527,
     "status": "ok",
     "timestamp": 1631782949919,
     "user": {
      "displayName": "Ivan Kruglov",
      "photoUrl": "https://lh3.googleusercontent.com/a/default-user=s64",
      "userId": "17124802062962480602"
     },
     "user_tz": -180
    },
    "id": "y4dr53u6-dox",
    "outputId": "a73d2330-2f05-47a7-a326-19f2f86a4ea7"
   },
   "outputs": [
    {
     "data": {
      "image/png": "[encoded data removed]",
      "text/plain": [
       "<Figure size 576x432 with 1 Axes>"
      ]
     },
     "metadata": {
      "needs_background": "light"
     },
     "output_type": "display_data"
    }
   ],
   "source": [
    "ridge.fit(X_scaled,Y)\n",
    "ypred = ridge.predict(X_test_scaled)\n",
    "ytrain_pred = ridge.predict(X_scaled)\n",
    "\n",
    "fig = plt.figure(figsize=(8,6))\n",
    "plt.plot(X, Y, '*b')\n",
    "plt.plot(Xtest, ypred, '-r')\n",
    "#plt.plot(Xtest, ypred, '-r')\n",
    "plt.show()"
   ]
  },
  {
   "cell_type": "code",
   "execution_count": 431,
   "metadata": {
    "colab": {
     "base_uri": "https://localhost:8080/"
    },
    "executionInfo": {
     "elapsed": 7,
     "status": "ok",
     "timestamp": 1631782785560,
     "user": {
      "displayName": "Ivan Kruglov",
      "photoUrl": "https://lh3.googleusercontent.com/a/default-user=s64",
      "userId": "17124802062962480602"
     },
     "user_tz": -180
    },
    "id": "t6LJQK_3-doy",
    "outputId": "e1ba48ae-ec5c-40f0-bb78-072004f4c9a1"
   },
   "outputs": [
    {
     "data": {
      "text/plain": [
       "array([[ 0.        ,  1.12206457,  1.51592063, -0.45591435, -0.41901748,\n",
       "         0.17259466, -0.18745298, -0.1506588 ,  0.43881829, -0.78450363]])"
      ]
     },
     "execution_count": 431,
     "metadata": {},
     "output_type": "execute_result"
    }
   ],
   "source": [
    "ridge.coef_"
   ]
  },
  {
   "cell_type": "code",
   "execution_count": 435,
   "metadata": {
    "id": "7w7tdQXG-dox"
   },
   "outputs": [],
   "source": [
    "ridgecv = RidgeCV(alphas=np.linspace(1e-2,1,100))"
   ]
  },
  {
   "cell_type": "code",
   "execution_count": 436,
   "metadata": {
    "colab": {
     "base_uri": "https://localhost:8080/",
     "height": 433
    },
    "executionInfo": {
     "elapsed": 527,
     "status": "ok",
     "timestamp": 1631782949919,
     "user": {
      "displayName": "Ivan Kruglov",
      "photoUrl": "https://lh3.googleusercontent.com/a/default-user=s64",
      "userId": "17124802062962480602"
     },
     "user_tz": -180
    },
    "id": "y4dr53u6-dox",
    "outputId": "a73d2330-2f05-47a7-a326-19f2f86a4ea7"
   },
   "outputs": [
    {
     "data": {
      "image/png": "[encoded data removed]",
      "text/plain": [
       "<Figure size 576x432 with 1 Axes>"
      ]
     },
     "metadata": {
      "needs_background": "light"
     },
     "output_type": "display_data"
    }
   ],
   "source": [
    "ridgecv.fit(X_scaled,Y)\n",
    "ypred = ridgecv.predict(X_test_scaled)\n",
    "ytrain_pred = ridgecv.predict(X_scaled)\n",
    "\n",
    "fig = plt.figure(figsize=(8,6))\n",
    "plt.plot(X, Y, '*b')\n",
    "plt.plot(Xtest, ypred, '-r')\n",
    "#plt.plot(Xtest, ypred, '-r')\n",
    "plt.show()"
   ]
  },
  {
   "cell_type": "code",
   "execution_count": 437,
   "metadata": {},
   "outputs": [
    {
     "data": {
      "text/plain": [
       "1.0"
      ]
     },
     "execution_count": 437,
     "metadata": {},
     "output_type": "execute_result"
    }
   ],
   "source": [
    "ridgecv.alpha_"
   ]
  },
  {
   "cell_type": "code",
   "execution_count": 438,
   "metadata": {},
   "outputs": [
    {
     "data": {
      "text/plain": [
       "array([[ 0.        ,  0.89186229,  0.8789838 ,  0.00959729,  0.32707516,\n",
       "        -0.08886417,  0.25611977, -0.1875218 ,  0.29422018, -0.28754956]])"
      ]
     },
     "execution_count": 438,
     "metadata": {},
     "output_type": "execute_result"
    }
   ],
   "source": [
    "ridgecv.coef_"
   ]
  },
  {
   "cell_type": "code",
   "execution_count": 480,
   "metadata": {
    "id": "7w7tdQXG-dox"
   },
   "outputs": [],
   "source": [
    "lassocv = LassoCV(alphas=np.linspace(1e-4,1,100))"
   ]
  },
  {
   "cell_type": "code",
   "execution_count": 481,
   "metadata": {
    "colab": {
     "base_uri": "https://localhost:8080/",
     "height": 433
    },
    "executionInfo": {
     "elapsed": 527,
     "status": "ok",
     "timestamp": 1631782949919,
     "user": {
      "displayName": "Ivan Kruglov",
      "photoUrl": "https://lh3.googleusercontent.com/a/default-user=s64",
      "userId": "17124802062962480602"
     },
     "user_tz": -180
    },
    "id": "y4dr53u6-dox",
    "outputId": "a73d2330-2f05-47a7-a326-19f2f86a4ea7"
   },
   "outputs": [
    {
     "name": "stderr",
     "output_type": "stream",
     "text": [
      "/Users/ikruglov/opt/anaconda3/lib/python3.8/site-packages/sklearn/linear_model/_coordinate_descent.py:1571: DataConversionWarning: A column-vector y was passed when a 1d array was expected. Please change the shape of y to (n_samples, ), for example using ravel().\n",
      "  y = column_or_1d(y, warn=True)\n",
      "/Users/ikruglov/opt/anaconda3/lib/python3.8/site-packages/sklearn/linear_model/_coordinate_descent.py:647: ConvergenceWarning: Objective did not converge. You might want to increase the number of iterations, check the scale of the features or consider increasing regularisation. Duality gap: 1.710e+00, tolerance: 5.669e-03\n",
      "  model = cd_fast.enet_coordinate_descent(\n",
      "/Users/ikruglov/opt/anaconda3/lib/python3.8/site-packages/sklearn/linear_model/_coordinate_descent.py:647: ConvergenceWarning: Objective did not converge. You might want to increase the number of iterations, check the scale of the features or consider increasing regularisation. Duality gap: 5.094e+00, tolerance: 2.502e-02\n",
      "  model = cd_fast.enet_coordinate_descent(\n",
      "/Users/ikruglov/opt/anaconda3/lib/python3.8/site-packages/sklearn/linear_model/_coordinate_descent.py:647: ConvergenceWarning: Objective did not converge. You might want to increase the number of iterations, check the scale of the features or consider increasing regularisation. Duality gap: 5.644e+00, tolerance: 2.390e-02\n",
      "  model = cd_fast.enet_coordinate_descent(\n",
      "/Users/ikruglov/opt/anaconda3/lib/python3.8/site-packages/sklearn/linear_model/_coordinate_descent.py:647: ConvergenceWarning: Objective did not converge. You might want to increase the number of iterations, check the scale of the features or consider increasing regularisation. Duality gap: 4.129e+00, tolerance: 2.380e-02\n",
      "  model = cd_fast.enet_coordinate_descent(\n",
      "/Users/ikruglov/opt/anaconda3/lib/python3.8/site-packages/sklearn/linear_model/_coordinate_descent.py:647: ConvergenceWarning: Objective did not converge. You might want to increase the number of iterations, check the scale of the features or consider increasing regularisation. Duality gap: 1.746e+00, tolerance: 2.307e-02\n",
      "  model = cd_fast.enet_coordinate_descent(\n"
     ]
    },
    {
     "data": {
      "image/png": "[encoded data removed]",
      "text/plain": [
       "<Figure size 576x432 with 1 Axes>"
      ]
     },
     "metadata": {
      "needs_background": "light"
     },
     "output_type": "display_data"
    }
   ],
   "source": [
    "lassocv.fit(X_scaled,Y)\n",
    "ypred = lassocv.predict(X_test_scaled)\n",
    "ytrain_pred = lassocv.predict(X_scaled)\n",
    "\n",
    "fig = plt.figure(figsize=(8,6))\n",
    "plt.plot(X, Y, '*b')\n",
    "plt.plot(Xtest, ypred, '-r')\n",
    "#plt.plot(Xtest, ypred, '-r')\n",
    "plt.show()"
   ]
  },
  {
   "cell_type": "code",
   "execution_count": 482,
   "metadata": {},
   "outputs": [
    {
     "data": {
      "text/plain": [
       "0.0304"
      ]
     },
     "execution_count": 482,
     "metadata": {},
     "output_type": "execute_result"
    }
   ],
   "source": [
    "lassocv.alpha_"
   ]
  },
  {
   "cell_type": "code",
   "execution_count": 483,
   "metadata": {},
   "outputs": [
    {
     "data": {
      "text/plain": [
       "(3.426128115737778,\n",
       " array([ 0.        ,  1.00633584,  2.44799123, -0.        , -0.        ,\n",
       "        -0.15920008, -0.        , -0.        , -0.        , -0.        ,\n",
       "        -0.        , -0.        , -0.        ,  0.        , -0.        ,\n",
       "         0.        , -0.        ,  0.        , -0.        ,  0.        ,\n",
       "        -0.        ,  0.        , -0.        ,  0.        , -0.        ,\n",
       "         0.        , -0.        ,  0.        , -0.        ,  0.        ,\n",
       "        -0.        ,  0.        , -0.        ,  0.        , -0.        ,\n",
       "         0.        , -0.        ,  0.        , -0.        ,  0.        ,\n",
       "        -0.        ,  0.        , -0.        ,  0.        , -0.        ,\n",
       "         0.        , -0.        ,  0.        , -0.        ,  0.        ,\n",
       "        -0.        ,  0.        , -0.        ,  0.        , -0.        ,\n",
       "         0.        , -0.        ,  0.        , -0.        ,  0.        ,\n",
       "        -0.        ,  0.        , -0.        ,  0.        , -0.        ,\n",
       "         0.        , -0.        ,  0.        , -0.        ,  0.        ,\n",
       "        -0.        ,  0.        , -0.        ,  0.        , -0.        ,\n",
       "         0.        , -0.        ,  0.        , -0.        ,  0.        ,\n",
       "        -0.        ,  0.        , -0.        ,  0.        , -0.        ,\n",
       "         0.        , -0.        ,  0.        , -0.        ,  0.        ,\n",
       "        -0.        ,  0.        , -0.        ,  0.        , -0.        ,\n",
       "         0.        , -0.        ,  0.        , -0.        ,  0.        ,\n",
       "        -0.        ,  0.        , -0.        ,  0.        , -0.        ,\n",
       "         0.        , -0.        ,  0.        , -0.        ,  0.        ,\n",
       "        -0.        ,  0.        , -0.        ,  0.        , -0.        ,\n",
       "         0.        , -0.        ,  0.        , -0.        ,  0.        ,\n",
       "        -0.        ,  0.        , -0.        ,  0.        , -0.        ,\n",
       "         0.        , -0.        ,  0.        , -0.        ,  0.        ,\n",
       "        -0.        ,  0.        , -0.        ,  0.        , -0.        ,\n",
       "         0.        , -0.        ,  0.        , -0.        ,  0.        ,\n",
       "        -0.        ,  0.        , -0.        ,  0.        , -0.        ,\n",
       "         0.        , -0.        ,  0.        , -0.        ,  0.        ,\n",
       "        -0.        ,  0.        , -0.        ,  0.        , -0.        ,\n",
       "         0.        , -0.        ,  0.        , -0.        ,  0.        ,\n",
       "        -0.        ,  0.        , -0.        ,  0.        , -0.        ,\n",
       "         0.        , -0.        ,  0.        , -0.        ,  0.        ,\n",
       "        -0.        ,  0.        , -0.        ,  0.        , -0.        ,\n",
       "         0.        , -0.        ,  0.        , -0.        ,  0.        ,\n",
       "        -0.        ,  0.        , -0.        ,  0.        , -0.        ,\n",
       "         0.        , -0.        ,  0.        , -0.        ,  0.        ,\n",
       "        -0.        ,  0.        , -0.        ,  0.        , -0.        ,\n",
       "         0.        , -0.        ,  0.        , -0.        ,  0.        ,\n",
       "        -0.        ,  0.        , -0.        ,  0.        , -0.        ,\n",
       "         0.        , -0.        ,  0.        , -0.        ,  0.        ,\n",
       "        -0.        ,  0.        , -0.        ,  0.        , -0.        ,\n",
       "         0.        , -0.        ,  0.        , -0.        ,  0.        ,\n",
       "        -0.        ,  0.        , -0.        ,  0.        , -0.        ,\n",
       "         0.        , -0.        ,  0.        , -0.        ,  0.        ,\n",
       "        -0.        ,  0.        , -0.        ,  0.        , -0.        ,\n",
       "         0.        , -0.        ,  0.        , -0.        ,  0.        ,\n",
       "        -0.        ,  0.        , -0.        ,  0.        , -0.        ,\n",
       "         0.        , -0.        ,  0.        , -0.        ,  0.        ,\n",
       "        -0.        ,  0.        , -0.        ,  0.        , -0.        ,\n",
       "         0.        , -0.        ,  0.        , -0.        ,  0.        ,\n",
       "        -0.        ,  0.        , -0.        ,  0.        , -0.        ,\n",
       "         0.        , -0.        ,  0.        , -0.        ,  0.        ,\n",
       "        -0.        ,  0.        , -0.        ,  0.        , -0.        ,\n",
       "         0.        , -0.        ,  0.        , -0.        ,  0.        ,\n",
       "        -0.        ,  0.        , -0.        ,  0.        , -0.        ,\n",
       "         0.        , -0.        ,  0.        , -0.        ,  0.        ,\n",
       "        -0.        ,  0.        , -0.        ,  0.        , -0.        ,\n",
       "         0.        , -0.        ,  0.        , -0.        ,  0.        ,\n",
       "        -0.        ]))"
      ]
     },
     "execution_count": 483,
     "metadata": {},
     "output_type": "execute_result"
    }
   ],
   "source": [
    "lassocv.intercept_, lassocv.coef_"
   ]
  },
  {
   "cell_type": "markdown",
   "metadata": {},
   "source": [
    "## Домашнее задание\n",
    "\n",
    "Обучить полиномиальную регрессию, построить зависимость предсказанного от реального значения и рассчитать ошибку (всё для обучающей и тестовой выборок) для датасета сталей и предсказать предел текучести (0.2% Proof Stress (MPa)) на основании состава и температуры. Для большого числа признаков использовать регуляризацию. Постараться достичь минимально возможной ошибки на тестовой выборке. \n",
    "\n",
    "По желанию можно использовать кросс-валидацию для расчет метрики ошибки и поиск по сетке для подбора параметров регуляризации. Также можно самим реализовать алгоритм градиентного спуска и с его помощью рассчитать ошибку."
   ]
  },
  {
   "cell_type": "code",
   "execution_count": null,
   "metadata": {},
   "outputs": [],
   "source": []
  }
 ],
 "metadata": {
  "anaconda-cloud": {},
  "colab": {
   "collapsed_sections": [],
   "name": "Lesson3.ipynb",
   "provenance": []
  },
  "kernelspec": {
   "display_name": "Python 3 (ipykernel)",
   "language": "python",
   "name": "python3"
  },
  "language_info": {
   "codemirror_mode": {
    "name": "ipython",
    "version": 3
   },
   "file_extension": ".py",
   "mimetype": "text/x-python",
   "name": "python",
   "nbconvert_exporter": "python",
   "pygments_lexer": "ipython3",
   "version": "3.8.12"
  }
 },
 "nbformat": 4,
 "nbformat_minor": 1
}
